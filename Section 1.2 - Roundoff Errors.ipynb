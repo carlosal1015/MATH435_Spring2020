{
 "cells": [
  {
   "cell_type": "markdown",
   "metadata": {},
   "source": [
    "# Section 1.2: Round-off Errors and Computer Arithmetic\n",
    "\n",
    "## Floating-point arithmetic\n",
    "\n",
    "Real numbers are stored on a computer following the IEEE floating-point standard:\n",
    "\n",
    "1. **half precision** using 16 bits (Julia type: `Float16`)\n",
    "2. **single precision** using 32 bits (Julia type: `Float32`)\n",
    "3. **double precision** using 64 bits (Julia type: `Float64`)\n",
    "\n",
    "Julia also has an **arbitrary precision** floating-point data type called `BigFloat`. It is excellent if you need more **precision**, but it is also much **slower**."
   ]
  },
  {
   "cell_type": "markdown",
   "metadata": {},
   "source": [
    "## Description of IEEE double floating-point format (`Float64`)\n",
    "\n",
    "Suppose $x$ is a floating-point number stored in the following 64-bits:\n",
    "\n",
    "| 1 | 2 | $\\cdots$ | 12 | 13 | $\\cdots$ | 64 |\n",
    "|:-:|:-:|:--------:|:--:|:--:|:--------:|:--:|\n",
    "|$s$|$e_{10}$| $\\cdots$ |$e_0$|$f_1$|$\\cdots$|$f_{52}$|\n",
    "\n",
    "- 1 bit $s$ represents the **sign**\n",
    "- 11 bits $e_{10} \\cdots e_{0}$ represent the **exponent**\n",
    "- 52 bits $f_1 \\cdots f_{52}$ represent the **fraction** (a.k.a. the mantissa or significand)\n",
    "\n",
    "Then\n",
    "\n",
    "$$ x = (-1)^s \\left[1.f_1 \\cdots f_{52}\\right]_2 \\times 2^{(e-1023)}.$$\n",
    "\n",
    "Notes: \n",
    "\n",
    "- $x$ is **normalized** to have its first digit nonzero.\n",
    "- $$e = \\left[e_{10} \\cdots e_{0}\\right]_2 = e_{10} 2^{10} + \\cdots + e_1 2^1 + e_0 2^0 \\in \\left[0, 2^{11}-1\\right] = [0, 2047]$$\n",
    "- $e = 0$ and $e = 2047$ are reserved for special floating-point values, so \n",
    "\n",
    "$$e \\in [1, 2046]$$\n",
    "\n",
    "- the \"$-1023$\" in the exponent is called the **bias**:  $e-1023 \\in [-1022,1023]$ (**In the book is considered the bias exponent in $[-1023,1024]$**)\n",
    "- $$\\left[1.f_1 \\cdots f_{52}\\right]_2 = 1 + \\frac{f_1}{2^1} + \\frac{f_2}{2^2} + \\cdots + \\frac{f_{52}}{2^{52}}$$\n",
    "in base $2$.\n",
    "\n",
    "![title](Mantissa2.png)"
   ]
  },
  {
   "cell_type": "markdown",
   "metadata": {},
   "source": [
    "## Example\n",
    "\n",
    "$$\n",
    "\\begin{split}\n",
    "x & = -[1.101101]_2 \\times 2^{(1026-1023)} \\\\\n",
    "  & = -[1.101101]_2 \\times 2^{3} \\\\\n",
    "  & = -[1101.101]_2 \\\\\n",
    "  & = -\\left(1 \\cdot 8 + 1 \\cdot 4 + 0 \\cdot 2 + 1 \\cdot 2^0 + 1 \\cdot \\frac{1}{2} + 0 \\cdot \\frac{1}{4} + 1 \\cdot \\frac{1}{8}\\right)  \\\\\n",
    "  & = -13.625\n",
    "\\end{split}\n",
    "$$"
   ]
  },
  {
   "cell_type": "code",
   "execution_count": 1,
   "metadata": {},
   "outputs": [
    {
     "name": "stdout",
     "output_type": "stream",
     "text": [
      "search: \u001b[1mb\u001b[22m\u001b[1mi\u001b[22m\u001b[1mt\u001b[22m\u001b[1ms\u001b[22m is\u001b[1mb\u001b[22m\u001b[1mi\u001b[22m\u001b[1mt\u001b[22m\u001b[1ms\u001b[22m flip\u001b[1mb\u001b[22m\u001b[1mi\u001b[22m\u001b[1mt\u001b[22m\u001b[1ms\u001b[22m! \u001b[1mb\u001b[22m\u001b[1mi\u001b[22m\u001b[1mt\u001b[22mbroadca\u001b[1ms\u001b[22mt \u001b[1mb\u001b[22m\u001b[1mi\u001b[22m\u001b[1mt\u001b[22mrand \u001b[1mB\u001b[22m\u001b[1mi\u001b[22m\u001b[1mt\u001b[22mArray \u001b[1mB\u001b[22m\u001b[1mi\u001b[22m\u001b[1mt\u001b[22mVector \u001b[1mB\u001b[22m\u001b[1mi\u001b[22m\u001b[1mt\u001b[22mMatrix\n",
      "\n"
     ]
    },
    {
     "data": {
      "text/markdown": [
       "```\n",
       "bits(n)\n",
       "```\n",
       "\n",
       "A string giving the literal bit representation of a number.\n",
       "\n",
       "```jldoctest\n",
       "julia> bits(4)\n",
       "\"0000000000000000000000000000000000000000000000000000000000000100\"\n",
       "\n",
       "julia> bits(2.2)\n",
       "\"0100000000000001100110011001100110011001100110011001100110011010\"\n",
       "```\n"
      ],
      "text/plain": [
       "```\n",
       "bits(n)\n",
       "```\n",
       "\n",
       "A string giving the literal bit representation of a number.\n",
       "\n",
       "```jldoctest\n",
       "julia> bits(4)\n",
       "\"0000000000000000000000000000000000000000000000000000000000000100\"\n",
       "\n",
       "julia> bits(2.2)\n",
       "\"0100000000000001100110011001100110011001100110011001100110011010\"\n",
       "```\n"
      ]
     },
     "execution_count": 1,
     "metadata": {},
     "output_type": "execute_result"
    }
   ],
   "source": [
    "?bits"
   ]
  },
  {
   "cell_type": "code",
   "execution_count": 2,
   "metadata": {},
   "outputs": [
    {
     "data": {
      "text/plain": [
       "('1', \"10000000010\", \"1011010000000000000000000000000000000000000000000000\")"
      ]
     },
     "execution_count": 2,
     "metadata": {},
     "output_type": "execute_result"
    }
   ],
   "source": [
    "s = bits(-13.625)\n",
    "s[1], s[2:12], s[13:64]"
   ]
  },
  {
   "cell_type": "markdown",
   "metadata": {},
   "source": [
    "## Example\n",
    "\n",
    "Even if a number can be represented exactly in base-10 with a finite number of digits, it may require an infinite number of digits in base-2.\n",
    "\n",
    "$$\n",
    "0.1 = \\left[0.000110011001\\ldots\\right]_2 = \\left[1.\\overline{1001}\\right]_2 \\times 2^{-4}\n",
    "$$\n",
    "\n",
    "Therefore, $0.1$ cannot be represented exactly as a floating-point number."
   ]
  },
  {
   "cell_type": "code",
   "execution_count": 11,
   "metadata": {},
   "outputs": [
    {
     "data": {
      "text/plain": [
       "('0',\"01111111011\",\"1001100110011001100110011001100110011001100110011010\")"
      ]
     },
     "execution_count": 11,
     "metadata": {},
     "output_type": "execute_result"
    }
   ],
   "source": [
    "s = bits(0.1)\n",
    "s[1], s[2:12], s[13:64]"
   ]
  },
  {
   "cell_type": "markdown",
   "metadata": {},
   "source": [
    "## Limits of floating-point numbers\n",
    "\n",
    "- **Largest** `Float64` $= \\left(2 - 2^{-52}\\right) \\times 2^{1023} \\approx 2 \\times 10^{308}$\n",
    "- **Smallest positive normalized** `Float64` $= 2^{-1022} \\approx 2 \\times 10^{-308}$"
   ]
  },
  {
   "cell_type": "code",
   "execution_count": 3,
   "metadata": {},
   "outputs": [
    {
     "name": "stdout",
     "output_type": "stream",
     "text": [
      "search: \u001b[1mr\u001b[22m\u001b[1me\u001b[22m\u001b[1ma\u001b[22m\u001b[1ml\u001b[22m\u001b[1mm\u001b[22m\u001b[1ma\u001b[22m\u001b[1mx\u001b[22m \u001b[1mr\u001b[22m\u001b[1me\u001b[22m\u001b[1ma\u001b[22m\u001b[1ml\u001b[22m\u001b[1mm\u001b[22min \u001b[1mr\u001b[22m\u001b[1me\u001b[22m\u001b[1ma\u001b[22mdd\u001b[1ml\u001b[22m\u001b[1mm\u001b[22m \u001b[1mR\u001b[22m\u001b[1me\u001b[22m\u001b[1ma\u001b[22mdOn\u001b[1ml\u001b[22my\u001b[1mM\u001b[22memoryError\n",
      "\n"
     ]
    },
    {
     "data": {
      "text/markdown": [
       "```\n",
       "realmax(T)\n",
       "```\n",
       "\n",
       "The highest finite value representable by the given floating-point DataType `T`.\n",
       "\n",
       "```jldoctest\n",
       "julia> realmax(Float16)\n",
       "Float16(6.55e4)\n",
       "\n",
       "julia> realmax(Float32)\n",
       "3.4028235f38\n",
       "```\n"
      ],
      "text/plain": [
       "```\n",
       "realmax(T)\n",
       "```\n",
       "\n",
       "The highest finite value representable by the given floating-point DataType `T`.\n",
       "\n",
       "```jldoctest\n",
       "julia> realmax(Float16)\n",
       "Float16(6.55e4)\n",
       "\n",
       "julia> realmax(Float32)\n",
       "3.4028235f38\n",
       "```\n"
      ]
     },
     "execution_count": 3,
     "metadata": {},
     "output_type": "execute_result"
    }
   ],
   "source": [
    "?realmax"
   ]
  },
  {
   "cell_type": "code",
   "execution_count": 4,
   "metadata": {},
   "outputs": [
    {
     "data": {
      "text/plain": [
       "1.7976931348623157e308"
      ]
     },
     "execution_count": 4,
     "metadata": {},
     "output_type": "execute_result"
    }
   ],
   "source": [
    "# Experiment with realmax\n",
    "x = realmax(Float64)"
   ]
  },
  {
   "cell_type": "code",
   "execution_count": 2,
   "metadata": {},
   "outputs": [
    {
     "data": {
      "text/plain": [
       "('0',\"11111111110\",\"1111111111111111111111111111111111111111111111111111\")"
      ]
     },
     "execution_count": 2,
     "metadata": {},
     "output_type": "execute_result"
    }
   ],
   "source": [
    "s = bits(x)\n",
    "s[1], s[2:12], s[13:64]"
   ]
  },
  {
   "cell_type": "code",
   "execution_count": 3,
   "metadata": {},
   "outputs": [
    {
     "data": {
      "text/plain": [
       "Inf"
      ]
     },
     "execution_count": 3,
     "metadata": {},
     "output_type": "execute_result"
    }
   ],
   "source": [
    "2x"
   ]
  },
  {
   "cell_type": "code",
   "execution_count": 4,
   "metadata": {},
   "outputs": [
    {
     "data": {
      "text/plain": [
       "0.0"
      ]
     },
     "execution_count": 4,
     "metadata": {},
     "output_type": "execute_result"
    }
   ],
   "source": [
    "(x + 1) - x"
   ]
  },
  {
   "cell_type": "code",
   "execution_count": 5,
   "metadata": {
    "scrolled": true
   },
   "outputs": [
    {
     "name": "stdout",
     "output_type": "stream",
     "text": [
      "search: \u001b[1mr\u001b[22m\u001b[1me\u001b[22m\u001b[1ma\u001b[22m\u001b[1ml\u001b[22m\u001b[1mm\u001b[22m\u001b[1mi\u001b[22m\u001b[1mn\u001b[22m \u001b[1mr\u001b[22m\u001b[1me\u001b[22m\u001b[1ma\u001b[22m\u001b[1ml\u001b[22m\u001b[1mm\u001b[22max \u001b[1mr\u001b[22m\u001b[1me\u001b[22m\u001b[1ma\u001b[22mdd\u001b[1ml\u001b[22m\u001b[1mm\u001b[22m \u001b[1mR\u001b[22m\u001b[1me\u001b[22m\u001b[1ma\u001b[22mdOn\u001b[1ml\u001b[22my\u001b[1mM\u001b[22memoryError\n",
      "\n"
     ]
    },
    {
     "data": {
      "text/markdown": [
       "```\n",
       "realmin(T)\n",
       "```\n",
       "\n",
       "The smallest in absolute value non-subnormal value representable by the given floating-point DataType `T`.\n"
      ],
      "text/plain": [
       "```\n",
       "realmin(T)\n",
       "```\n",
       "\n",
       "The smallest in absolute value non-subnormal value representable by the given floating-point DataType `T`.\n"
      ]
     },
     "execution_count": 5,
     "metadata": {},
     "output_type": "execute_result"
    }
   ],
   "source": [
    "?realmin"
   ]
  },
  {
   "cell_type": "code",
   "execution_count": 6,
   "metadata": {},
   "outputs": [
    {
     "data": {
      "text/plain": [
       "2.2250738585072014e-308"
      ]
     },
     "execution_count": 6,
     "metadata": {},
     "output_type": "execute_result"
    }
   ],
   "source": [
    "# Experiment with realmin\n",
    "x = realmin(Float64)"
   ]
  },
  {
   "cell_type": "code",
   "execution_count": 7,
   "metadata": {},
   "outputs": [
    {
     "data": {
      "text/plain": [
       "('0', \"00000000001\", \"0000000000000000000000000000000000000000000000000000\")"
      ]
     },
     "execution_count": 7,
     "metadata": {},
     "output_type": "execute_result"
    }
   ],
   "source": [
    "s = bits(x)\n",
    "s[1], s[2:12], s[13:64]"
   ]
  },
  {
   "cell_type": "code",
   "execution_count": 8,
   "metadata": {},
   "outputs": [
    {
     "data": {
      "text/plain": [
       "0.0"
      ]
     },
     "execution_count": 8,
     "metadata": {},
     "output_type": "execute_result"
    }
   ],
   "source": [
    "(x + 1.0) - 1.0"
   ]
  },
  {
   "cell_type": "markdown",
   "metadata": {},
   "source": [
    "## Other special floats\n",
    "\n",
    "- `0.0` and `-0.0`: $$e_{10} \\cdots e_0 = 0 \\cdots 0 \\quad \\text{and} \\quad f_1 \\cdots f_{52} = 0 \\cdots 0$$\n",
    "- `Inf` and `-Inf`: $$e_{10} \\cdots e_0 = 1 \\cdots 1 \\quad \\text{and} \\quad f_1 \\cdots f_{52} = 0 \\cdots 0$$\n",
    "- `NaN` (not-a-number): $$e_{10} \\cdots e_0 = 1 \\cdots 1 \\quad \\text{and} \\quad f_1 \\cdots f_{52} \\neq 0$$\n",
    "\n",
    "From [Julia Manual: Mathematical Operations and Elementary Functions](http://julia.readthedocs.org/en/latest/manual/mathematical-operations/):\n",
    "\n",
    "- `Inf` is equal to itself and greater than everything else except `NaN`.\n",
    "- `-Inf` is equal to itself and less then everything else except `NaN`.\n",
    "- `NaN` is not equal to, not less than, and not greater than anything, including itself."
   ]
  },
  {
   "cell_type": "code",
   "execution_count": 9,
   "metadata": {},
   "outputs": [
    {
     "data": {
      "text/plain": [
       "Inf"
      ]
     },
     "execution_count": 9,
     "metadata": {},
     "output_type": "execute_result"
    }
   ],
   "source": [
    "# Experiment with 0.0, -0.0, Inf, -Inf, and NaN\n",
    "\n",
    "1.0/0.0"
   ]
  },
  {
   "cell_type": "code",
   "execution_count": 10,
   "metadata": {},
   "outputs": [
    {
     "ename": "LoadError",
     "evalue": "DomainError:\nsqrt will only return a complex result if called with a complex argument. Try sqrt(complex(x)).",
     "output_type": "error",
     "traceback": [
      "DomainError:\nsqrt will only return a complex result if called with a complex argument. Try sqrt(complex(x)).",
      "",
      "Stacktrace:",
      " [1] \u001b[1msqrt\u001b[22m\u001b[22m\u001b[1m(\u001b[22m\u001b[22m::Float64\u001b[1m)\u001b[22m\u001b[22m at \u001b[1m./math.jl:425\u001b[22m\u001b[22m",
      " [2] \u001b[1minclude_string\u001b[22m\u001b[22m\u001b[1m(\u001b[22m\u001b[22m::String, ::String\u001b[1m)\u001b[22m\u001b[22m at \u001b[1m./loading.jl:515\u001b[22m\u001b[22m"
     ]
    }
   ],
   "source": [
    "sqrt(-1.0)"
   ]
  },
  {
   "cell_type": "code",
   "execution_count": 11,
   "metadata": {},
   "outputs": [
    {
     "data": {
      "text/plain": [
       "0.0 + 1.0im"
      ]
     },
     "execution_count": 11,
     "metadata": {},
     "output_type": "execute_result"
    }
   ],
   "source": [
    "sqrt(-1.0 + 0.0im)"
   ]
  },
  {
   "cell_type": "code",
   "execution_count": 12,
   "metadata": {},
   "outputs": [
    {
     "data": {
      "text/plain": [
       "false"
      ]
     },
     "execution_count": 12,
     "metadata": {},
     "output_type": "execute_result"
    }
   ],
   "source": [
    "-0.0 < 0.0"
   ]
  },
  {
   "cell_type": "code",
   "execution_count": 13,
   "metadata": {},
   "outputs": [
    {
     "data": {
      "text/plain": [
       "\"1000000000000000000000000000000000000000000000000000000000000000\""
      ]
     },
     "execution_count": 13,
     "metadata": {},
     "output_type": "execute_result"
    }
   ],
   "source": [
    "bits(-0.0)"
   ]
  },
  {
   "cell_type": "code",
   "execution_count": 14,
   "metadata": {},
   "outputs": [
    {
     "data": {
      "text/plain": [
       "\"0000000000000000000000000000000000000000000000000000000000000000\""
      ]
     },
     "execution_count": 14,
     "metadata": {},
     "output_type": "execute_result"
    }
   ],
   "source": [
    "bits(0.0)"
   ]
  },
  {
   "cell_type": "code",
   "execution_count": 15,
   "metadata": {},
   "outputs": [
    {
     "data": {
      "text/plain": [
       "true"
      ]
     },
     "execution_count": 15,
     "metadata": {},
     "output_type": "execute_result"
    }
   ],
   "source": [
    "-0.0 == 0.0"
   ]
  },
  {
   "cell_type": "code",
   "execution_count": 16,
   "metadata": {},
   "outputs": [
    {
     "data": {
      "text/plain": [
       "false"
      ]
     },
     "execution_count": 16,
     "metadata": {},
     "output_type": "execute_result"
    }
   ],
   "source": [
    "-0.0 === 0.0"
   ]
  },
  {
   "cell_type": "code",
   "execution_count": 17,
   "metadata": {},
   "outputs": [
    {
     "data": {
      "text/plain": [
       "false"
      ]
     },
     "execution_count": 17,
     "metadata": {},
     "output_type": "execute_result"
    }
   ],
   "source": [
    "NaN == NaN"
   ]
  },
  {
   "cell_type": "code",
   "execution_count": 27,
   "metadata": {},
   "outputs": [
    {
     "data": {
      "text/plain": [
       "true"
      ]
     },
     "execution_count": 27,
     "metadata": {},
     "output_type": "execute_result"
    }
   ],
   "source": [
    "NaN === NaN"
   ]
  },
  {
   "cell_type": "code",
   "execution_count": 28,
   "metadata": {},
   "outputs": [
    {
     "data": {
      "text/plain": [
       "\"0111111111111000000000000000000000000000000000000000000000000000\""
      ]
     },
     "execution_count": 28,
     "metadata": {},
     "output_type": "execute_result"
    }
   ],
   "source": [
    "bits(NaN)"
   ]
  },
  {
   "cell_type": "code",
   "execution_count": 29,
   "metadata": {},
   "outputs": [
    {
     "data": {
      "text/plain": [
       "-Inf"
      ]
     },
     "execution_count": 29,
     "metadata": {},
     "output_type": "execute_result"
    }
   ],
   "source": [
    "-1.0/0.0"
   ]
  },
  {
   "cell_type": "code",
   "execution_count": 30,
   "metadata": {},
   "outputs": [
    {
     "data": {
      "text/plain": [
       "-Inf"
      ]
     },
     "execution_count": 30,
     "metadata": {},
     "output_type": "execute_result"
    }
   ],
   "source": [
    "1.0/-0.0"
   ]
  },
  {
   "cell_type": "code",
   "execution_count": 31,
   "metadata": {},
   "outputs": [
    {
     "data": {
      "text/plain": [
       "NaN"
      ]
     },
     "execution_count": 31,
     "metadata": {},
     "output_type": "execute_result"
    }
   ],
   "source": [
    "0.0/0.0"
   ]
  },
  {
   "cell_type": "code",
   "execution_count": 32,
   "metadata": {},
   "outputs": [
    {
     "data": {
      "text/plain": [
       "0.0"
      ]
     },
     "execution_count": 32,
     "metadata": {},
     "output_type": "execute_result"
    }
   ],
   "source": [
    "0.0/Inf"
   ]
  },
  {
   "cell_type": "code",
   "execution_count": 33,
   "metadata": {},
   "outputs": [
    {
     "data": {
      "text/plain": [
       "Inf"
      ]
     },
     "execution_count": 33,
     "metadata": {},
     "output_type": "execute_result"
    }
   ],
   "source": [
    "Inf/0.0"
   ]
  },
  {
   "cell_type": "code",
   "execution_count": 34,
   "metadata": {},
   "outputs": [
    {
     "data": {
      "text/plain": [
       "NaN"
      ]
     },
     "execution_count": 34,
     "metadata": {},
     "output_type": "execute_result"
    }
   ],
   "source": [
    "Inf/Inf"
   ]
  },
  {
   "cell_type": "code",
   "execution_count": 35,
   "metadata": {},
   "outputs": [
    {
     "data": {
      "text/plain": [
       "NaN"
      ]
     },
     "execution_count": 35,
     "metadata": {},
     "output_type": "execute_result"
    }
   ],
   "source": [
    "NaN + 1.0"
   ]
  },
  {
   "cell_type": "markdown",
   "metadata": {},
   "source": [
    "## Machine epsilon `eps(Float64)` and the unit roundoff $\\eta$\n",
    "\n",
    "- `1.0 + eps(Float64)` is the **first** `Float64` that is **larger** than `1.0`\n",
    "\n",
    "$$\\mathtt{eps(Float64)} = 2^{-52} \\approx 2.2 \\times 10^{-16}$$\n",
    "\n",
    "- $\\eta = $ `eps(Float64)/2.0` is the largest possible **relative error** due to roundoff\n",
    "\n",
    "$$\\eta = 2^{-53} \\approx 1.1 \\times 10^{-16}$$"
   ]
  },
  {
   "cell_type": "code",
   "execution_count": 36,
   "metadata": {},
   "outputs": [
    {
     "name": "stdout",
     "output_type": "stream",
     "text": [
      "search: \u001b[1me\u001b[22m\u001b[1mp\u001b[22m\u001b[1ms\u001b[22m R\u001b[1me\u001b[22m\u001b[1mp\u001b[22m\u001b[1mS\u001b[22mtring @\u001b[1me\u001b[22mla\u001b[1mp\u001b[22m\u001b[1ms\u001b[22med ind\u001b[1me\u001b[22mx\u001b[1mp\u001b[22mid\u001b[1ms\u001b[22m \u001b[1me\u001b[22mx\u001b[1mp\u001b[22mandu\u001b[1ms\u001b[22mer \u001b[1me\u001b[22msca\u001b[1mp\u001b[22me_\u001b[1ms\u001b[22mtring s\u001b[1me\u001b[22mt\u001b[1mp\u001b[22mreci\u001b[1ms\u001b[22mion\n",
      "\n"
     ]
    },
    {
     "data": {
      "text/markdown": [
       "```\n",
       "eps(T)\n",
       "```\n",
       "\n",
       "The distance between 1.0 and the next larger representable floating-point value of `DataType` `T`. Only floating-point types are sensible arguments.\n",
       "\n",
       "```\n",
       "eps()\n",
       "```\n",
       "\n",
       "The distance between 1.0 and the next larger representable floating-point value of `Float64`.\n",
       "\n",
       "```\n",
       "eps(x)\n",
       "```\n",
       "\n",
       "The distance between `x` and the next larger representable floating-point value of the same `DataType` as `x`.\n",
       "\n",
       "```\n",
       "eps(::DateTime) -> Millisecond\n",
       "eps(::Date) -> Day\n",
       "```\n",
       "\n",
       "Returns `Millisecond(1)` for `DateTime` values and `Day(1)` for `Date` values.\n"
      ],
      "text/plain": [
       "```\n",
       "eps(T)\n",
       "```\n",
       "\n",
       "The distance between 1.0 and the next larger representable floating-point value of `DataType` `T`. Only floating-point types are sensible arguments.\n",
       "\n",
       "```\n",
       "eps()\n",
       "```\n",
       "\n",
       "The distance between 1.0 and the next larger representable floating-point value of `Float64`.\n",
       "\n",
       "```\n",
       "eps(x)\n",
       "```\n",
       "\n",
       "The distance between `x` and the next larger representable floating-point value of the same `DataType` as `x`.\n",
       "\n",
       "```\n",
       "eps(::DateTime) -> Millisecond\n",
       "eps(::Date) -> Day\n",
       "```\n",
       "\n",
       "Returns `Millisecond(1)` for `DateTime` values and `Day(1)` for `Date` values.\n"
      ]
     },
     "execution_count": 36,
     "metadata": {},
     "output_type": "execute_result"
    }
   ],
   "source": [
    "?eps"
   ]
  },
  {
   "cell_type": "code",
   "execution_count": 39,
   "metadata": {},
   "outputs": [
    {
     "data": {
      "text/plain": [
       "2.220446049250313e-16"
      ]
     },
     "execution_count": 39,
     "metadata": {},
     "output_type": "execute_result"
    }
   ],
   "source": [
    "# Experiment with eps\n",
    "ϵ = eps()"
   ]
  },
  {
   "cell_type": "code",
   "execution_count": 42,
   "metadata": {},
   "outputs": [
    {
     "data": {
      "text/plain": [
       "false"
      ]
     },
     "execution_count": 42,
     "metadata": {},
     "output_type": "execute_result"
    }
   ],
   "source": [
    "1.0 + ϵ == 1.0"
   ]
  },
  {
   "cell_type": "code",
   "execution_count": 41,
   "metadata": {},
   "outputs": [
    {
     "data": {
      "text/plain": [
       "true"
      ]
     },
     "execution_count": 41,
     "metadata": {},
     "output_type": "execute_result"
    }
   ],
   "source": [
    "1.0 + ϵ/2.0 == 1.0"
   ]
  },
  {
   "cell_type": "code",
   "execution_count": 45,
   "metadata": {},
   "outputs": [
    {
     "data": {
      "text/plain": [
       "2.220446049250313e-16"
      ]
     },
     "execution_count": 45,
     "metadata": {},
     "output_type": "execute_result"
    }
   ],
   "source": [
    "nextfloat(1.0) - 1.0"
   ]
  },
  {
   "cell_type": "markdown",
   "metadata": {},
   "source": [
    "## Roundoff error example\n",
    "\n",
    "Suppose we are using a base-10 floating-point system with 4 significant digits, using `RoundNearest`:\n",
    "\n",
    "$$\n",
    "\\begin{split}\n",
    "\\left( 1.112 \\times 10^1 \\right) \\times \\left( 1.112 \\times 10^2 \\right)\n",
    "& = 1.236544 \\times 10^3 \\\\\n",
    "& \\rightarrow 1.237 \\times 10^3 = 1237\n",
    "\\end{split}\n",
    "$$\n",
    "\n",
    "The **absolute error** is $1237 - 1236.544 = 0.456$.\n",
    "\n",
    "The **relative error** is $$\\frac{0.456}{1236.544} \\approx 0.0004 = 0.04 \\%$$"
   ]
  },
  {
   "cell_type": "code",
   "execution_count": 118,
   "metadata": {},
   "outputs": [
    {
     "data": {
      "image/png": "[encoded data removed]",
      "text/plain": [
       "PyPlot.Figure(PyObject <matplotlib.figure.Figure object at 0x32efa3590>)"
      ]
     },
     "metadata": {},
     "output_type": "display_data"
    }
   ],
   "source": [
    "# Study the effect of roundoff error by plotting \n",
    "# the absolute error and relative error of converting \n",
    "# Float64 numbers to Float32\n",
    "\n",
    "η = eps(Float32)/2.0\n",
    "\n",
    "x = Array(linspace(-10.0, 10.0, 10000))\n",
    "y = map(Float32, x)     # Convert x to Float32\n",
    "abserr = abs(x - y)     # Absolute roundoff errors\n",
    "relerr = abserr./abs(x) # Relative roundoff errors\n",
    "\n",
    "using PyPlot\n",
    "\n",
    "subplot(1, 2, 1)\n",
    "plot(x, abserr)\n",
    "ylim(0.0, maximum(abserr))\n",
    "title(\"Absolute error\")\n",
    "\n",
    "subplot(1, 2, 2)\n",
    "plot(x, relerr)\n",
    "plot(x, η*ones(x), \"r\")\n",
    "ylim(0.0, maximum(abserr))\n",
    "title(\"Relative error\");"
   ]
  },
  {
   "cell_type": "markdown",
   "metadata": {},
   "source": [
    "The default rounding mode is `RoundNearest` (round to the nearest floating-point number). This implies that\n",
    "\n",
    "$$ \\frac{|x - \\mathrm{fl}(x)|}{|x|} \\leq \\eta.$$"
   ]
  },
  {
   "cell_type": "markdown",
   "metadata": {},
   "source": [
    "## Roundoff error accumulation\n",
    "\n",
    "When performing arithmetic operations on floats, extra **guard digits** are used to ensure **exact rounding**. This guarantees that the relative error of a floating-point operation (**flop**) is small. More precisely, for floating-point numbers $x$ and $y$, we have\n",
    "\n",
    "$$\n",
    "\\begin{split}\n",
    "\\mathrm{fl}(x \\pm y) &= (x \\pm y)(1 + \\varepsilon_1) \\\\\n",
    "\\mathrm{fl}(x \\times y) &= (x \\times y)(1 + \\varepsilon_2) \\\\\n",
    "\\mathrm{fl}(x \\div y) &= (x \\div y)(1 + \\varepsilon_3) \\\\\n",
    "\\end{split}\n",
    "$$\n",
    "\n",
    "where $|\\varepsilon_i| \\leq \\eta$, for $i = 1,2,3$, where $\\eta$ is the unit roundoff.\n",
    "\n",
    "Although the relative error of each flop is small, it is possible to have the roundoff error accumulate and create significant error in the final result. If $E_n$ is the error after $n$ flops, then:\n",
    "\n",
    "- **linear roundoff error accumulation** is when $E_n \\approx c_0 n E_0$\n",
    "- **exponential roundoff error accumulation** is when $E_n \\approx c_1^n E_0$, for some $c_1 > 1$\n",
    "\n",
    "In general, linear roundoff error accumulation is unavoidable. On the other hand, exponential roundoff error accumulation is not acceptable and is an indication of an **unstable algorithm**. "
   ]
  },
  {
   "cell_type": "markdown",
   "metadata": {},
   "source": [
    "## General advice\n",
    "\n",
    "1. Adding $x + y$ when $|x| \\gg |y|$ can cause the information in $y$ to be 'lost' in the summation.\n",
    "\n",
    "2. Dividing by very small numbers or multiplying by very large numbers can **magnify error**.\n",
    "\n",
    "3. Subtracting numbers that are almost equal produces **cancellation error**.\n",
    "\n",
    "4. An **overflow** occurs when the result is too large in magnitude to be representable as a float. Result will become either `Inf` or `-Inf`. Overflows should be avoided.\n",
    "\n",
    "4. An **underflow** occurs when the result is too small in magnitude to be representable as a float. Result will become either `0.0` or `-0.0`.\n"
   ]
  },
  {
   "cell_type": "markdown",
   "metadata": {},
   "source": [
    "## Example (summation order)\n",
    "\n",
    "This next example shows that summation order can make a difference. We will compute\n",
    "\n",
    "$$\n",
    "s = \\sum_{n = 1}^{1,000,000} \\frac{1}{n}\n",
    "$$\n",
    "\n",
    "in three different ways:"
   ]
  },
  {
   "cell_type": "code",
   "execution_count": 19,
   "metadata": {},
   "outputs": [
    {
     "data": {
      "text/plain": [
       "18.997896413852555"
      ]
     },
     "execution_count": 19,
     "metadata": {},
     "output_type": "execute_result"
    }
   ],
   "source": [
    "# Sum from largest to smallest\n",
    "s1 = 0.0\n",
    "for n = 1:1e8\n",
    "    s1 += 1.0/n\n",
    "end\n",
    "s1"
   ]
  },
  {
   "cell_type": "code",
   "execution_count": 20,
   "metadata": {},
   "outputs": [
    {
     "data": {
      "text/plain": [
       "18.997896413853447"
      ]
     },
     "execution_count": 20,
     "metadata": {},
     "output_type": "execute_result"
    }
   ],
   "source": [
    "# Sum from smallest to largest\n",
    "s2 = 0.0\n",
    "for n = 1e8:-1:1\n",
    "    s2 += 1.0/n\n",
    "end\n",
    "s2"
   ]
  },
  {
   "cell_type": "code",
   "execution_count": 21,
   "metadata": {},
   "outputs": [
    {
     "data": {
      "text/plain": [
       "18.99789641384885"
      ]
     },
     "execution_count": 21,
     "metadata": {},
     "output_type": "execute_result"
    }
   ],
   "source": [
    "# Sum largest to smallest and so on\n",
    "s3 = 0.0\n",
    "for n = 1:(1e8)/2\n",
    "    s3 += 1.0/n + 1/(1e8-n+1)\n",
    "end\n",
    "s3"
   ]
  },
  {
   "cell_type": "code",
   "execution_count": 24,
   "metadata": {},
   "outputs": [
    {
     "data": {
      "text/plain": [
       "4.693841433563712e-14"
      ]
     },
     "execution_count": 24,
     "metadata": {},
     "output_type": "execute_result"
    }
   ],
   "source": [
    "abs(s1 - s2)/s1"
   ]
  },
  {
   "cell_type": "code",
   "execution_count": 25,
   "metadata": {},
   "outputs": [
    {
     "data": {
      "text/plain": [
       "1.9504687709987854e-13"
      ]
     },
     "execution_count": 25,
     "metadata": {},
     "output_type": "execute_result"
    }
   ],
   "source": [
    "abs(s1 - s3)/s1"
   ]
  },
  {
   "cell_type": "markdown",
   "metadata": {},
   "source": [
    "## Example (cancellation error)\n",
    "\n",
    "Show that \n",
    "\n",
    "$$\n",
    "\\ln\\left( x - \\sqrt{x^2-1} \\right) = -\\ln\\left( x + \\sqrt{x^2-1} \\right).\n",
    "$$\n",
    "\n",
    "Which formula is more suitable for numerical computation?"
   ]
  },
  {
   "cell_type": "code",
   "execution_count": 26,
   "metadata": {},
   "outputs": [
    {
     "name": "stdout",
     "output_type": "stream",
     "text": [
      "-18.714973875118524\n",
      "-18.420680743952367\n"
     ]
    }
   ],
   "source": [
    "# Experiment with both formulas\n",
    "x = 1e8/2\n",
    "f1 = log(x - sqrt(x^2 - 1))\n",
    "f2 = -log(x + sqrt(x^2 - 1))\n",
    "\n",
    "println(f1)\n",
    "println(f2)"
   ]
  },
  {
   "cell_type": "code",
   "execution_count": 27,
   "metadata": {},
   "outputs": [
    {
     "data": {
      "text/plain": [
       "0.015725008922262945"
      ]
     },
     "execution_count": 27,
     "metadata": {},
     "output_type": "execute_result"
    }
   ],
   "source": [
    "abs(f1 - f2)/abs(f1)"
   ]
  },
  {
   "cell_type": "markdown",
   "metadata": {},
   "source": [
    "## Example (four-digit rounding arithmetic)\n",
    "The quadratic formula to find the roots of \n",
    "### $$x^2+bx+c=0\\qquad \\mbox{are}\\qquad x_1=\\frac{-b+\\sqrt{b^2-4c}}{2} \\quad \\mbox{and} \\quad x_2=\\frac{-b-\\sqrt{b^2-4c}}{2}.$$\n",
    "Using four-digit rounding arithmetic; consider this formula applied to the equation \n",
    "### $$x^2+62.10x+1=0$$ \n",
    "whose roots are\n",
    "### $$x_1=-0.01610723 \\quad \\mbox{and} \\quad x_2=-62.08390.$$ \n",
    "Here, $b$ and $\\sqrt{b^2-4c}$ are nearly equal numbers, since $b^2$ is much larger than $4a$. So,\n",
    "### $$\\sqrt{b^2-4c}=\\sqrt{(62.10)^2-(4.000)(1.000)}=\\sqrt{3856-4.000}=\\sqrt{3852}=62.06$$\n",
    "and \n",
    "### $$\\mathrm{fl}(x_1)=\\frac{-62.10+62.06}{2}=-0.02000,$$\n",
    "a poor approximation of $x_1=-0.01610723$ with **relative error** \n",
    "### $$2.4\\times 10^{-1}.$$\n",
    "To obtain a more accurate four-digit rounding approximation for $x_1$, we change the quadratic formula by rationalizing the numerator:\n",
    "### $$x_1=\\frac{-b+\\sqrt{b^2-4c}}{2}\\left(\\frac{-b-\\sqrt{b^2-4c}}{-b-\\sqrt{b^2-4c}}\\right)=\\frac{-2c}{b+\\sqrt{b^2-4c}}.$$\n",
    "In this case: \n",
    "### $$\\mathrm{fl}(x_1)=\\frac{-2.000}{62.10+62.06}=\\frac{-2.000}{124.2}=-0.01610,$$ \n",
    "which has the small **relative error** \n",
    "### $$6.2\\times 10^{-4}.$$\n",
    "However, this rationalization technique can lead the large **relative error**  \n",
    "### $$1.9\\times 10^{-1}.$$ \n",
    "for $\\mathrm{fl}(x_2)$. Note that the formula \n",
    "### $$x_2=\\frac{-2c}{b-\\sqrt{b^2-4c}} \\qquad \\mbox{and} \\qquad \\mathrm{fl}(x_2)=-50.00.$$\n",
    "The **absolute error** is $12$!!! \n",
    "\n",
    "## $$\n",
    "\\mbox{The lesson: Think before you compute!}\n",
    "$$\n",
    "\n",
    "Accuracy loss due to round-off error can also be reduced by reduce calculations.\n",
    "\n",
    "## Example (evaluate a polynomial): \n",
    "Evaluate $f(x)= x^3 − 6.1x^2 + 3.2x + 1.5$ at $x = 4.71$ using three-digit arithmetic.\n",
    "\n",
    "**Exact:** $$f (4.71) = 104.487111 − 135.32301 + 15.072 + 1.5 = −14.263899.$$\n",
    "\n",
    "**Three-digit (rounding)**: $$f (4.71) = ((105. - 135.) + 15.1) + 1.5 = −13.4.$$\n",
    "\n",
    "An alternative approach is: (**Nested or Ruffini Algorithm**)\n",
    "\n",
    "$$f(x)=x^3 −6.1x^2 +3.2x+1.5=((x−6.1)x+3.2)x+1.5.$$\n",
    "Using **three-digit rounding** arithmetic now produces\n",
    "\n",
    "$$\\begin{align}f (4.71) &= ((4.71 - 6.1)4.71 + 3.2)4.71 + 1.5 \\\\&= ((−1.39)(4.71) + 3.2)4.71 + 1.5 \\\\&= (-6.55 + 3.2)4.71 + 1.5 \\\\&= (-3.35)4.71 + 1.5 \\\\&= −15.8 + 1.5\\\\ &= -14.3.\\end{align}$$"
   ]
  },
  {
   "cell_type": "code",
   "execution_count": null,
   "metadata": {
    "collapsed": true
   },
   "outputs": [],
   "source": []
  }
 ],
 "metadata": {
  "anaconda-cloud": {},
  "kernelspec": {
   "display_name": "Julia 0.6.0",
   "language": "julia",
   "name": "julia-0.6"
  },
  "language_info": {
   "file_extension": ".jl",
   "mimetype": "application/julia",
   "name": "julia",
   "version": "0.6.0"
  }
 },
 "nbformat": 4,
 "nbformat_minor": 1
}
