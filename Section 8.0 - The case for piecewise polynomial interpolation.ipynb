{
 "cells": [
  {
   "cell_type": "markdown",
   "metadata": {},
   "source": [
    "---\n",
    "# 8.0 The case for piecewise polynomial interpolation\n",
    "---"
   ]
  },
  {
   "cell_type": "markdown",
   "metadata": {},
   "source": [
    "In Chapter 3, we studied how to fit a single polynomial $p_n(x)$ to a function $f$ over an interval $[a,b]$ by requiring \n",
    "   \n",
    "$$p_n(x_i) = f(x_i), \\quad i = 0,1,\\ldots,n,$$\n",
    "   \n",
    "for some $x_0,\\ldots,x_n \\in [a,b]$. There are several shortcomings of this **global** approach:\n",
    "   \n",
    "1. We have seen that the error\n",
    "\n",
    "    $$f(x) - p_n(x) = \\frac{f^{(n+1)}(\\xi)}{(n+1)!} \\prod_{i=0}^n(x-x_i)$$\n",
    "\n",
    "    may be large if $\\frac{\\left\\|f^{(n+1)}\\right\\|}{(n+1)!}$ is large.\n",
    "\n",
    "2. High order polynomials \"wiggle\" too much.\n",
    "\n",
    "3. Polynomials are infinitely smooth, but the function $f$ may not have this property.\n",
    "\n",
    "4. Changing even just a single data point may dramatically change the entire interpolating polynomial."
   ]
  },
  {
   "cell_type": "markdown",
   "metadata": {},
   "source": [
    "In this chapter, we will take a **local** approach. We will break the interval $[a,b]$ into $r$ subintervals $[t_{i-1}, t_{i}]$ using the **break points** (also called **knots**):\n",
    "\n",
    "$$a = t_0 < t_1 < \\cdots < t_r = b.$$\n",
    "\n",
    "Over each subinterval $[t_{i-1}, t_{i}]$, we will approximate $f$ with a low-order polynomial:\n",
    "\n",
    "1. **Linear**:\n",
    "\n",
    "    $$p_i(x) = a_i + b_i x, \\quad x \\in [t_{i-1}, t_{i}]$$\n",
    "   \n",
    "2. **Cubic**:\n",
    "\n",
    "    $$p_i(x) = a_i + b_ix + c_ix^2 + d_ix^3, \\quad x \\in [t_{i-1}, t_{i}]$$\n",
    "   \n",
    "We get the **piecewise polynomial** function\n",
    "\n",
    "$$\n",
    "p(x) = \n",
    "\\begin{cases}\n",
    "p_1(x),& \\text{if $x \\in [t_0,t_1)$},\\\\\n",
    "p_2(x),& \\text{if $x \\in [t_1,t_2)$},\\\\\n",
    "\\vdots\\\\\n",
    "p_{r}(x),& \\text{if $x \\in [t_{r-1},t_r]$},\\\\\n",
    "\\end{cases}\n",
    "$$\n",
    "\n",
    "which gives us a **global** approximation of $f(x)$ over $[a,b]$."
   ]
  },
  {
   "cell_type": "markdown",
   "metadata": {},
   "source": [
    "---"
   ]
  },
  {
   "cell_type": "markdown",
   "metadata": {},
   "source": [
    "## Example\n",
    "\n",
    "Let's approximate $f(x) = e^x$ over $[-1,1]$ using piecewise constant and piecewise linear functions using evenly-spaced interpolation points."
   ]
  },
  {
   "cell_type": "code",
   "execution_count": 1,
   "metadata": {},
   "outputs": [
    {
     "data": {
      "image/png": "[encoded data removed]",
      "text/plain": [
       "PyPlot.Figure(PyObject <matplotlib.figure.Figure object at 0x123caa410>)"
      ]
     },
     "metadata": {},
     "output_type": "display_data"
    }
   ],
   "source": [
    "using PyPlot\n",
    "\n",
    "# Define f, a, b, n\n",
    "f(x) = exp.(x)\n",
    "a, b, n = -1., 1., 10\n",
    "\n",
    "# Create n evenly spaced interpolation points in [a,b]\n",
    "xi = linspace(a, b, n)\n",
    "fxi = f(xi)\n",
    "\n",
    "# Plot y = f(x)\n",
    "x = linspace(a, b, 1000)\n",
    "plot(x, f(x), \"b\")\n",
    "\n",
    "# Piecewise linear\n",
    "plot(xi, f(xi), \"ro-\")\n",
    "\n",
    "# Piecewise constant\n",
    "#tip1 = (xi[1]+xi[2])/2\n",
    "#plot([xi[1], tip1], [fxi[1], fxi[1]], \"k\")\n",
    "#plot(xi[1], fxi[1], \"ko\")\n",
    "#plot(tip1, fxi[1], \"wo\")\n",
    "#for i=2:n-1\n",
    "    #ti = (xi[i-1]+xi[i])/2\n",
    "    #tip1 = (xi[i]+xi[i+1])/2\n",
    "    #plot([ti, tip1], [fxi[i], fxi[i]], \"k\")\n",
    "    #plot(ti, fxi[i], \"ko\")\n",
    "   # plot(tip1, fxi[i], \"wo\")\n",
    "#end\n",
    "#ti = (xi[n-1]+xi[n])/2\n",
    "#plot([ti, xi[n]], [fxi[n], fxi[n]], \"ko-\");"
   ]
  },
  {
   "cell_type": "markdown",
   "metadata": {},
   "source": [
    "---"
   ]
  }
 ],
 "metadata": {
  "kernelspec": {
   "display_name": "Julia 0.6.0",
   "language": "julia",
   "name": "julia-0.6"
  },
  "language_info": {
   "file_extension": ".jl",
   "mimetype": "application/julia",
   "name": "julia",
   "version": "0.6.0"
  }
 },
 "nbformat": 4,
 "nbformat_minor": 1
}
