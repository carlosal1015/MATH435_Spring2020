{
 "cells": [
  {
   "cell_type": "markdown",
   "metadata": {},
   "source": [
    "---\n",
    "# 3.4 Hermite Interpolation\n",
    "---"
   ]
  },
  {
   "cell_type": "markdown",
   "metadata": {},
   "source": [
    "## Hermite cubic interpolation\n",
    "\n",
    "Suppose we want to find a polynomial $p(x)$ that satisfies\n",
    "\n",
    "$$\n",
    "\\begin{align}\n",
    "p(x_0) &= f(x_0), \\quad p'(x_0) = f'(x_0),\\\\\n",
    "p(x_1) &= f(x_1), \\quad p'(x_1) = f'(x_1).\\\\\n",
    "\\end{align}\n",
    "$$\n",
    "\n",
    "We can use these four equations to solve for the four coefficients of a cubic polynomial\n",
    "\n",
    "$$p(x) = c_0 + c_1x + c_2x^2 + c_3x^3.$$\n",
    "\n",
    "Note that \n",
    "\n",
    "$$p'(x) = c_1 + 2c_2x + 3c_3x^2.$$\n",
    "\n",
    "Using the monomial basis $\\left\\{1, x, x^2, x^3\\right\\}$ we have the linear system:\n",
    "\n",
    "$$\n",
    "\\begin{bmatrix}\n",
    "1 & x_0 & x_0^2 &   x_0^3 \\\\\n",
    "1 & x_1 & x_1^2 &   x_1^3 \\\\\n",
    "0 &   1 & 2 x_0 & 3 x_0^2 \\\\\n",
    "0 &   1 & 2 x_1 & 3 x_1^2 \\\\\n",
    "\\end{bmatrix}\n",
    "\\begin{bmatrix}\n",
    "c_0\\\\c_1\\\\c_2\\\\c_3\\\\\n",
    "\\end{bmatrix}\n",
    "=\n",
    "\\begin{bmatrix}\n",
    "f(x_0)\\\\f(x_1)\\\\f'(x_0)\\\\f'(x_1)\\\\\n",
    "\\end{bmatrix}.\n",
    "$$\n"
   ]
  },
  {
   "cell_type": "markdown",
   "metadata": {},
   "source": [
    "---"
   ]
  },
  {
   "cell_type": "markdown",
   "metadata": {},
   "source": [
    "## Example\n",
    "\n",
    "Suppose that \n",
    "\n",
    "$$\n",
    "\\begin{align}\n",
    "f(0) &= 0, \\quad f'(0) = 1,\\\\\n",
    "f(1) &= 0, \\quad f'(1) = 0.\\\\\n",
    "\\end{align}\n",
    "$$\n",
    "\n",
    "Then we need to solve\n",
    "\n",
    "$$\n",
    "\\begin{bmatrix}\n",
    "1 & 0 & 0 &   0 \\\\\n",
    "1 & 1 & 1 &   1 \\\\\n",
    "0 &   1 & 0 & 0 \\\\\n",
    "0 &   1 & 2 & 3 \\\\\n",
    "\\end{bmatrix}\n",
    "\\begin{bmatrix}\n",
    "c_0\\\\c_1\\\\c_2\\\\c_3\\\\\n",
    "\\end{bmatrix}\n",
    "=\n",
    "\\begin{bmatrix}\n",
    "0\\\\0\\\\1\\\\0\\\\\n",
    "\\end{bmatrix}.\n",
    "$$"
   ]
  },
  {
   "cell_type": "code",
   "execution_count": 1,
   "metadata": {},
   "outputs": [
    {
     "data": {
      "text/plain": [
       "4-element Array{Float64,1}:\n",
       "  0.0\n",
       "  1.0\n",
       " -2.0\n",
       "  1.0"
      ]
     },
     "execution_count": 1,
     "metadata": {},
     "output_type": "execute_result"
    }
   ],
   "source": [
    "A = [\n",
    "    1 0 0 0; \n",
    "    1 1 1 1;\n",
    "    0 1 0 0;\n",
    "    0 1 2 3;\n",
    "]\n",
    "\n",
    "b = [0, 0, 1, 0]\n",
    "\n",
    "c = A\\b"
   ]
  },
  {
   "cell_type": "markdown",
   "metadata": {},
   "source": [
    "Therefore, the polynomial is\n",
    "\n",
    "$$p(x) = x - 2x^2 + x^3.$$"
   ]
  },
  {
   "cell_type": "code",
   "execution_count": 2,
   "metadata": {},
   "outputs": [
    {
     "data": {
      "image/png": "[encoded data removed]",
      "text/plain": [
       "PyPlot.Figure(PyObject <matplotlib.figure.Figure object at 0x311a88d10>)"
      ]
     },
     "metadata": {},
     "output_type": "display_data"
    }
   ],
   "source": [
    "using PyPlot\n",
    "\n",
    "x = linspace(0, 1, 1000)\n",
    "y = x - 2x.^2 + x.^3\n",
    "\n",
    "plot(x, y)\n",
    "axis(\"equal\")\n",
    "axhline(color=\"k\")\n",
    "xlim(0, 1);"
   ]
  },
  {
   "cell_type": "markdown",
   "metadata": {},
   "source": [
    "---"
   ]
  },
  {
   "cell_type": "markdown",
   "metadata": {},
   "source": [
    "## Using divided differences\n",
    "\n",
    "Another approach is to use Newton's form and divided differences.\n",
    "\n",
    "We will use the convention that \n",
    "\n",
    "$$f[x_i,x_i] = f'(x_i).$$\n",
    "\n",
    "Thus, we just need to complete the following table.\n",
    "\n",
    "$$\n",
    "\\begin{array}{c|cccc}\n",
    "x_i & f[\\cdot] & f[\\cdot,\\cdot] & f[\\cdot,\\cdot,\\cdot] & f[\\cdot,\\cdot,\\cdot,\\cdot]\\\\ \n",
    "\\hline\n",
    "x_0 & f(x_0) & & \\\\\n",
    "x_0 & f(x_0) & f'(x_0) & \\\\\n",
    "x_1 & f(x_1) & f[x_0,x_1] & f[x_0,x_0,x_1] \\\\\n",
    "x_1 & f(x_1) & f'(x_1) & f[x_0,x_1,x_1] & f[x_0,x_0,x_1,x_1] \\\\\n",
    "\\end{array}\n",
    "$$\n",
    "\n",
    "\n",
    "Then \n",
    "\n",
    "$$p(x) = f(x_0) + f'(x_0)(x-x_0) + f[x_0,x_0,x_1](x-x_0)^2 + f[x_0,x_0,x_1,x_1](x-x_0)^2(x-x_1).$$\n"
   ]
  },
  {
   "cell_type": "markdown",
   "metadata": {},
   "source": [
    "---"
   ]
  },
  {
   "cell_type": "markdown",
   "metadata": {},
   "source": [
    "## Example\n",
    "\n",
    "Again using\n",
    "\n",
    "$$\n",
    "\\begin{align}\n",
    "f(0) &= 0, \\quad f'(0) = 1,\\\\\n",
    "f(1) &= 0, \\quad f'(1) = 0,\\\\\n",
    "\\end{align}\n",
    "$$\n",
    "\n",
    "we have the following table.\n",
    "\n",
    "$$\n",
    "\\begin{array}{c|cccc}\n",
    "x_i & f[\\cdot] & f[\\cdot,\\cdot] & f[\\cdot,\\cdot,\\cdot] & f[\\cdot,\\cdot,\\cdot,\\cdot]\\\\ \n",
    "\\hline\n",
    "0 & 0 & & \\\\\n",
    "0 & 0 & 1 & \\\\\n",
    "1 & 0 & f[x_0,x_1] & f[x_0,x_0,x_1] \\\\\n",
    "1 & 0 & 0 & f[x_0,x_1,x_1] & f[x_0,x_0,x_1,x_1] \\\\\n",
    "\\end{array}\n",
    "$$"
   ]
  },
  {
   "cell_type": "markdown",
   "metadata": {},
   "source": [
    "$$\n",
    "\\begin{array}{c|cccc}\n",
    "x_i & f[\\cdot] & f[\\cdot,\\cdot] & f[\\cdot,\\cdot,\\cdot] & f[\\cdot,\\cdot,\\cdot,\\cdot]\\\\ \n",
    "\\hline\n",
    "0 & 0 & & \\\\\n",
    "0 & 0 & 1 & \\\\\n",
    "1 & 0 & 0 & \\frac{0-1}{1-0} \\\\\n",
    "1 & 0 & 0 & \\frac{0-0}{1-0} & f[x_0,x_0,x_1,x_1] \\\\\n",
    "\\end{array}\n",
    "$$"
   ]
  },
  {
   "cell_type": "markdown",
   "metadata": {},
   "source": [
    "$$\n",
    "\\begin{array}{c|cccc}\n",
    "x_i & f[\\cdot] & f[\\cdot,\\cdot] & f[\\cdot,\\cdot,\\cdot] & f[\\cdot,\\cdot,\\cdot,\\cdot]\\\\ \n",
    "\\hline\n",
    "0 & 0 & & \\\\\n",
    "0 & 0 & 1 & \\\\\n",
    "1 & 0 & 0 & -1 \\\\\n",
    "1 & 0 & 0 & 0 & \\frac{0-(-1)}{1-0} \\\\\n",
    "\\end{array}\n",
    "$$"
   ]
  },
  {
   "cell_type": "markdown",
   "metadata": {},
   "source": [
    "$$\n",
    "\\begin{array}{c|cccc}\n",
    "x_i & f[\\cdot] & f[\\cdot,\\cdot] & f[\\cdot,\\cdot,\\cdot] & f[\\cdot,\\cdot,\\cdot,\\cdot]\\\\ \n",
    "\\hline\n",
    "0 & 0 & & \\\\\n",
    "0 & 0 & 1 & \\\\\n",
    "1 & 0 & 0 & -1 \\\\\n",
    "1 & 0 & 0 & 0 & 1 \\\\\n",
    "\\end{array}\n",
    "$$"
   ]
  },
  {
   "cell_type": "markdown",
   "metadata": {},
   "source": [
    "Thus,\n",
    "\n",
    "$$\n",
    "\\begin{align}\n",
    "p(x) \n",
    "&= 0 + 1\\cdot(x-0) + (-1)\\cdot(x-0)^2 + 1\\cdot(x-0)^2(x-1)\\\\\n",
    "&= x - x^2 + x^2(x-1)\\\\\n",
    "&= x - 2x^2 + x^3,\\\\\n",
    "\\end{align}\n",
    "$$\n",
    "\n",
    "which agrees with our solution above."
   ]
  },
  {
   "cell_type": "markdown",
   "metadata": {},
   "source": [
    "---"
   ]
  },
  {
   "cell_type": "markdown",
   "metadata": {},
   "source": [
    "## An interactive Hermite cubic"
   ]
  },
  {
   "cell_type": "code",
   "execution_count": 3,
   "metadata": {},
   "outputs": [
    {
     "data": {
      "text/plain": [
       "hermite (generic function with 1 method)"
      ]
     },
     "execution_count": 3,
     "metadata": {},
     "output_type": "execute_result"
    }
   ],
   "source": [
    "using PyPlot\n",
    "\n",
    "function hermite(x0, x1, f0, f1, fp0, fp1)\n",
    "    \n",
    "    A = [\n",
    "        1 x0  x0^2  x0^3;\n",
    "        1 x1  x1^2  x1^3;\n",
    "        0  1 2x0   3x0^2;\n",
    "        0  1 2x1   3x1^2;\n",
    "    ]\n",
    "    b = [f0, f1, fp0, fp1]\n",
    "    c = A\\b\n",
    "    \n",
    "    xx = linspace(x0, x1, 1000)\n",
    "    #yy = c[1] + c[2]*xx + c[3]*xx.^2 + c[4]*xx.^3\n",
    "    yy = ((c[4]*xx + c[3]).*xx + c[2]).*xx + c[1]\n",
    "        \n",
    "    h = .1\n",
    "    \n",
    "    plot(xx, yy, \"b\")\n",
    "    plot([x0, x0+h], [f0, f0+h*fp0], \"r\")\n",
    "    plot([x1, x1+h], [f1, f1+h*fp1], \"r\")\n",
    "    plot([x0,x1,x0+h,x1+h], [f0,f1,f0+h*fp0,f1+h*fp1], \"ro\")\n",
    "    #(x0 < x1) ? xlim(x0, x1) : xlim(x1, x0)\n",
    "    \n",
    "    return nothing\n",
    "end"
   ]
  },
  {
   "cell_type": "code",
   "execution_count": 8,
   "metadata": {},
   "outputs": [
    {
     "data": {
      "image/png": "[encoded data removed]",
      "text/plain": [
       "PyPlot.Figure(PyObject <matplotlib.figure.Figure object at 0x31e59ce90>)"
      ]
     },
     "metadata": {},
     "output_type": "display_data"
    }
   ],
   "source": [
    "x0, x1, f0, f1, fp0, fp1 = 1., 2., -2., -1.5, -2., -2.\n",
    "hermite(x0, x1, f0, f1, fp0, fp1)"
   ]
  },
  {
   "cell_type": "markdown",
   "metadata": {},
   "source": [
    "---"
   ]
  }
 ],
 "metadata": {
  "kernelspec": {
   "display_name": "Julia 0.6.0",
   "language": "julia",
   "name": "julia-0.6"
  },
  "language_info": {
   "file_extension": ".jl",
   "mimetype": "application/julia",
   "name": "julia",
   "version": "0.6.0"
  }
 },
 "nbformat": 4,
 "nbformat_minor": 1
}
