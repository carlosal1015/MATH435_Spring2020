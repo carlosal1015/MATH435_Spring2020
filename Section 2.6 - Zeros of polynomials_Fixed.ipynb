{
 "cells": [
  {
   "cell_type": "markdown",
   "metadata": {},
   "source": [
    "---\n",
    "\n",
    "# 2.6 Zeros of polynomials and Horner's method \n",
    "\n",
    "---"
   ]
  },
  {
   "cell_type": "markdown",
   "metadata": {},
   "source": [
    "A polynomial of degree $n$ has the form\n",
    "$$P(x)=P_n(x)=a_nx^n+a_{n-1}x^{n-1}+\\cdots +a_1x+a_0$$\n",
    "where the $a_i$’s, called the coefficients of $P_n$ and $a_n\\neq 0$. \n",
    "\n",
    "The problem is as follows: Find $x$ such that\n",
    "\n",
    "$$P(x) = 0.$$"
   ]
  },
  {
   "cell_type": "markdown",
   "metadata": {},
   "source": [
    "> ### Fundamental Theorem of Algebra\n",
    "> If $P(x)$ is a polynomial of degree $n \\ge 1$ with real or complex coefficients, \n",
    ">then $P(x) = 0$ has at least one ( possibly complex) root."
   ]
  },
  {
   "cell_type": "markdown",
   "metadata": {},
   "source": [
    "## Example: \n",
    "Determine all the zeros of the polynomial $P(x) = x^3 - 5x^2 + 17x - 13$.\n",
    "\n",
    "Note that $P(1)=0.$"
   ]
  },
  {
   "cell_type": "code",
   "execution_count": 1,
   "metadata": {},
   "outputs": [
    {
     "data": {
      "text/plain": [
       "P (generic function with 1 method)"
      ]
     },
     "execution_count": 1,
     "metadata": {},
     "output_type": "execute_result"
    }
   ],
   "source": [
    "P(x) = x^3 - 5x^2 + 17x - 13"
   ]
  },
  {
   "cell_type": "code",
   "execution_count": 3,
   "metadata": {},
   "outputs": [
    {
     "data": {
      "image/png": "[encoded data removed]",
      "text/plain": [
       "Figure(PyObject <Figure size 640x480 with 1 Axes>)"
      ]
     },
     "metadata": {},
     "output_type": "display_data"
    }
   ],
   "source": [
    "using PyPlot\n",
    "x = range(-5, stop=10, length=1000)\n",
    "plot(x, P.(x))\n",
    "hlines(0, -5, 10)\n",
    "plot(1, 0, \"ro\")\n",
    "xlim(-5, 10);"
   ]
  },
  {
   "cell_type": "markdown",
   "metadata": {},
   "source": [
    "## Horner's Method\n",
    "To use Newton’s method, we need to evaluate $P(x)$ and $P^\\prime(x)$ at specified values. \n",
    "\n",
    "Computational efficiency requires that the evaluation of polynomials be done in the **nested** manner discussed before. Horner’s (Ruffini) method incorporates this nesting technique, and, as a consequence, requires only $n$ multiplications and $n$ additions to evaluate an arbitrary $n$th-degree polynomial."
   ]
  },
  {
   "cell_type": "markdown",
   "metadata": {},
   "source": [
    ">## Theorem (Horner’s Method)\n",
    ">Let $$P(x)=a_nx^n+a_{n-1}x^{n-1}+\\cdots +a_1x+a_0.$$\n",
    "Define $b_n = a_n$ and\n",
    "$$ b_k =a_k +b_{k+1}x_0,\\qquad k=n−1,n−2,\\ldots,1,0.$$\n",
    "Then $b_0 = P(x_0)$. Moreover, if\n",
    "$$Q(x)=b_nx^{n−1} +b_{n−1}x^{n−2} +\\cdots+b_2x+b_1,$$\n",
    "then $$P(x)=(x-x_0)Q(x)+b_0.$$"
   ]
  },
  {
   "cell_type": "code",
   "execution_count": 4,
   "metadata": {},
   "outputs": [],
   "source": [
    "using Polynomials"
   ]
  },
  {
   "cell_type": "code",
   "execution_count": 5,
   "metadata": {},
   "outputs": [
    {
     "name": "stdout",
     "output_type": "stream",
     "text": [
      "search: \u001b[0m\u001b[1mP\u001b[22m\u001b[0m\u001b[1mo\u001b[22m\u001b[0m\u001b[1ml\u001b[22m\u001b[0m\u001b[1my\u001b[22m\u001b[0m\u001b[1mn\u001b[22m\u001b[0m\u001b[1mo\u001b[22m\u001b[0m\u001b[1mm\u001b[22m\u001b[0m\u001b[1mi\u001b[22m\u001b[0m\u001b[1ma\u001b[22m\u001b[0m\u001b[1ml\u001b[22m\u001b[0m\u001b[1ms\u001b[22m\n",
      "\n"
     ]
    },
    {
     "data": {
      "text/latex": [
       "No documentation found.\n",
       "\n",
       "No docstring found for module \\texttt{Polynomials}.\n",
       "\n"
      ],
      "text/markdown": [
       "No documentation found.\n",
       "\n",
       "No docstring found for module `Polynomials`.\n"
      ],
      "text/plain": [
       "  No documentation found.\n",
       "\n",
       "  No docstring found for module \u001b[36mPolynomials\u001b[39m."
      ]
     },
     "execution_count": 5,
     "metadata": {},
     "output_type": "execute_result"
    }
   ],
   "source": [
    "? Polynomials"
   ]
  },
  {
   "cell_type": "code",
   "execution_count": 6,
   "metadata": {},
   "outputs": [
    {
     "data": {
      "text/html": [
       "&#45;13 &#43; 17&#8729;x &#45; 5&#8729;x<sup>2</sup> &#43; x<sup>3</sup>"
      ],
      "text/latex": [
       "$-13 + 17\\cdot x - 5\\cdot x^{2} + x^{3}$"
      ],
      "text/plain": [
       "Poly(-13 + 17*x - 5*x^2 + x^3)"
      ]
     },
     "execution_count": 6,
     "metadata": {},
     "output_type": "execute_result"
    }
   ],
   "source": [
    "Poly([-13,17,-5,1])"
   ]
  },
  {
   "cell_type": "code",
   "execution_count": 7,
   "metadata": {},
   "outputs": [
    {
     "data": {
      "text/plain": [
       "3-element Array{Complex{Float64},1}:\n",
       " 0.15384615384615374 - 0.23076923076923064im\n",
       " 0.15384615384615374 + 0.23076923076923064im\n",
       "  1.0000000000000007 + 0.0im                "
      ]
     },
     "execution_count": 7,
     "metadata": {},
     "output_type": "execute_result"
    }
   ],
   "source": [
    "roots(Poly([1, -5, 17, -13]))"
   ]
  },
  {
   "cell_type": "code",
   "execution_count": 8,
   "metadata": {},
   "outputs": [
    {
     "data": {
      "text/plain": [
       "1.683"
      ]
     },
     "execution_count": 8,
     "metadata": {},
     "output_type": "execute_result"
    }
   ],
   "source": [
    "p = Poly([1, -5, 17, -13])\n",
    "polyval(p, -0.1)"
   ]
  },
  {
   "cell_type": "code",
   "execution_count": 9,
   "metadata": {},
   "outputs": [
    {
     "data": {
      "text/plain": [
       "horner (generic function with 1 method)"
      ]
     },
     "execution_count": 9,
     "metadata": {},
     "output_type": "execute_result"
    }
   ],
   "source": [
    "function horner(coefs, x)\n",
    "    s = copy(coefs[end])\n",
    "    for k in length(coefs)-1:-1:1\n",
    "        s = copy(coefs[k]) + x * s  # b_k = a_k + x_0*b_{k+1}\n",
    "    end\n",
    "    return s\n",
    "end"
   ]
  },
  {
   "cell_type": "code",
   "execution_count": 10,
   "metadata": {},
   "outputs": [
    {
     "data": {
      "text/html": [
       "1 &#45; 5&#8729;x &#43; 17&#8729;x<sup>2</sup> &#45; 13&#8729;x<sup>3</sup>"
      ],
      "text/latex": [
       "$1 - 5\\cdot x + 17\\cdot x^{2} - 13\\cdot x^{3}$"
      ],
      "text/plain": [
       "Poly(1 - 5*x + 17*x^2 - 13*x^3)"
      ]
     },
     "execution_count": 10,
     "metadata": {},
     "output_type": "execute_result"
    }
   ],
   "source": [
    "Poly([1, -5, 17, -13])"
   ]
  },
  {
   "cell_type": "code",
   "execution_count": 11,
   "metadata": {},
   "outputs": [
    {
     "data": {
      "text/plain": [
       "1.683"
      ]
     },
     "execution_count": 11,
     "metadata": {},
     "output_type": "execute_result"
    }
   ],
   "source": [
    "horner([1, -5, 17, -13], -0.1)"
   ]
  },
  {
   "cell_type": "code",
   "execution_count": 20,
   "metadata": {},
   "outputs": [
    {
     "name": "stdout",
     "output_type": "stream",
     "text": [
      "  0.002947 seconds (5 allocations: 176 bytes)\n",
      "  0.002949 seconds (5 allocations: 176 bytes)\n",
      "  0.002935 seconds (5 allocations: 176 bytes)\n"
     ]
    },
    {
     "data": {
      "text/plain": [
       "0.7842767176684162"
      ]
     },
     "execution_count": 20,
     "metadata": {},
     "output_type": "execute_result"
    }
   ],
   "source": [
    "# We are beating JULIA!!!\n",
    "coefs=rand(1000001)\n",
    "p = Poly(coefs)\n",
    "x0=-0.2345\n",
    "@time polyval(p, x0)\n",
    "@time p(x0)\n",
    "@time horner(coefs, x0)"
   ]
  },
  {
   "cell_type": "markdown",
   "metadata": {},
   "source": [
    "## Example: \n",
    "Use Horner's method to evaluate\n",
    "$$P(x) = 2x^4 − 3x^2 + 3x − 4 \\qquad \\mbox{at}\\quad x_0 = −2.$$"
   ]
  },
  {
   "cell_type": "markdown",
   "metadata": {},
   "source": [
    "An additional advantage of using the Horner  procedure is that, since\n",
    "$$P(x) = (x − x_0)Q(x) + b_0,$$ \n",
    "\n",
    "$$P^\\prime(x)=Q(x)+(x−x )Q^\\prime(x)\\qquad \\mbox{and} \\qquad\n",
    "P^\\prime(x_0)=Q(x_0).$$\n",
    "\n",
    "When the Newton's method is being used to find an approximate zero of a polynomial, $P(x)$ and $P^\\prime(x)$ can be evaluated."
   ]
  },
  {
   "cell_type": "code",
   "execution_count": 21,
   "metadata": {},
   "outputs": [
    {
     "data": {
      "text/plain": [
       "hornerVect (generic function with 1 method)"
      ]
     },
     "execution_count": 21,
     "metadata": {},
     "output_type": "execute_result"
    }
   ],
   "source": [
    "function hornerVect(coefs, x)\n",
    "    coefsnew = copy(coefs)\n",
    "    for k in length(coefs)-1:-1:1\n",
    "        coefsnew[k] = copy(coefs[k]) + x * coefsnew[k+1]  # b_k = a_k + x_0*b_{k+1}\n",
    "    end\n",
    "    return coefsnew\n",
    "end"
   ]
  },
  {
   "cell_type": "code",
   "execution_count": 22,
   "metadata": {},
   "outputs": [
    {
     "data": {
      "text/plain": [
       "5-element Array{Int64,1}:\n",
       " 10\n",
       " -7\n",
       "  5\n",
       " -4\n",
       "  2"
      ]
     },
     "execution_count": 22,
     "metadata": {},
     "output_type": "execute_result"
    }
   ],
   "source": [
    "p = Poly([-4,3, -3,0, 2])\n",
    "b=hornerVect([-4,3, -3,0, 2],-2)"
   ]
  },
  {
   "cell_type": "code",
   "execution_count": 23,
   "metadata": {},
   "outputs": [
    {
     "data": {
      "text/plain": [
       "10"
      ]
     },
     "execution_count": 23,
     "metadata": {},
     "output_type": "execute_result"
    }
   ],
   "source": [
    "b[1]"
   ]
  },
  {
   "cell_type": "code",
   "execution_count": 24,
   "metadata": {},
   "outputs": [
    {
     "data": {
      "text/plain": [
       "10"
      ]
     },
     "execution_count": 24,
     "metadata": {},
     "output_type": "execute_result"
    }
   ],
   "source": [
    "p(-2)"
   ]
  },
  {
   "cell_type": "code",
   "execution_count": 25,
   "metadata": {},
   "outputs": [
    {
     "data": {
      "text/html": [
       "&#45;7 &#43; 5&#8729;x &#45; 4&#8729;x<sup>2</sup> &#43; 2&#8729;x<sup>3</sup>"
      ],
      "text/latex": [
       "$-7 + 5\\cdot x - 4\\cdot x^{2} + 2\\cdot x^{3}$"
      ],
      "text/plain": [
       "Poly(-7 + 5*x - 4*x^2 + 2*x^3)"
      ]
     },
     "execution_count": 25,
     "metadata": {},
     "output_type": "execute_result"
    }
   ],
   "source": [
    "q = Poly(b[2:length(b)])"
   ]
  },
  {
   "cell_type": "code",
   "execution_count": 26,
   "metadata": {},
   "outputs": [
    {
     "data": {
      "text/plain": [
       "-49"
      ]
     },
     "execution_count": 26,
     "metadata": {},
     "output_type": "execute_result"
    }
   ],
   "source": [
    "d = horner(b[2:length(b)],-2)"
   ]
  },
  {
   "cell_type": "code",
   "execution_count": 27,
   "metadata": {},
   "outputs": [
    {
     "data": {
      "text/plain": [
       "-49"
      ]
     },
     "execution_count": 27,
     "metadata": {},
     "output_type": "execute_result"
    }
   ],
   "source": [
    "q(-2)"
   ]
  },
  {
   "cell_type": "code",
   "execution_count": 29,
   "metadata": {},
   "outputs": [
    {
     "data": {
      "text/plain": [
       "plotnewtonH (generic function with 1 method)"
      ]
     },
     "execution_count": 29,
     "metadata": {},
     "output_type": "execute_result"
    }
   ],
   "source": [
    "using PyPlot\n",
    "using Printf\n",
    "\n",
    "function plotnewtonH(p,q, x0, a, b; tol=1e-6, maxiter=10)    \n",
    "    xspan = range(a, stop=b, length=1000)\n",
    "    plot(xspan, p.(xspan), \"b\")\n",
    "    hlines(0, a, b)\n",
    "    xlim(a, b)    \n",
    "    k = 0\n",
    "    x = x0\n",
    "    px = p(x)\n",
    "    #q=polyder(p)\n",
    "    #qx = q(x)\n",
    "    xold, xnew = x, Inf\n",
    "    @printf \"%4s %22s %22s\\n\" \"k\" \"x\" \"p(x)\"\n",
    "    while abs(xnew - xold) > tol*(1 + abs(xold)) && k < maxiter\n",
    "        k += 1\n",
    "        xnew = x - px/q(x)\n",
    "        vlines(x, 0, px, linestyles=\":\")\n",
    "        plot([xnew, x], [0, px], \"r\")\n",
    "        plot(x, px, \"bo\")\n",
    "        xold = x\n",
    "        x = xnew\n",
    "        px = p(x)\n",
    "        #qx = q(x)\n",
    "        @printf \"%4d %22.15e %22.15e\\n\" k x px\n",
    "    end  \n",
    "    return x  \n",
    "end"
   ]
  },
  {
   "cell_type": "code",
   "execution_count": 30,
   "metadata": {},
   "outputs": [
    {
     "data": {
      "text/html": [
       "&#45;4 &#43; 3&#8729;x &#45; 3&#8729;x<sup>2</sup> &#43; 2&#8729;x<sup>4</sup>"
      ],
      "text/latex": [
       "$-4 + 3\\cdot x - 3\\cdot x^{2} + 2\\cdot x^{4}$"
      ],
      "text/plain": [
       "Poly(-4 + 3*x - 3*x^2 + 2*x^4)"
      ]
     },
     "execution_count": 30,
     "metadata": {},
     "output_type": "execute_result"
    }
   ],
   "source": [
    "p=Poly([-4,3, -3,0, 2])"
   ]
  },
  {
   "cell_type": "code",
   "execution_count": 31,
   "metadata": {},
   "outputs": [
    {
     "data": {
      "text/html": [
       "3 &#45; 6&#8729;x &#43; 8&#8729;x<sup>3</sup>"
      ],
      "text/latex": [
       "$3 - 6\\cdot x + 8\\cdot x^{3}$"
      ],
      "text/plain": [
       "Poly(3 - 6*x + 8*x^3)"
      ]
     },
     "execution_count": 31,
     "metadata": {},
     "output_type": "execute_result"
    }
   ],
   "source": [
    "q=polyder(p)"
   ]
  },
  {
   "cell_type": "code",
   "execution_count": 32,
   "metadata": {},
   "outputs": [
    {
     "name": "stdout",
     "output_type": "stream",
     "text": [
      "   k                      x                   p(x)\n"
     ]
    },
    {
     "data": {
      "image/png": "[encoded data removed]",
      "text/plain": [
       "Figure(PyObject <Figure size 640x480 with 1 Axes>)"
      ]
     },
     "metadata": {},
     "output_type": "display_data"
    },
    {
     "name": "stdout",
     "output_type": "stream",
     "text": [
      "   1 -1.795918367346939e+00  1.741690649859379e+00\n",
      "   2 -1.742432916750542e+00  9.995592022432565e-02\n",
      "   3 -1.738970235336167e+00  4.002870896355759e-04\n",
      "   4 -1.738956256679049e+00  6.504574656673867e-09\n",
      "   5 -1.738956256451892e+00  8.881784197001252e-16\n"
     ]
    },
    {
     "data": {
      "text/plain": [
       "-1.738956256451892"
      ]
     },
     "execution_count": 32,
     "metadata": {},
     "output_type": "execute_result"
    }
   ],
   "source": [
    "x = plotnewtonH(p,q, -2.0, -2.5, -1)"
   ]
  },
  {
   "cell_type": "code",
   "execution_count": 33,
   "metadata": {},
   "outputs": [
    {
     "data": {
      "text/plain": [
       "4-element Array{Complex{Float64},1}:\n",
       " -1.7389562564518912 + 0.0im               \n",
       " 0.24203718580880035 - 0.9262454872675303im\n",
       " 0.24203718580880035 + 0.9262454872675303im\n",
       "  1.2548818848342933 + 0.0im               "
      ]
     },
     "execution_count": 33,
     "metadata": {},
     "output_type": "execute_result"
    }
   ],
   "source": [
    "roots(p)"
   ]
  },
  {
   "cell_type": "code",
   "execution_count": 34,
   "metadata": {},
   "outputs": [
    {
     "data": {
      "text/plain": [
       "newtonH (generic function with 1 method)"
      ]
     },
     "execution_count": 34,
     "metadata": {},
     "output_type": "execute_result"
    }
   ],
   "source": [
    "using Polynomials\n",
    "using Printf\n",
    "function newtonH(pcoefs, x0; tol=1e-6, maxiter=10)   \n",
    "    k=0\n",
    "    @printf \"%4s %22s %22s  %22s\\n\" \"k\" \"x\" \"p(x)\" \"q(x)\" \n",
    "    x = x0\n",
    "    p=Poly(pcoefs)\n",
    "    q=polyder(p)\n",
    "    px = p(x)\n",
    "    qx = q(x)   \n",
    "    xold, xnew = x, Inf\n",
    "    @printf \"%4d %22.15e %22.15e\\n\" k x px \n",
    "    while abs(xnew - xold) > tol*(1 + abs(xold)) && k < maxiter\n",
    "        k += 1\n",
    "        xnew = x - px/qx\n",
    "        xold = x\n",
    "        x = xnew\n",
    "        px = p(x)\n",
    "        qx = q(x) \n",
    "        @printf \"%4d %22.15e %22.15e\\n\" k x px \n",
    "    end  \n",
    "    return x  \n",
    "end"
   ]
  },
  {
   "cell_type": "code",
   "execution_count": 35,
   "metadata": {},
   "outputs": [
    {
     "name": "stdout",
     "output_type": "stream",
     "text": [
      "   k                      x                   p(x)                    q(x)\n",
      "   0  2.000000000000000e+01  3.900000000000000e+02\n",
      "   1  1.025000000000000e+01  9.506250000000000e+01\n",
      "   2  5.612804878048781e+00  2.150357859904819e+01\n",
      "   3  3.697222645433951e+00  3.669455289909621e+00\n",
      "   4  3.200977809537825e+00  2.462589371535735e-01\n",
      "   5  3.162511604551991e+00  1.479648926011379e-03\n",
      "   6  3.162277668821308e+00  5.472592690125566e-08\n",
      "   7  3.162277660168380e+00  1.776356839400250e-15\n"
     ]
    },
    {
     "data": {
      "text/plain": [
       "3.1622776601683795"
      ]
     },
     "execution_count": 35,
     "metadata": {},
     "output_type": "execute_result"
    }
   ],
   "source": [
    "a=[-10,0, 1]\n",
    "newtonH(a, 20)"
   ]
  },
  {
   "cell_type": "markdown",
   "metadata": {},
   "source": [
    "## An application: Minimizing a function in one variable\n",
    "\n",
    "We can use the root-finding methods described above to find the **minimum** or **maximum** value of a function $\\phi \\in C^2[a,b]$.\n",
    "\n",
    "Recall that $x^* \\in (a,b)$ is a **critical point** of $\\phi$ if \n",
    "\n",
    "$$\\phi'(x^*) = 0.$$\n",
    "\n",
    "We can find $x^*$ by applying Newton's method to this nonlinear equation to obtain:\n",
    "\n",
    "$$x_{k+1} = x_k - \\frac{\\phi'(x_k)}{\\phi''(x_k)}.$$"
   ]
  },
  {
   "cell_type": "markdown",
   "metadata": {},
   "source": [
    "## Another interpretation for Newton's method\n",
    "\n",
    "We can also obtain this by considering the **second-order (quadratic) approximation** of $\\phi$ around the point $x_k$:\n",
    "\n",
    "$$\\phi(x) \\approx \\phi(x_k) + \\phi'(x_k)(x-x_k) + \\frac{\\phi''(x_k)}{2}(x-x_k)^2, \\quad \\text{for all $x \\approx x_k$}.$$\n",
    "\n",
    "If $x_k$ is close to $x^*$, we expect the minimum/maximum of $\\phi$ to be near the minimum/maximum of the **quadratic approximation** of $\\phi$:\n",
    "\n",
    "$$q(x) = \\phi(x_k) + \\phi'(x_k)(x-x_k) + \\frac{\\phi''(x_k)}{2}(x-x_k)^2.$$\n",
    "\n",
    "Thus we should choose $x_{k+1}$ to be the critical point of $q$, so we want to find $x_{k+1}$ such that $q'(x_{k+1}) = 0$. Note that\n",
    "\n",
    "$$q'(x) = \\phi'(x_k) + \\phi''(x_k)(x-x_k).$$\n",
    "\n",
    "Thus $q'(x_{k+1}) = 0$ gives us\n",
    "\n",
    "$$x_{k+1} = x_k - \\frac{\\phi'(x_k)}{\\phi''(x_k)}.$$"
   ]
  },
  {
   "cell_type": "markdown",
   "metadata": {},
   "source": [
    "---"
   ]
  },
  {
   "cell_type": "markdown",
   "metadata": {},
   "source": [
    "## Example\n",
    "\n",
    "Let's find the minimum value of \n",
    "\n",
    "$$\\phi(x) = 10\\cosh(x/4) - x$$\n",
    "\n",
    "by applying Newton's method."
   ]
  },
  {
   "cell_type": "code",
   "execution_count": 36,
   "metadata": {},
   "outputs": [
    {
     "data": {
      "text/plain": [
       "plotnewton (generic function with 1 method)"
      ]
     },
     "execution_count": 36,
     "metadata": {},
     "output_type": "execute_result"
    }
   ],
   "source": [
    "using PyPlot\n",
    "\n",
    "function plotnewton(f, fp, x0, a, b; tol=1e-6, maxiter=10)\n",
    "    \n",
    "    xspan = range(a, stop=b, length=1000)\n",
    "    plot(xspan, f.(xspan), \"b\")\n",
    "    hlines(0, a, b)\n",
    "    xlim(a, b)\n",
    "    \n",
    "    k = 0\n",
    "    x = x0\n",
    "    fx = f(x)\n",
    "    xold, xnew = x, Inf\n",
    "    @printf \"%4s %22s %22s\\n\" \"k\" \"x\" \"f(x)\"\n",
    "    while abs(xnew - xold) > tol*(1 + abs(xold)) && k < maxiter\n",
    "        k += 1\n",
    "        xnew = x - fx/fp(x)\n",
    "        \n",
    "        # Plotting stuff\n",
    "        vlines(x, 0, fx, linestyles=\":\")\n",
    "        plot([xnew, x], [0, fx], \"r\")\n",
    "        plot(x, fx, \"bo\")\n",
    "        \n",
    "        xold = x\n",
    "        x = xnew\n",
    "        fx = f(x)\n",
    "        @printf \"%4d %22.15e %22.15e\\n\" k x fx\n",
    "    end\n",
    "    \n",
    "    return x\n",
    "    \n",
    "end"
   ]
  },
  {
   "cell_type": "code",
   "execution_count": 37,
   "metadata": {},
   "outputs": [
    {
     "data": {
      "text/plain": [
       "ϕ (generic function with 1 method)"
      ]
     },
     "execution_count": 37,
     "metadata": {},
     "output_type": "execute_result"
    }
   ],
   "source": [
    "ϕ(x) = 10cosh(x/4) - x"
   ]
  },
  {
   "cell_type": "code",
   "execution_count": 38,
   "metadata": {},
   "outputs": [
    {
     "data": {
      "text/plain": [
       "ϕp (generic function with 1 method)"
      ]
     },
     "execution_count": 38,
     "metadata": {},
     "output_type": "execute_result"
    }
   ],
   "source": [
    "ϕp(x) = 2.5sinh(x/4) - 1"
   ]
  },
  {
   "cell_type": "code",
   "execution_count": 39,
   "metadata": {},
   "outputs": [
    {
     "data": {
      "text/plain": [
       "ϕpp (generic function with 1 method)"
      ]
     },
     "execution_count": 39,
     "metadata": {},
     "output_type": "execute_result"
    }
   ],
   "source": [
    "ϕpp(x) = 0.625cosh(x/4)"
   ]
  },
  {
   "cell_type": "code",
   "execution_count": 40,
   "metadata": {},
   "outputs": [
    {
     "data": {
      "image/png": "[encoded data removed]",
      "text/plain": [
       "Figure(PyObject <Figure size 640x480 with 1 Axes>)"
      ]
     },
     "metadata": {},
     "output_type": "display_data"
    },
    {
     "name": "stdout",
     "output_type": "stream",
     "text": [
      "   k                      x                   f(x)\n",
      "   1  2.454132846259612e+00  6.318888130288225e-01\n",
      "   2  1.607515395183571e+00  3.196055878741744e-02\n",
      "   3  1.560247213739166e+00  7.130979857405961e-05\n",
      "   4  1.560141279603856e+00  3.507054646689767e-10\n",
      "   5  1.560141279082861e+00 -1.110223024625157e-16\n"
     ]
    },
    {
     "data": {
      "text/plain": [
       "1.560141279082861"
      ]
     },
     "execution_count": 40,
     "metadata": {},
     "output_type": "execute_result"
    }
   ],
   "source": [
    "x0, a, b = 5., 0., 10.\n",
    "\n",
    "x = plotnewton(ϕp, ϕpp, x0, a, b)"
   ]
  },
  {
   "cell_type": "code",
   "execution_count": 41,
   "metadata": {},
   "outputs": [
    {
     "data": {
      "text/plain": [
       "0.673145600891813"
      ]
     },
     "execution_count": 41,
     "metadata": {},
     "output_type": "execute_result"
    }
   ],
   "source": [
    "ϕpp(x)"
   ]
  },
  {
   "cell_type": "code",
   "execution_count": 32,
   "metadata": {},
   "outputs": [
    {
     "data": {
      "image/png": "[encoded data removed]",
      "text/plain": [
       "PyPlot.Figure(PyObject <matplotlib.figure.Figure object at 0x114ed1310>)"
      ]
     },
     "metadata": {},
     "output_type": "display_data"
    }
   ],
   "source": [
    "xspan = range(-3, stop=7, length=1000)\n",
    "\n",
    "plot(xspan, ϕ.(xspan))\n",
    "plot(x, ϕ(x), \"o\");"
   ]
  },
  {
   "cell_type": "markdown",
   "metadata": {},
   "source": [
    "Thus \n",
    "\n",
    "$$x^* = 1.560141279082861\\ldots.$$ \n",
    "\n",
    "Note that $\\phi'(x^*) = 0$, as required. Since $\\phi''(x^*) > 0$, we know that \n",
    "\n",
    "$$\\phi(x^*) = 9.210188335186146\\ldots$$ \n",
    "\n",
    "is a **local minimum value** of $\\phi$.\n",
    "\n",
    "In fact, since $\\phi''(x) > 0$ for all $x$, we know that $\\phi(x^*)$ is the **global minimum value** of $\\phi$."
   ]
  },
  {
   "cell_type": "markdown",
   "metadata": {},
   "source": [
    "---"
   ]
  }
 ],
 "metadata": {
  "anaconda-cloud": {},
  "kernelspec": {
   "display_name": "Julia 1.3.1",
   "language": "julia",
   "name": "julia-1.3"
  },
  "language_info": {
   "file_extension": ".jl",
   "mimetype": "application/julia",
   "name": "julia",
   "version": "1.3.1"
  }
 },
 "nbformat": 4,
 "nbformat_minor": 1
}
