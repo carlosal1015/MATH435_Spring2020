{
 "cells": [
  {
   "cell_type": "markdown",
   "metadata": {},
   "source": [
    "---\n",
    "# 3.0 Interpolation and Polynomial Approximation \n",
    "---"
   ]
  },
  {
   "cell_type": "markdown",
   "metadata": {},
   "source": [
    "A function $P$ is a **polynomial of degree at most $n$** if\n",
    "\n",
    "$$P(x) = a_0 + a_1 x + \\cdots + a_n x^n.$$\n",
    "\n",
    "Polynomials hold a prominent role in numerical analysis for three reasons:\n",
    "\n",
    "1. Polynomials can approximate any continuous function $f$ as close as we want:\n",
    "\n",
    " > ### [Weierstrass Approximation Theorem](http://en.wikipedia.org/wiki/Stone%E2%80%93Weierstrass_theorem):\n",
    " >\n",
    " > Let $f \\in C[a,b]$. For every $\\varepsilon > 0$, there exists a polynomial $P(x)$ such that\n",
    " >\n",
    " > $$\\left|f(x) - P(x)\\right| < \\varepsilon, \\quad \\forall x \\in [a,b].$$\n",
    " \n",
    "![title](Fig3.1.png)\n",
    "\n",
    "2. Polynomials can be efficiently evaluated using **Horner's Rule**:\n",
    "\n",
    "  $$P(x) = \\bigg( \\Big( \\big(a_n x + a_{n-1}\\big)x + a_{n-2} \\Big)x + \\cdots + a_1\\bigg)x + a_0$$\n",
    "\n",
    "3. Polynomials are **simple**:  it is easy to sum, multiply, differentiate, and integrate polynomials."
   ]
  },
  {
   "cell_type": "markdown",
   "metadata": {},
   "source": [
    "---"
   ]
  },
  {
   "cell_type": "markdown",
   "metadata": {},
   "source": [
    "## Horner's Rule"
   ]
  },
  {
   "cell_type": "code",
   "execution_count": 1,
   "metadata": {},
   "outputs": [
    {
     "data": {
      "text/plain": [
       "horner (generic function with 1 method)"
      ]
     },
     "execution_count": 1,
     "metadata": {},
     "output_type": "execute_result"
    }
   ],
   "source": [
    "# Evaluate the polynomial \n",
    "#\n",
    "#     P(x) = a_0 + a_1 x + ... + a_n x^n\n",
    "#\n",
    "# where a = [a_0, a_1, ..., a_n] using Horner's Rule.\n",
    "function horner(x, a)\n",
    "    \n",
    "    n = length(a) - 1\n",
    "    p = a[n+1]\n",
    "    for j = n:-1:1\n",
    "        p = p*x + a[j]\n",
    "    end\n",
    "    \n",
    "    return p\n",
    "end"
   ]
  },
  {
   "cell_type": "code",
   "execution_count": 2,
   "metadata": {},
   "outputs": [
    {
     "data": {
      "text/plain": [
       "4-element Array{Int64,1}:\n",
       " -3\n",
       "  5\n",
       "  2\n",
       " -1"
      ]
     },
     "execution_count": 2,
     "metadata": {},
     "output_type": "execute_result"
    }
   ],
   "source": [
    "using PyPlot\n",
    "\n",
    "a = [-3, 5, 2, -1]   # P(x) = -3 + 5x + 2x^2 - x^3"
   ]
  },
  {
   "cell_type": "code",
   "execution_count": 3,
   "metadata": {},
   "outputs": [
    {
     "data": {
      "text/plain": [
       "3.0"
      ]
     },
     "execution_count": 3,
     "metadata": {},
     "output_type": "execute_result"
    }
   ],
   "source": [
    "horner(-2., a)"
   ]
  },
  {
   "cell_type": "code",
   "execution_count": 4,
   "metadata": {},
   "outputs": [
    {
     "data": {
      "text/plain": [
       "3.0"
      ]
     },
     "execution_count": 4,
     "metadata": {},
     "output_type": "execute_result"
    }
   ],
   "source": [
    "x = -2.\n",
    "p = -3 + 5x + 2x^2 - x^3"
   ]
  },
  {
   "cell_type": "code",
   "execution_count": 5,
   "metadata": {},
   "outputs": [
    {
     "data": {
      "text/plain": [
       "3"
      ]
     },
     "execution_count": 5,
     "metadata": {},
     "output_type": "execute_result"
    }
   ],
   "source": [
    "x = -2\n",
    "@evalpoly(x, -3, 5, 2, -1)"
   ]
  },
  {
   "cell_type": "markdown",
   "metadata": {},
   "source": [
    "---"
   ]
  },
  {
   "cell_type": "markdown",
   "metadata": {},
   "source": [
    "## Two types of problems\n",
    "\n",
    "The function $f$ we would like to approximate by a polynomial may be given to us as:\n",
    "\n",
    "1. **A fixed set of data points**: $\\big\\{(x_i, y_i)\\big\\}_{i=0}^n$, where $y_i = f(x_i)$, but the actual function $f$ is unknown to us.\n",
    "   \n",
    "2. **An explicit/implicit function**: We are free to choose the $x_i$ and compute $y_i = f(x_i)$, but evaluating $f$ may be expensive.\n",
    "\n",
    "In either case, the goal is to find a polynomial $p$ that **interpolates** the data:\n",
    "   \n",
    "   $$p(x_i) = y_i, \\quad i = 0,1,\\ldots,n.$$ \n",
    "   "
   ]
  },
  {
   "cell_type": "markdown",
   "metadata": {},
   "source": [
    "---"
   ]
  },
  {
   "cell_type": "markdown",
   "metadata": {},
   "source": [
    "## Estimating the function $f$\n",
    "\n",
    "After constructing an interpolating polynomial $p$, we can use $p$ to **estimate** the value of $f$ at other values of $x$. We hope that\n",
    "\n",
    "$$ p(x) \\approx f(x), \\quad \\forall x \\in [a,b].$$\n",
    "\n",
    "We call the estimation of $f(x)$:\n",
    "\n",
    "1. **interpolation** if \n",
    "    $$x_i < x < x_j, \\quad \\text{for some } i \\neq j,$$\n",
    "\n",
    "2. **extrapolation** if \n",
    "    $$ x < x_i,\\ \\forall i \\quad \\text{or} \\quad x > x_i,\\ \\forall i.$$"
   ]
  },
  {
   "cell_type": "markdown",
   "metadata": {},
   "source": [
    "---"
   ]
  },
  {
   "cell_type": "markdown",
   "metadata": {},
   "source": [
    "## Interpolating polynomial always exists and is unique\n",
    "\n",
    "> ### Theorem:\n",
    ">\n",
    "> Let $\\big\\{(x_i,y_i)\\big\\}_{i=0}^n$. If $x_i \\neq x_j$ for $i \\neq j$, then there exists a unique polynomial $p(x)$ with degree at most $n$ that satisfies\n",
    ">\n",
    ">   $$p(x_i) = y_i, \\quad i = 0,1,\\ldots,n.$$ "
   ]
  },
  {
   "cell_type": "markdown",
   "metadata": {},
   "source": [
    "---"
   ]
  },
  {
   "cell_type": "markdown",
   "metadata": {},
   "source": [
    "## The space of polynomials $\n",
    "%%% My LaTeX definitions\n",
    "\\DeclareMathOperator{\\span}{span}\n",
    "\\newcommand{\\Pbf}{\\mathbf{P}}\n",
    "$\n",
    "\n",
    "Let $\\Pbf_n$ be the set of polynomials with degree at most $n$. \n",
    "\n",
    "$\\Pbf_n$ is a **vector space** since it is closed under addition and scalar multiplication:\n",
    "\n",
    "1. $p_1(x), p_2(x) \\in \\Pbf_n \\implies p_1(x)+p_2(x) \\in \\Pbf_n$\n",
    "2. $c \\in \\mathbb{R}, p(x) \\in \\Pbf_n \\implies cp(x) \\in \\Pbf_n$\n",
    "\n",
    "Note that $\\dim \\Pbf_n = n+1$."
   ]
  },
  {
   "cell_type": "markdown",
   "metadata": {},
   "source": [
    "## A basis for $\\Pbf_n$\n",
    "\n",
    "Let $\\big\\{\\phi_j(x)\\big\\}_{j=0}^n$ be a **basis** for $\\Pbf_n$; that is:\n",
    "\n",
    "1. $\\phi_0(x), \\ldots, \\phi_n(x)$ are **linearly independent**:\n",
    "\n",
    "    $$\n",
    "    c_0 \\phi_0(x) + \\cdots + c_n \\phi_n(x) = 0\n",
    "    \\quad \\implies \\quad\n",
    "    c_0 = \\cdots = c_n = 0\n",
    "    $$\n",
    "    \n",
    "2. $\\phi_0(x), \\ldots, \\phi_n(x)$ **spans** $\\Pbf_n$:\n",
    "    \n",
    "    $$\n",
    "    \\mathbf{P}_n = \\span\\big\\{\\phi_0(x),\\ldots,\\phi_n(x)\\big\\}\n",
    "    $$\n",
    "    \n",
    "\n",
    "Every $p(x) \\in \\Pbf_n$ is therefore a _unique_ linear combination of the polynomials in $\\big\\{\\phi_j(x)\\big\\}_{j=0}^n$:\n",
    "    \n",
    "$$p(x) = \\sum_{j=0}^n c_j \\phi_j(x) = c_0 \\phi_0(x) + \\cdots + c_n \\phi_n(x).$$"
   ]
  },
  {
   "cell_type": "markdown",
   "metadata": {},
   "source": [
    "## Computing the unique interpolating polynomial \n",
    "\n",
    "Given $\\big\\{(x_i, y_i)\\big\\}_{i=0}^n$, we want to find the unique $p(x) \\in \\Pbf_n$ that satisfies\n",
    "\n",
    "$$p(x_i) = y_i, \\quad i = 0, 1, \\ldots, n.$$\n",
    "\n",
    "Thus, we just need to find scalars $c_0,\\ldots,c_n$ such that\n",
    "\n",
    "$$\n",
    "\\begin{gather}\n",
    "c_0 \\phi_0(x_0) + \\cdots + c_n \\phi_n(x_0) = y_0\\\\\n",
    "c_0 \\phi_0(x_1) + \\cdots + c_n \\phi_n(x_1) = y_1\\\\\n",
    "\\vdots\\\\\n",
    "c_0 \\phi_0(x_n) + \\cdots + c_n \\phi_n(x_n) = y_n\\\\\n",
    "\\end{gather}\n",
    "$$\n",
    "\n",
    "This is equivalent to the linear system $A c = y$:\n",
    "\n",
    "$$\n",
    "\\begin{bmatrix}\n",
    "\\phi_0(x_0) & \\phi_1(x_0) & \\cdots & \\phi_n(x_0)\\\\\n",
    "\\phi_0(x_1) & \\phi_1(x_1) & \\cdots & \\phi_n(x_1)\\\\\n",
    "\\vdots & \\vdots & \\ddots & \\vdots\\\\\n",
    "\\phi_0(x_n) & \\phi_1(x_n) & \\cdots & \\phi_n(x_n)\\\\\n",
    "\\end{bmatrix}\n",
    "\\begin{bmatrix}\n",
    "c_0\\\\\n",
    "c_1\\\\\n",
    "\\vdots\\\\\n",
    "c_n\\\\\n",
    "\\end{bmatrix}\n",
    "=\n",
    "\\begin{bmatrix}\n",
    "y_0\\\\\n",
    "y_1\\\\\n",
    "\\vdots\\\\\n",
    "y_n\\\\\n",
    "\\end{bmatrix}.\n",
    "$$"
   ]
  },
  {
   "cell_type": "markdown",
   "metadata": {},
   "source": [
    "## Using different bases for $\\Pbf_n$\n",
    "\n",
    "Any basis $\\big\\{\\phi_j(x)\\big\\}_{j=0}^n$ we use will give us the same interpolating polynomial $p(x)$, but different bases will have different computational properties.\n",
    "\n",
    "We will study **three** different bases:\n",
    "\n",
    "1. (Section 3.0) **Monomial basis** $\\{1, x, x^2, \\ldots, x^n\\}$, i.e., $\\phi_i=x^i$ ($i=0,1,\\ldots,n$), for which the matrix $A$ is often ill-conditioned;\n",
    "2. (Section 3.1) **Lagrange polynomial basis**, for which the matrix $A$ is the identity matrix $I$;\n",
    "3. (Section 3.2-3.4) **Newton polynomial basis**, for which the matrix $A$ is lower triangular.\n",
    "\n",
    "In each case we will look at how to **construct** $p(x)$ and how to **evaluate** $p(x)$."
   ]
  },
  {
   "cell_type": "markdown",
   "metadata": {},
   "source": [
    "---"
   ]
  },
  {
   "cell_type": "markdown",
   "metadata": {},
   "source": [
    "---\n",
    "\n",
    "## 3.0 Monomial interpolation\n",
    "\n",
    "---"
   ]
  },
  {
   "cell_type": "markdown",
   "metadata": {},
   "source": [
    "$%%% My LaTeX definitions\n",
    "\\DeclareMathOperator{\\span}{span}\n",
    "\\newcommand{\\Pbf}{\\mathbf{P}}\n",
    "$\n",
    "When using the **monomial basis** $\\{1, x, x^2, \\ldots, x^n\\}$ to find the polynomial $p(x) \\in \\Pbf_n$ that interpolates the data point $\\{(x_i,y_i)\\}_{i=0}^n$, the matrix $A$ is given by\n",
    "\n",
    "$$\n",
    "A = \n",
    "\\begin{bmatrix}\n",
    "1 & x_0 & \\cdots & x_0^n\\\\\n",
    "1 & x_1 & \\cdots & x_1^n\\\\\n",
    "\\vdots & \\vdots & \\ddots & \\vdots\\\\\n",
    "1 & x_n & \\cdots & x_n^n\\\\\n",
    "\\end{bmatrix}.\n",
    "$$\n",
    "\n",
    "This is a [Vandermonde matrix](http://en.wikipedia.org/wiki/Vandermonde_matrix). "
   ]
  },
  {
   "cell_type": "markdown",
   "metadata": {},
   "source": [
    "## Determinant of the Vandermonde matrix\n",
    "\n",
    "We can compute the determinant of $A$ as follows (using $n=3$ for simplicity).\n",
    "\n",
    "First we do some row-reduction which does not change the determinant, i.e., $L_i-L_1\\to L_i$ ( $i=2,\\ldots,4$ ).\n",
    "\n",
    "$$\n",
    "\\begin{align}\n",
    "\\det(A)\n",
    "& = \n",
    "\\begin{vmatrix}\n",
    "1 & x_0 & x_0^2 & x_0^3\\\\\n",
    "1 & x_1 & x_1^2 & x_1^3\\\\\n",
    "1 & x_2 & x_2^2 & x_2^3\\\\\n",
    "1 & x_3 & x_3^2 & x_3^3\\\\\n",
    "\\end{vmatrix} \\\\ \\\\\n",
    "& = \n",
    "\\begin{vmatrix}\n",
    "1 & x_0 & x_0^2 & x_0^3\\\\\n",
    "0 & x_1-x_0 & x_1^2-x_0^2 & x_1^3-x_0^3\\\\\n",
    "0 & x_2-x_0 & x_2^2-x_0^2 & x_2^3-x_0^3\\\\\n",
    "0 & x_3-x_0 & x_3^2-x_0^2 & x_3^3-x_0^3\\\\\n",
    "\\end{vmatrix} \\\\ \\\\\n",
    "\\end{align}\n",
    "$$"
   ]
  },
  {
   "cell_type": "markdown",
   "metadata": {},
   "source": [
    "Then we do some column-reduction steps, which again do not change the determinant, i.e., $C_{i+1}-x_0C_{i}\\to C_{i+1}$ ( $i=3,\\ldots, 1$ ).\n",
    "\n",
    "$$\n",
    "\\begin{align}\n",
    "\\det(A)\n",
    "& = \n",
    "\\begin{vmatrix}\n",
    "1 & x_0 & x_0^2 & 0 \\\\\n",
    "0 & x_1-x_0 & x_1^2-x_0^2 & x_1^3-x_0^3 - x_0(x_1^2-x_0^2)\\\\\n",
    "0 & x_2-x_0 & x_2^2-x_0^2 & x_2^3-x_0^3 - x_0(x_2^2-x_0^2)\\\\\n",
    "0 & x_3-x_0 & x_3^2-x_0^2 & x_3^3-x_0^3 - x_0(x_3^2-x_0^2)\\\\\n",
    "\\end{vmatrix} \\\\ \\\\\n",
    "& = \n",
    "\\begin{vmatrix}\n",
    "1 & x_0 & x_0^2 & 0 \\\\\n",
    "0 & x_1-x_0 & x_1^2-x_0^2 & (x_1 - x_0)x_1^2\\\\\n",
    "0 & x_2-x_0 & x_2^2-x_0^2 & (x_2 - x_0)x_2^2\\\\\n",
    "0 & x_3-x_0 & x_3^2-x_0^2 & (x_3 - x_0)x_3^2\\\\\n",
    "\\end{vmatrix} \\\\ \\\\\n",
    "& = \n",
    "\\begin{vmatrix}\n",
    "1 & x_0 & 0 & 0 \\\\\n",
    "0 & x_1-x_0 & (x_1 - x_0)x_1 & (x_1 - x_0)x_1^2\\\\\n",
    "0 & x_2-x_0 & (x_2 - x_0)x_2 & (x_2 - x_0)x_2^2\\\\\n",
    "0 & x_3-x_0 & (x_3 - x_0)x_3 & (x_3 - x_0)x_3^2\\\\\n",
    "\\end{vmatrix} \\\\ \\\\\n",
    "& = \n",
    "\\begin{vmatrix}\n",
    "1 & 0 & 0 & 0 \\\\\n",
    "0 & x_1-x_0 & (x_1 - x_0)x_1 & (x_1 - x_0)x_1^2\\\\\n",
    "0 & x_2-x_0 & (x_2 - x_0)x_2 & (x_2 - x_0)x_2^2\\\\\n",
    "0 & x_3-x_0 & (x_3 - x_0)x_3 & (x_3 - x_0)x_3^2\\\\\n",
    "\\end{vmatrix} \\\\ \\\\\n",
    "\\end{align}\n",
    "$$"
   ]
  },
  {
   "cell_type": "markdown",
   "metadata": {},
   "source": [
    "Next, we pull out the common factors in each of the last three rows.\n",
    "\n",
    "$$\n",
    "\\begin{align}\n",
    "\\det(A)\n",
    "& = \n",
    "\\begin{vmatrix}\n",
    "1 & 0 & 0 & 0 \\\\\n",
    "0 & 1 & x_1 & x_1^2\\\\\n",
    "0 & 1 & x_2 & x_2^2\\\\\n",
    "0 & 1 & x_3 & x_3^2\\\\\n",
    "\\end{vmatrix} (x_1-x_0)(x_2-x_0)(x_3-x_0) \\\\ \\\\\n",
    "\\end{align}\n",
    "$$\n",
    "\n",
    "We repeat the above process on the bottom-right $3 \\times 3$ submatrix.\n",
    "\n",
    "$$\n",
    "\\begin{align}\n",
    "\\det(A)\n",
    "& = \n",
    "\\begin{vmatrix}\n",
    "1 & 0 & 0 & 0 \\\\\n",
    "0 & 1 & 0 & 0 \\\\\n",
    "0 & 0 & 1 & x_2\\\\\n",
    "0 & 0 & 1 & x_3\\\\\n",
    "\\end{vmatrix} (x_2-x_1)(x_3-x_1)\\cdot(x_1-x_0)(x_2-x_0)(x_3-x_0) \\\\ \\\\\n",
    "\\end{align}\n",
    "$$"
   ]
  },
  {
   "cell_type": "markdown",
   "metadata": {},
   "source": [
    "Repeating the above process, this time on the bottom-right $2 \\times 2$ submatrix, we obtain.\n",
    "\n",
    "$$\n",
    "\\begin{align}\n",
    "\\det(A)\n",
    "& = \n",
    "\\begin{vmatrix}\n",
    "1 & 0 & 0 & 0 \\\\\n",
    "0 & 1 & 0 & 0 \\\\\n",
    "0 & 0 & 1 & 0 \\\\\n",
    "0 & 0 & 0 & 1 \\\\\n",
    "\\end{vmatrix} (x_3-x_2)\\cdot(x_2-x_1)(x_3-x_1)\\cdot(x_1-x_0)(x_2-x_0)(x_3-x_0) \\\\ \\\\\n",
    "\\end{align}\n",
    "$$\n",
    "\n",
    "Therefore, \n",
    "$$\\det(A) = (x_3-x_2)\\cdot(x_2-x_1)(x_3-x_1)\\cdot(x_1-x_0)(x_2-x_0)(x_3-x_0).$$"
   ]
  },
  {
   "cell_type": "markdown",
   "metadata": {},
   "source": [
    "In general,\n",
    "$$\\det(A) = \\prod_{0\\leq i < j \\leq n} (x_j - x_i).$$\n",
    "\n",
    "(See https://proofwiki.org/wiki/Vandermonde_Determinant for the full proof.)\n",
    "\n",
    "Thus, if $x_i \\neq x_j$ for $i \\neq j$, then $\\det(A) \\neq 0$, so $A$ is invertible. Therefore, $Ac = y$ has exactly one solution which implies that there always exists a unique interpolating polynomial when the $x_i$ are distinct."
   ]
  }
 ],
 "metadata": {
  "kernelspec": {
   "display_name": "Julia 0.6.0",
   "language": "julia",
   "name": "julia-0.6"
  },
  "language_info": {
   "file_extension": ".jl",
   "mimetype": "application/julia",
   "name": "julia",
   "version": "0.6.0"
  }
 },
 "nbformat": 4,
 "nbformat_minor": 1
}
