{
 "cells": [
  {
   "cell_type": "markdown",
   "metadata": {},
   "source": [
    "---\n",
    "\n",
    "# 2.6 Zeros of polynomials and Horner's method \n",
    "\n",
    "---"
   ]
  },
  {
   "cell_type": "markdown",
   "metadata": {},
   "source": [
    "A polynomial of degree $n$ has the form\n",
    "$$P(x)=P_n(x)=a_nx^n+a_{n-1}x^{n-1}+\\cdots +a_1x+a_0$$\n",
    "where the $a_i$’s, called the coefficients of $P_n$ and $a_n\\neq 0$. \n",
    "\n",
    "The problem is as follows: Find $x$ such that\n",
    "\n",
    "$$P(x) = 0.$$"
   ]
  },
  {
   "cell_type": "markdown",
   "metadata": {},
   "source": [
    "> ### Fundamental Theorem of Algebra\n",
    "> If $P(x)$ is a polynomial of degree $n \\ge 1$ with real or complex coefficients, \n",
    ">then $P(x) = 0$ has at least one ( possibly complex) root."
   ]
  },
  {
   "cell_type": "markdown",
   "metadata": {},
   "source": [
    "## Example: \n",
    "Determine all the zeros of the polynomial $P(x) = x^3 - 5x^2 + 17x - 13$.\n",
    "\n",
    "Note that $P(1)=0.$"
   ]
  },
  {
   "cell_type": "code",
   "execution_count": 1,
   "metadata": {},
   "outputs": [
    {
     "data": {
      "text/plain": [
       "P (generic function with 1 method)"
      ]
     },
     "execution_count": 1,
     "metadata": {},
     "output_type": "execute_result"
    }
   ],
   "source": [
    "P(x) = x^3 - 5x^2 + 17x - 13"
   ]
  },
  {
   "cell_type": "code",
   "execution_count": 2,
   "metadata": {},
   "outputs": [
    {
     "data": {
      "image/png": "[encoded data removed]",
      "text/plain": [
       "PyPlot.Figure(PyObject <matplotlib.figure.Figure object at 0x12a3883d0>)"
      ]
     },
     "metadata": {},
     "output_type": "display_data"
    }
   ],
   "source": [
    "using PyPlot\n",
    "x = linspace(-5, 10, 1000)\n",
    "plot(x, P.(x))\n",
    "hlines(0, -5, 10)\n",
    "plot(1, 0, \"ro\")\n",
    "#xlim(-5, 10);"
   ]
  },
  {
   "cell_type": "markdown",
   "metadata": {},
   "source": [
    "## Horner's Method\n",
    "To use Newton’s method, we need to evaluate $P(x)$ and $P^\\prime(x)$ at specified values. \n",
    "\n",
    "Computational efficiency requires that the evaluation of polynomials be done in the **nested** manner discussed before. Horner’s (Ruffini) method incorporates this nesting technique, and, as a consequence, requires only $n$ multiplications and $n$ additions to evaluate an arbitrary $n$th-degree polynomial."
   ]
  },
  {
   "cell_type": "markdown",
   "metadata": {},
   "source": [
    ">## Theorem (Horner’s Method)\n",
    ">Let $$P(x)=a_nx^n+a_{n-1}x^{n-1}+\\cdots +a_1x+a_0.$$\n",
    "Define $b_n = a_n$ and\n",
    "$$ b_k =a_k +b_{k+1}x_0,\\qquad k=n−1,n−2,\\ldots,1,0.$$\n",
    "Then $b_0 = P(x_0)$. Moreover, if\n",
    "$$Q(x)=b_nx^{n−1} +b_{n−1}x^{n−2} +\\cdots+b_2x+b_1,$$\n",
    "then $$P(x)=(x-x_0)Q(x)+b_0.$$"
   ]
  },
  {
   "cell_type": "code",
   "execution_count": 3,
   "metadata": {
    "collapsed": true
   },
   "outputs": [],
   "source": [
    "using Polynomials"
   ]
  },
  {
   "cell_type": "code",
   "execution_count": 4,
   "metadata": {},
   "outputs": [
    {
     "name": "stdout",
     "output_type": "stream",
     "text": [
      "search: \u001b[1mP\u001b[22m\u001b[1mo\u001b[22m\u001b[1ml\u001b[22m\u001b[1my\u001b[22m\u001b[1mn\u001b[22m\u001b[1mo\u001b[22m\u001b[1mm\u001b[22m\u001b[1mi\u001b[22m\u001b[1ma\u001b[22m\u001b[1ml\u001b[22m\u001b[1ms\u001b[22m\n",
      "\n"
     ]
    },
    {
     "data": {
      "text/markdown": [
       "No documentation found.\n",
       "\n",
       "Displaying the `README.md` for the module instead.\n",
       "\n",
       "---\n",
       "\n",
       "# Polynomials\n",
       "\n",
       "Basic arithmetic, integration, differentiation, evaluation, and root finding over dense univariate polynomials.\n",
       "\n",
       "[![Polynomials](http://pkg.julialang.org/badges/Polynomials_0.6.svg)](http://pkg.julialang.org/?pkg=Polynomials)\n",
       "\n",
       "Master branch: [![Build Status](https://travis-ci.org/JuliaMath/Polynomials.jl.svg?branch=master)](https://travis-ci.org/JuliaMath/Polynomials.jl) [![Coverage Status](https://coveralls.io/repos/github/JuliaMath/Polynomials.jl/badge.svg)](https://coveralls.io/github/JuliaMath/Polynomials.jl)\n",
       "\n",
       "Documentation: [![](https://img.shields.io/badge/docs-stable-blue.svg)](https://JuliaMath.github.io/Polynomials.jl/stable) [![](https://img.shields.io/badge/docs-latest-blue.svg)](https://JuliaMath.github.io/Polynomials.jl/latest)\n",
       "\n",
       "#### Poly(a::Vector) where {T<:Number}\n",
       "\n",
       "Construct a polynomial from its coefficients, lowest order first.\n",
       "\n",
       "```julia\n",
       "julia> Poly([1,0,3,4])\n",
       "Poly(1 + 3x^2 + 4x^3)\n",
       "```\n",
       "\n",
       "An optional variable parameter can be added.\n",
       "\n",
       "```julia\n",
       "julia> Poly([1,2,3], :s)\n",
       "Poly(1 + 2s + 3s^2)\n",
       "```\n",
       "\n",
       "#### poly(r::AbstractVector)\n",
       "\n",
       "Construct a polynomial from its roots. This is in contrast to the `Poly` constructor, which constructs a polynomial from its coefficients.\n",
       "\n",
       "```julia\n",
       "// Represents (x-1)*(x-2)*(x-3)\n",
       "julia> poly([1,2,3])\n",
       "Poly(-6 + 11x - 6x^2 + x^3)\n",
       "```\n",
       "\n",
       "#### +, -, *, /, div, ==\n",
       "\n",
       "The usual arithmetic operators are overloaded to work on polynomials, and combinations of polynomials and scalars.\n",
       "\n",
       "```julia\n",
       "julia> p = Poly([1,2])\n",
       "Poly(1 + 2x)\n",
       "\n",
       "julia> q = Poly([1, 0, -1])\n",
       "Poly(1 - x^2)\n",
       "\n",
       "julia> 2p\n",
       "Poly(2 + 4x)\n",
       "\n",
       "julia> 2+p\n",
       "Poly(3 + 2x)\n",
       "\n",
       "julia> p - q\n",
       "Poly(2x + x^2)\n",
       "\n",
       "julia> p * q\n",
       "Poly(1 + 2x - x^2 - 2x^3)\n",
       "\n",
       "julia> q / 2\n",
       "Poly(0.5 - 0.5x^2)\n",
       "\n",
       "julia> q ÷ p      # `div`, also `rem` and `divrem`\n",
       "Poly(0.25 - 0.5x)\n",
       "```\n",
       "\n",
       "Note that operations involving polynomials with different variables will error.\n",
       "\n",
       "```julia\n",
       "julia> p = Poly([1, 2, 3], :x)\n",
       "julia> q = Poly([1, 2, 3], :s)\n",
       "julia> p + q\n",
       "ERROR: Polynomials must have same variable.\n",
       "```\n",
       "\n",
       "To get the degree of the polynomial use the `degree` method\n",
       "\n",
       "```\n",
       "julia> degree(p)\n",
       "1\n",
       "\n",
       "julia> degree(p^2)\n",
       "2\n",
       "\n",
       "julia> degree(p-p)\n",
       "0\n",
       "```\n",
       "\n",
       "#### polyval(p::Poly, x::Number)\n",
       "\n",
       "Evaluate the polynomial `p` at `x`.\n",
       "\n",
       "```julia\n",
       "julia> p = Poly([1, 0, -1])\n",
       "julia> polyval(p, 0.1)\n",
       "0.99\n",
       "```\n",
       "\n",
       "A call method is also available:\n",
       "\n",
       "```julia\n",
       "julia> p(0.1)\n",
       "0.99\n",
       "```\n",
       "\n",
       "#### polyint(p::Poly, k::Number=0)\n",
       "\n",
       "Integrate the polynomial `p` term by term, optionally adding constant term `k`. The order of the resulting polynomial is one higher than the order of `p`.\n",
       "\n",
       "```julia\n",
       "julia> polyint(Poly([1, 0, -1]))\n",
       "Poly(x - 0.3333333333333333x^3)\n",
       "\n",
       "julia> polyint(Poly([1, 0, -1]), 2)\n",
       "Poly(2.0 + x - 0.3333333333333333x^3)\n",
       "```\n",
       "\n",
       "#### polyder(p::Poly)\n",
       "\n",
       "Differentiate the polynomial `p` term by term. The order of the resulting polynomial is one lower than the order of `p`.\n",
       "\n",
       "```julia\n",
       "julia> polyder(Poly([1, 3, -1]))\n",
       "Poly(3 - 2x)\n",
       "```\n",
       "\n",
       "#### roots(p::Poly)\n",
       "\n",
       "Return the roots (zeros) of `p`, with multiplicity. The number of roots returned is equal to the order of `p`. By design, this is not type-stable, the returned roots may be real or complex.\n",
       "\n",
       "```julia\n",
       "julia> roots(Poly([1, 0, -1]))\n",
       "2-element Array{Float64,1}:\n",
       " -1.0\n",
       "  1.0\n",
       "\n",
       "julia> roots(Poly([1, 0, 1]))\n",
       "2-element Array{Complex{Float64},1}:\n",
       " 0.0+1.0im\n",
       " 0.0-1.0im\n",
       "\n",
       "julia> roots(Poly([0, 0, 1]))\n",
       "2-element Array{Float64,1}:\n",
       " 0.0\n",
       " 0.0\n",
       "```\n",
       "\n",
       "#### Polyfit\n",
       "\n",
       "  * `polyfit`: fits a polynomial of minimal degree fitting the points specified by `x` and `y` using the least-squares fit.\n",
       "\n",
       "```julia\n",
       "julia> xs = 1:4; ys = exp(xs); polyfit(xs, ys)\n",
       "Poly(-7.717211620141281 + 17.9146616149694x - 9.77757245502143x^2 + 2.298404288652356x^3)\n",
       "```\n",
       "\n",
       "#### Other methods\n",
       "\n",
       "Polynomial objects also have other methods:\n",
       "\n",
       "  * 0-based indexing is used to extract the coefficients of $a_0 + a_1 x + a_2 x^2 + ...$, coefficients may be changed using indexing notation.\n",
       "  * `coeffs`: returns the entire coefficient vector\n",
       "  * `degree`: returns the polynomial degree, `length` is 1 plus the degree\n",
       "  * `variable`: returns the polynomial symbol as a degree 1 polynomial\n",
       "  * `norm`: find the `p`-norm of a polynomial\n",
       "  * `conj`: finds the conjugate of a polynomial over a complex fiel\n",
       "  * `truncate`: set to 0 all small terms in a polynomial; `chop` chops off any small leading values that may arise due to floating point operations.\n",
       "  * `gcd`: greatest common divisor of two polynomials.\n",
       "  * `Pade`: Return the [Pade approximant](https://en.wikipedia.org/wiki/Pad%C3%A9_approximant) of order `m/n` for a polynomial as a `Pade` object.\n",
       "\n",
       "## See also\n",
       "\n",
       "  * [MultiPoly.jl](https://github.com/daviddelaat/MultiPoly.jl) for sparse multivariate polynomials\n",
       "  * [MultivariatePolynomials.jl](https://github.com/blegat/MultivariatePolynomials.jl) for multivariate polynomials and moments of commutative or non-commutative variables\n",
       "  * [Nemo.jl](https://github.com/wbhart/Nemo.jl) for generic polynomial rings, matrix spaces, fraction fields, residue rings, power series\n",
       "  * [PolynomialRoots.jl](https://github.com/giordano/PolynomialRoots.jl) for a fast complex polynomial root finder\n"
      ],
      "text/plain": [
       "No documentation found.\n",
       "\n",
       "Displaying the `README.md` for the module instead.\n",
       "\n",
       "---\n",
       "\n",
       "# Polynomials\n",
       "\n",
       "Basic arithmetic, integration, differentiation, evaluation, and root finding over dense univariate polynomials.\n",
       "\n",
       "[![Polynomials](http://pkg.julialang.org/badges/Polynomials_0.6.svg)](http://pkg.julialang.org/?pkg=Polynomials)\n",
       "\n",
       "Master branch: [![Build Status](https://travis-ci.org/JuliaMath/Polynomials.jl.svg?branch=master)](https://travis-ci.org/JuliaMath/Polynomials.jl) [![Coverage Status](https://coveralls.io/repos/github/JuliaMath/Polynomials.jl/badge.svg)](https://coveralls.io/github/JuliaMath/Polynomials.jl)\n",
       "\n",
       "Documentation: [![](https://img.shields.io/badge/docs-stable-blue.svg)](https://JuliaMath.github.io/Polynomials.jl/stable) [![](https://img.shields.io/badge/docs-latest-blue.svg)](https://JuliaMath.github.io/Polynomials.jl/latest)\n",
       "\n",
       "#### Poly(a::Vector) where {T<:Number}\n",
       "\n",
       "Construct a polynomial from its coefficients, lowest order first.\n",
       "\n",
       "```julia\n",
       "julia> Poly([1,0,3,4])\n",
       "Poly(1 + 3x^2 + 4x^3)\n",
       "```\n",
       "\n",
       "An optional variable parameter can be added.\n",
       "\n",
       "```julia\n",
       "julia> Poly([1,2,3], :s)\n",
       "Poly(1 + 2s + 3s^2)\n",
       "```\n",
       "\n",
       "#### poly(r::AbstractVector)\n",
       "\n",
       "Construct a polynomial from its roots. This is in contrast to the `Poly` constructor, which constructs a polynomial from its coefficients.\n",
       "\n",
       "```julia\n",
       "// Represents (x-1)*(x-2)*(x-3)\n",
       "julia> poly([1,2,3])\n",
       "Poly(-6 + 11x - 6x^2 + x^3)\n",
       "```\n",
       "\n",
       "#### +, -, *, /, div, ==\n",
       "\n",
       "The usual arithmetic operators are overloaded to work on polynomials, and combinations of polynomials and scalars.\n",
       "\n",
       "```julia\n",
       "julia> p = Poly([1,2])\n",
       "Poly(1 + 2x)\n",
       "\n",
       "julia> q = Poly([1, 0, -1])\n",
       "Poly(1 - x^2)\n",
       "\n",
       "julia> 2p\n",
       "Poly(2 + 4x)\n",
       "\n",
       "julia> 2+p\n",
       "Poly(3 + 2x)\n",
       "\n",
       "julia> p - q\n",
       "Poly(2x + x^2)\n",
       "\n",
       "julia> p * q\n",
       "Poly(1 + 2x - x^2 - 2x^3)\n",
       "\n",
       "julia> q / 2\n",
       "Poly(0.5 - 0.5x^2)\n",
       "\n",
       "julia> q ÷ p      # `div`, also `rem` and `divrem`\n",
       "Poly(0.25 - 0.5x)\n",
       "```\n",
       "\n",
       "Note that operations involving polynomials with different variables will error.\n",
       "\n",
       "```julia\n",
       "julia> p = Poly([1, 2, 3], :x)\n",
       "julia> q = Poly([1, 2, 3], :s)\n",
       "julia> p + q\n",
       "ERROR: Polynomials must have same variable.\n",
       "```\n",
       "\n",
       "To get the degree of the polynomial use the `degree` method\n",
       "\n",
       "```\n",
       "julia> degree(p)\n",
       "1\n",
       "\n",
       "julia> degree(p^2)\n",
       "2\n",
       "\n",
       "julia> degree(p-p)\n",
       "0\n",
       "```\n",
       "\n",
       "#### polyval(p::Poly, x::Number)\n",
       "\n",
       "Evaluate the polynomial `p` at `x`.\n",
       "\n",
       "```julia\n",
       "julia> p = Poly([1, 0, -1])\n",
       "julia> polyval(p, 0.1)\n",
       "0.99\n",
       "```\n",
       "\n",
       "A call method is also available:\n",
       "\n",
       "```julia\n",
       "julia> p(0.1)\n",
       "0.99\n",
       "```\n",
       "\n",
       "#### polyint(p::Poly, k::Number=0)\n",
       "\n",
       "Integrate the polynomial `p` term by term, optionally adding constant term `k`. The order of the resulting polynomial is one higher than the order of `p`.\n",
       "\n",
       "```julia\n",
       "julia> polyint(Poly([1, 0, -1]))\n",
       "Poly(x - 0.3333333333333333x^3)\n",
       "\n",
       "julia> polyint(Poly([1, 0, -1]), 2)\n",
       "Poly(2.0 + x - 0.3333333333333333x^3)\n",
       "```\n",
       "\n",
       "#### polyder(p::Poly)\n",
       "\n",
       "Differentiate the polynomial `p` term by term. The order of the resulting polynomial is one lower than the order of `p`.\n",
       "\n",
       "```julia\n",
       "julia> polyder(Poly([1, 3, -1]))\n",
       "Poly(3 - 2x)\n",
       "```\n",
       "\n",
       "#### roots(p::Poly)\n",
       "\n",
       "Return the roots (zeros) of `p`, with multiplicity. The number of roots returned is equal to the order of `p`. By design, this is not type-stable, the returned roots may be real or complex.\n",
       "\n",
       "```julia\n",
       "julia> roots(Poly([1, 0, -1]))\n",
       "2-element Array{Float64,1}:\n",
       " -1.0\n",
       "  1.0\n",
       "\n",
       "julia> roots(Poly([1, 0, 1]))\n",
       "2-element Array{Complex{Float64},1}:\n",
       " 0.0+1.0im\n",
       " 0.0-1.0im\n",
       "\n",
       "julia> roots(Poly([0, 0, 1]))\n",
       "2-element Array{Float64,1}:\n",
       " 0.0\n",
       " 0.0\n",
       "```\n",
       "\n",
       "#### Polyfit\n",
       "\n",
       "  * `polyfit`: fits a polynomial of minimal degree fitting the points specified by `x` and `y` using the least-squares fit.\n",
       "\n",
       "```julia\n",
       "julia> xs = 1:4; ys = exp(xs); polyfit(xs, ys)\n",
       "Poly(-7.717211620141281 + 17.9146616149694x - 9.77757245502143x^2 + 2.298404288652356x^3)\n",
       "```\n",
       "\n",
       "#### Other methods\n",
       "\n",
       "Polynomial objects also have other methods:\n",
       "\n",
       "  * 0-based indexing is used to extract the coefficients of $a_0 + a_1 x + a_2 x^2 + ...$, coefficients may be changed using indexing notation.\n",
       "  * `coeffs`: returns the entire coefficient vector\n",
       "  * `degree`: returns the polynomial degree, `length` is 1 plus the degree\n",
       "  * `variable`: returns the polynomial symbol as a degree 1 polynomial\n",
       "  * `norm`: find the `p`-norm of a polynomial\n",
       "  * `conj`: finds the conjugate of a polynomial over a complex fiel\n",
       "  * `truncate`: set to 0 all small terms in a polynomial; `chop` chops off any small leading values that may arise due to floating point operations.\n",
       "  * `gcd`: greatest common divisor of two polynomials.\n",
       "  * `Pade`: Return the [Pade approximant](https://en.wikipedia.org/wiki/Pad%C3%A9_approximant) of order `m/n` for a polynomial as a `Pade` object.\n",
       "\n",
       "## See also\n",
       "\n",
       "  * [MultiPoly.jl](https://github.com/daviddelaat/MultiPoly.jl) for sparse multivariate polynomials\n",
       "  * [MultivariatePolynomials.jl](https://github.com/blegat/MultivariatePolynomials.jl) for multivariate polynomials and moments of commutative or non-commutative variables\n",
       "  * [Nemo.jl](https://github.com/wbhart/Nemo.jl) for generic polynomial rings, matrix spaces, fraction fields, residue rings, power series\n",
       "  * [PolynomialRoots.jl](https://github.com/giordano/PolynomialRoots.jl) for a fast complex polynomial root finder\n"
      ]
     },
     "execution_count": 4,
     "metadata": {},
     "output_type": "execute_result"
    }
   ],
   "source": [
    "? Polynomials"
   ]
  },
  {
   "cell_type": "code",
   "execution_count": 5,
   "metadata": {},
   "outputs": [
    {
     "data": {
      "text/html": [
       "&#45;13 &#43; 17&#8729;x &#45; 5&#8729;x^2 &#43; x^3"
      ],
      "text/plain": [
       "Poly(-13 + 17*x - 5*x^2 + x^3)"
      ]
     },
     "execution_count": 5,
     "metadata": {},
     "output_type": "execute_result"
    }
   ],
   "source": [
    "Poly([-13,17,-5,1])"
   ]
  },
  {
   "cell_type": "code",
   "execution_count": 6,
   "metadata": {},
   "outputs": [
    {
     "data": {
      "text/plain": [
       "3-element Array{Complex{Float64},1}:\n",
       "      1.0+0.0im     \n",
       " 0.153846+0.230769im\n",
       " 0.153846-0.230769im"
      ]
     },
     "execution_count": 6,
     "metadata": {},
     "output_type": "execute_result"
    }
   ],
   "source": [
    "roots(Poly([1, -5, 17, -13]))"
   ]
  },
  {
   "cell_type": "code",
   "execution_count": 7,
   "metadata": {},
   "outputs": [
    {
     "data": {
      "text/html": [
       "1.683"
      ],
      "text/plain": [
       "1.683"
      ]
     },
     "execution_count": 7,
     "metadata": {},
     "output_type": "execute_result"
    }
   ],
   "source": [
    "p = Poly([1, -5, 17, -13])\n",
    "polyval(p, -0.1)"
   ]
  },
  {
   "cell_type": "code",
   "execution_count": 8,
   "metadata": {},
   "outputs": [
    {
     "data": {
      "text/plain": [
       "horner (generic function with 1 method)"
      ]
     },
     "execution_count": 8,
     "metadata": {},
     "output_type": "execute_result"
    }
   ],
   "source": [
    "function horner(coefs, x)\n",
    "    s = copy(coefs[end])\n",
    "    for k in length(coefs)-1:-1:1\n",
    "        s = copy(coefs[k]) + x * s  # b_k = a_k + x_0*b_{k+1}\n",
    "    end\n",
    "    return s\n",
    "end"
   ]
  },
  {
   "cell_type": "code",
   "execution_count": 9,
   "metadata": {},
   "outputs": [
    {
     "data": {
      "text/html": [
       "1 &#45; 5&#8729;x &#43; 17&#8729;x^2 &#45; 13&#8729;x^3"
      ],
      "text/plain": [
       "Poly(1 - 5*x + 17*x^2 - 13*x^3)"
      ]
     },
     "execution_count": 9,
     "metadata": {},
     "output_type": "execute_result"
    }
   ],
   "source": [
    "Poly([1, -5, 17, -13])"
   ]
  },
  {
   "cell_type": "code",
   "execution_count": 10,
   "metadata": {},
   "outputs": [
    {
     "data": {
      "text/html": [
       "1.683"
      ],
      "text/plain": [
       "1.683"
      ]
     },
     "execution_count": 10,
     "metadata": {},
     "output_type": "execute_result"
    }
   ],
   "source": [
    "horner([1, -5, 17, -13], -0.1)"
   ]
  },
  {
   "cell_type": "code",
   "execution_count": 11,
   "metadata": {},
   "outputs": [
    {
     "name": "stdout",
     "output_type": "stream",
     "text": [
      "  0.018490 seconds (3.84 k allocations: 215.779 KiB)\n",
      "  0.007126 seconds (130 allocations: 8.828 KiB)\n",
      "  0.014899 seconds (2.31 k allocations: 128.214 KiB)\n"
     ]
    },
    {
     "data": {
      "text/html": [
       "-0.07427507055456554"
      ],
      "text/plain": [
       "-0.07427507055456554"
      ]
     },
     "execution_count": 11,
     "metadata": {},
     "output_type": "execute_result"
    }
   ],
   "source": [
    "# We are beating JULIA!!!\n",
    "coefs=rand(1000001)\n",
    "p = Poly(coefs)\n",
    "x0=-0.2345\n",
    "@time polyval(p, x0)\n",
    "@time p(x0)\n",
    "@time horner(coefs, x0)"
   ]
  },
  {
   "cell_type": "markdown",
   "metadata": {},
   "source": [
    "## Example: \n",
    "Use Horner's method to evaluate\n",
    "$$P(x) = 2x^4 − 3x^2 + 3x − 4 \\qquad \\mbox{at}\\quad x_0 = −2.$$"
   ]
  },
  {
   "cell_type": "markdown",
   "metadata": {},
   "source": [
    "An additional advantage of using the Horner  procedure is that, since\n",
    "$$P(x) = (x − x_0)Q(x) + b_0,$$ \n",
    "\n",
    "$$P^\\prime(x)=Q(x)+(x−x )Q^\\prime(x)\\qquad \\mbox{and} \\qquad\n",
    "P^\\prime(x_0)=Q(x_0).$$\n",
    "\n",
    "When the Newton's method is being used to find an approximate zero of a polynomial, $P(x)$ and $P^\\prime(x)$ can be evaluated."
   ]
  },
  {
   "cell_type": "code",
   "execution_count": 12,
   "metadata": {},
   "outputs": [
    {
     "data": {
      "text/plain": [
       "hornerVect (generic function with 1 method)"
      ]
     },
     "execution_count": 12,
     "metadata": {},
     "output_type": "execute_result"
    }
   ],
   "source": [
    "function hornerVect(coefs, x)\n",
    "    coefsnew = copy(coefs)\n",
    "    for k in length(coefs)-1:-1:1\n",
    "        coefsnew[k] = copy(coefs[k]) + x * coefsnew[k+1]  # b_k = a_k + x_0*b_{k+1}\n",
    "    end\n",
    "    return coefsnew\n",
    "end"
   ]
  },
  {
   "cell_type": "code",
   "execution_count": 13,
   "metadata": {},
   "outputs": [
    {
     "data": {
      "text/plain": [
       "5-element Array{Int64,1}:\n",
       " 10\n",
       " -7\n",
       "  5\n",
       " -4\n",
       "  2"
      ]
     },
     "execution_count": 13,
     "metadata": {},
     "output_type": "execute_result"
    }
   ],
   "source": [
    "p = Poly([-4,3, -3,0, 2])\n",
    "b=hornerVect([-4,3, -3,0, 2],-2)"
   ]
  },
  {
   "cell_type": "code",
   "execution_count": 14,
   "metadata": {},
   "outputs": [
    {
     "data": {
      "text/html": [
       "10"
      ],
      "text/plain": [
       "10"
      ]
     },
     "execution_count": 14,
     "metadata": {},
     "output_type": "execute_result"
    }
   ],
   "source": [
    "b[1]"
   ]
  },
  {
   "cell_type": "code",
   "execution_count": 15,
   "metadata": {},
   "outputs": [
    {
     "data": {
      "text/html": [
       "10"
      ],
      "text/plain": [
       "10"
      ]
     },
     "execution_count": 15,
     "metadata": {},
     "output_type": "execute_result"
    }
   ],
   "source": [
    "p(-2)"
   ]
  },
  {
   "cell_type": "code",
   "execution_count": 16,
   "metadata": {},
   "outputs": [
    {
     "data": {
      "text/html": [
       "&#45;7 &#43; 5&#8729;x &#45; 4&#8729;x^2 &#43; 2&#8729;x^3"
      ],
      "text/plain": [
       "Poly(-7 + 5*x - 4*x^2 + 2*x^3)"
      ]
     },
     "execution_count": 16,
     "metadata": {},
     "output_type": "execute_result"
    }
   ],
   "source": [
    "q = Poly(b[2:length(b)])"
   ]
  },
  {
   "cell_type": "code",
   "execution_count": 17,
   "metadata": {},
   "outputs": [
    {
     "data": {
      "text/html": [
       "-49"
      ],
      "text/plain": [
       "-49"
      ]
     },
     "execution_count": 17,
     "metadata": {},
     "output_type": "execute_result"
    }
   ],
   "source": [
    "d = horner(b[2:length(b)],-2)"
   ]
  },
  {
   "cell_type": "code",
   "execution_count": 18,
   "metadata": {},
   "outputs": [
    {
     "data": {
      "text/html": [
       "-49"
      ],
      "text/plain": [
       "-49"
      ]
     },
     "execution_count": 18,
     "metadata": {},
     "output_type": "execute_result"
    }
   ],
   "source": [
    "q(-2)"
   ]
  },
  {
   "cell_type": "code",
   "execution_count": 19,
   "metadata": {},
   "outputs": [
    {
     "data": {
      "text/plain": [
       "plotnewtonH (generic function with 1 method)"
      ]
     },
     "execution_count": 19,
     "metadata": {},
     "output_type": "execute_result"
    }
   ],
   "source": [
    "using PyPlot\n",
    "function plotnewtonH(p,q, x0, a, b; tol=1e-6, maxiter=10)    \n",
    "    xspan = linspace(a, b, 1000)\n",
    "    plot(xspan, p.(xspan), \"b\")\n",
    "    hlines(0, a, b)\n",
    "    xlim(a, b)    \n",
    "    k = 0\n",
    "    x = x0\n",
    "    px = p(x)\n",
    "    #q=polyder(p)\n",
    "    #qx = q(x)\n",
    "    xold, xnew = x, Inf\n",
    "    @printf \"%4s %22s %22s\\n\" \"k\" \"x\" \"p(x)\"\n",
    "    while abs(xnew - xold) > tol*(1 + abs(xold)) && k < maxiter\n",
    "        k += 1\n",
    "        xnew = x - px/q(x)\n",
    "        vlines(x, 0, px, linestyles=\":\")\n",
    "        plot([xnew, x], [0, px], \"r\")\n",
    "        plot(x, px, \"bo\")\n",
    "        xold = x\n",
    "        x = xnew\n",
    "        px = p(x)\n",
    "        #qx = q(x)\n",
    "        @printf \"%4d %22.15e %22.15e\\n\" k x px\n",
    "    end  \n",
    "    return x  \n",
    "end"
   ]
  },
  {
   "cell_type": "code",
   "execution_count": 20,
   "metadata": {},
   "outputs": [
    {
     "data": {
      "text/html": [
       "&#45;4 &#43; 3&#8729;x &#45; 3&#8729;x^2 &#43; 2&#8729;x^4"
      ],
      "text/plain": [
       "Poly(-4 + 3*x - 3*x^2 + 2*x^4)"
      ]
     },
     "execution_count": 20,
     "metadata": {},
     "output_type": "execute_result"
    }
   ],
   "source": [
    "p=Poly([-4,3, -3,0, 2])"
   ]
  },
  {
   "cell_type": "code",
   "execution_count": 21,
   "metadata": {},
   "outputs": [
    {
     "data": {
      "text/html": [
       "3 &#45; 6&#8729;x &#43; 8&#8729;x^3"
      ],
      "text/plain": [
       "Poly(3 - 6*x + 8*x^3)"
      ]
     },
     "execution_count": 21,
     "metadata": {},
     "output_type": "execute_result"
    }
   ],
   "source": [
    "q=polyder(p)"
   ]
  },
  {
   "cell_type": "code",
   "execution_count": 22,
   "metadata": {},
   "outputs": [
    {
     "name": "stdout",
     "output_type": "stream",
     "text": [
      "   k                      x                   p(x)\n"
     ]
    },
    {
     "data": {
      "image/png": "[encoded data removed]",
      "text/plain": [
       "PyPlot.Figure(PyObject <matplotlib.figure.Figure object at 0x114ea8210>)"
      ]
     },
     "metadata": {},
     "output_type": "display_data"
    },
    {
     "name": "stdout",
     "output_type": "stream",
     "text": [
      "   1 -1.795918367346939e+00  1.741690649859379e+00\n",
      "   2 -1.742432916750542e+00  9.995592022432565e-02\n",
      "   3 -1.738970235336167e+00  4.002870896355759e-04\n",
      "   4 -1.738956256679049e+00  6.504574656673867e-09\n",
      "   5 -1.738956256451892e+00  8.881784197001252e-16\n"
     ]
    },
    {
     "data": {
      "text/html": [
       "-1.738956256451892"
      ],
      "text/plain": [
       "-1.738956256451892"
      ]
     },
     "execution_count": 22,
     "metadata": {},
     "output_type": "execute_result"
    }
   ],
   "source": [
    "x = plotnewtonH(p,q, -2.0, -2.5, -1)"
   ]
  },
  {
   "cell_type": "code",
   "execution_count": 23,
   "metadata": {},
   "outputs": [
    {
     "data": {
      "text/plain": [
       "4-element Array{Complex{Float64},1}:\n",
       " -1.73896+0.0im     \n",
       "  1.25488+0.0im     \n",
       " 0.242037+0.926245im\n",
       " 0.242037-0.926245im"
      ]
     },
     "execution_count": 23,
     "metadata": {},
     "output_type": "execute_result"
    }
   ],
   "source": [
    "roots(p)"
   ]
  },
  {
   "cell_type": "code",
   "execution_count": 24,
   "metadata": {},
   "outputs": [
    {
     "data": {
      "text/plain": [
       "newtonH (generic function with 1 method)"
      ]
     },
     "execution_count": 24,
     "metadata": {},
     "output_type": "execute_result"
    }
   ],
   "source": [
    "using Polynomials\n",
    "function newtonH(pcoefs, x0; tol=1e-6, maxiter=10)   \n",
    "    k=0\n",
    "    @printf \"%4s %22s %22s  %22s\\n\" \"k\" \"x\" \"p(x)\" \"q(x)\" \n",
    "    x = x0\n",
    "    p=Poly(pcoefs)\n",
    "    q=polyder(p)\n",
    "    px = p(x)\n",
    "    qx = q(x)   \n",
    "    xold, xnew = x, Inf\n",
    "    @printf \"%4d %22.15e %22.15e\\n\" k x px \n",
    "    while abs(xnew - xold) > tol*(1 + abs(xold)) && k < maxiter\n",
    "        k += 1\n",
    "        xnew = x - px/qx\n",
    "        xold = x\n",
    "        x = xnew\n",
    "        px = p(x)\n",
    "        qx = q(x) \n",
    "        @printf \"%4d %22.15e %22.15e\\n\" k x px \n",
    "    end  \n",
    "    return x  \n",
    "end"
   ]
  },
  {
   "cell_type": "code",
   "execution_count": 25,
   "metadata": {},
   "outputs": [
    {
     "name": "stdout",
     "output_type": "stream",
     "text": [
      "   k                      x                   p(x)                    q(x)\n",
      "   0  2.000000000000000e+01  3.900000000000000e+02\n",
      "   1  1.025000000000000e+01  9.506250000000000e+01\n",
      "   2  5.612804878048781e+00  2.150357859904819e+01\n",
      "   3  3.697222645433951e+00  3.669455289909621e+00\n",
      "   4  3.200977809537825e+00  2.462589371535735e-01\n",
      "   5  3.162511604551991e+00  1.479648926011379e-03\n",
      "   6  3.162277668821308e+00  5.472592690125566e-08\n",
      "   7  3.162277660168380e+00  1.776356839400250e-15\n"
     ]
    },
    {
     "data": {
      "text/html": [
       "3.1622776601683795"
      ],
      "text/plain": [
       "3.1622776601683795"
      ]
     },
     "execution_count": 25,
     "metadata": {},
     "output_type": "execute_result"
    }
   ],
   "source": [
    "a=[-10,0, 1]\n",
    "newtonH(a, 20)"
   ]
  },
  {
   "cell_type": "markdown",
   "metadata": {},
   "source": [
    "## An application: Minimizing a function in one variable\n",
    "\n",
    "We can use the root-finding methods described above to find the **minimum** or **maximum** value of a function $\\phi \\in C^2[a,b]$.\n",
    "\n",
    "Recall that $x^* \\in (a,b)$ is a **critical point** of $\\phi$ if \n",
    "\n",
    "$$\\phi'(x^*) = 0.$$\n",
    "\n",
    "We can find $x^*$ by applying Newton's method to this nonlinear equation to obtain:\n",
    "\n",
    "$$x_{k+1} = x_k - \\frac{\\phi'(x_k)}{\\phi''(x_k)}.$$"
   ]
  },
  {
   "cell_type": "markdown",
   "metadata": {},
   "source": [
    "## Another interpretation for Newton's method\n",
    "\n",
    "We can also obtain this by considering the **second-order (quadratic) approximation** of $\\phi$ around the point $x_k$:\n",
    "\n",
    "$$\\phi(x) \\approx \\phi(x_k) + \\phi'(x_k)(x-x_k) + \\frac{\\phi''(x_k)}{2}(x-x_k)^2, \\quad \\text{for all $x \\approx x_k$}.$$\n",
    "\n",
    "If $x_k$ is close to $x^*$, we expect the minimum/maximum of $\\phi$ to be near the minimum/maximum of the **quadratic approximation** of $\\phi$:\n",
    "\n",
    "$$q(x) = \\phi(x_k) + \\phi'(x_k)(x-x_k) + \\frac{\\phi''(x_k)}{2}(x-x_k)^2.$$\n",
    "\n",
    "Thus we should choose $x_{k+1}$ to be the critical point of $q$, so we want to find $x_{k+1}$ such that $q'(x_{k+1}) = 0$. Note that\n",
    "\n",
    "$$q'(x) = \\phi'(x_k) + \\phi''(x_k)(x-x_k).$$\n",
    "\n",
    "Thus $q'(x_{k+1}) = 0$ gives us\n",
    "\n",
    "$$x_{k+1} = x_k - \\frac{\\phi'(x_k)}{\\phi''(x_k)}.$$"
   ]
  },
  {
   "cell_type": "markdown",
   "metadata": {},
   "source": [
    "---"
   ]
  },
  {
   "cell_type": "markdown",
   "metadata": {},
   "source": [
    "## Example\n",
    "\n",
    "Let's find the minimum value of \n",
    "\n",
    "$$\\phi(x) = 10\\cosh(x/4) - x$$\n",
    "\n",
    "by applying Newton's method."
   ]
  },
  {
   "cell_type": "code",
   "execution_count": 26,
   "metadata": {},
   "outputs": [
    {
     "data": {
      "text/plain": [
       "plotnewton (generic function with 1 method)"
      ]
     },
     "execution_count": 26,
     "metadata": {},
     "output_type": "execute_result"
    }
   ],
   "source": [
    "using PyPlot\n",
    "\n",
    "function plotnewton(f, fp, x0, a, b; tol=1e-6, maxiter=10)\n",
    "    \n",
    "    xspan = linspace(a, b, 1000)\n",
    "    plot(xspan, f.(xspan), \"b\")\n",
    "    hlines(0, a, b)\n",
    "    xlim(a, b)\n",
    "    \n",
    "    k = 0\n",
    "    x = x0\n",
    "    fx = f(x)\n",
    "    xold, xnew = x, Inf\n",
    "    @printf \"%4s %22s %22s\\n\" \"k\" \"x\" \"f(x)\"\n",
    "    while abs(xnew - xold) > tol*(1 + abs(xold)) && k < maxiter\n",
    "        k += 1\n",
    "        xnew = x - fx/fp(x)\n",
    "        \n",
    "        # Plotting stuff\n",
    "        vlines(x, 0, fx, linestyles=\":\")\n",
    "        plot([xnew, x], [0, fx], \"r\")\n",
    "        plot(x, fx, \"bo\")\n",
    "        \n",
    "        xold = x\n",
    "        x = xnew\n",
    "        fx = f(x)\n",
    "        @printf \"%4d %22.15e %22.15e\\n\" k x fx\n",
    "    end\n",
    "    \n",
    "    return x\n",
    "    \n",
    "end"
   ]
  },
  {
   "cell_type": "code",
   "execution_count": 27,
   "metadata": {},
   "outputs": [
    {
     "data": {
      "text/plain": [
       "ϕ (generic function with 1 method)"
      ]
     },
     "execution_count": 27,
     "metadata": {},
     "output_type": "execute_result"
    }
   ],
   "source": [
    "ϕ(x) = 10cosh(x/4) - x"
   ]
  },
  {
   "cell_type": "code",
   "execution_count": 28,
   "metadata": {},
   "outputs": [
    {
     "data": {
      "text/plain": [
       "ϕp (generic function with 1 method)"
      ]
     },
     "execution_count": 28,
     "metadata": {},
     "output_type": "execute_result"
    }
   ],
   "source": [
    "ϕp(x) = 2.5sinh(x/4) - 1"
   ]
  },
  {
   "cell_type": "code",
   "execution_count": 29,
   "metadata": {},
   "outputs": [
    {
     "data": {
      "text/plain": [
       "ϕpp (generic function with 1 method)"
      ]
     },
     "execution_count": 29,
     "metadata": {},
     "output_type": "execute_result"
    }
   ],
   "source": [
    "ϕpp(x) = 0.625cosh(x/4)"
   ]
  },
  {
   "cell_type": "code",
   "execution_count": 30,
   "metadata": {},
   "outputs": [
    {
     "name": "stdout",
     "output_type": "stream",
     "text": [
      "  "
     ]
    },
    {
     "data": {
      "image/png": "[encoded data removed]",
      "text/plain": [
       "PyPlot.Figure(PyObject <matplotlib.figure.Figure object at 0x12a4c1ed0>)"
      ]
     },
     "metadata": {},
     "output_type": "display_data"
    },
    {
     "name": "stdout",
     "output_type": "stream",
     "text": [
      " k                      x                   f(x)\n",
      "   1  2.454132846259612e+00  6.318888130288225e-01\n",
      "   2  1.607515395183571e+00  3.196055878741744e-02\n",
      "   3  1.560247213739166e+00  7.130979857405961e-05\n",
      "   4  1.560141279603856e+00  3.507054646689767e-10\n",
      "   5  1.560141279082861e+00 -1.110223024625157e-16\n"
     ]
    },
    {
     "data": {
      "text/html": [
       "1.560141279082861"
      ],
      "text/plain": [
       "1.560141279082861"
      ]
     },
     "execution_count": 30,
     "metadata": {},
     "output_type": "execute_result"
    }
   ],
   "source": [
    "x0, a, b = 5., 0., 10.\n",
    "\n",
    "x = plotnewton(ϕp, ϕpp, x0, a, b)"
   ]
  },
  {
   "cell_type": "code",
   "execution_count": 31,
   "metadata": {},
   "outputs": [
    {
     "data": {
      "text/html": [
       "0.673145600891813"
      ],
      "text/plain": [
       "0.673145600891813"
      ]
     },
     "execution_count": 31,
     "metadata": {},
     "output_type": "execute_result"
    }
   ],
   "source": [
    "ϕpp(x)"
   ]
  },
  {
   "cell_type": "code",
   "execution_count": 32,
   "metadata": {},
   "outputs": [
    {
     "data": {
      "image/png": "[encoded data removed]",
      "text/plain": [
       "PyPlot.Figure(PyObject <matplotlib.figure.Figure object at 0x114ed1310>)"
      ]
     },
     "metadata": {},
     "output_type": "display_data"
    }
   ],
   "source": [
    "xspan = linspace(-3, 7, 1000)\n",
    "\n",
    "plot(xspan, ϕ.(xspan))\n",
    "plot(x, ϕ(x), \"o\");"
   ]
  },
  {
   "cell_type": "markdown",
   "metadata": {},
   "source": [
    "Thus \n",
    "\n",
    "$$x^* = 1.560141279082861\\ldots.$$ \n",
    "\n",
    "Note that $\\phi'(x^*) = 0$, as required. Since $\\phi''(x^*) > 0$, we know that \n",
    "\n",
    "$$\\phi(x^*) = 9.210188335186146\\ldots$$ \n",
    "\n",
    "is a **local minimum value** of $\\phi$.\n",
    "\n",
    "In fact, since $\\phi''(x) > 0$ for all $x$, we know that $\\phi(x^*)$ is the **global minimum value** of $\\phi$."
   ]
  },
  {
   "cell_type": "markdown",
   "metadata": {},
   "source": [
    "---"
   ]
  }
 ],
 "metadata": {
  "anaconda-cloud": {},
  "kernelspec": {
   "display_name": "Julia 0.6.0",
   "language": "julia",
   "name": "julia-0.6"
  },
  "language_info": {
   "file_extension": ".jl",
   "mimetype": "application/julia",
   "name": "julia",
   "version": "0.6.0"
  }
 },
 "nbformat": 4,
 "nbformat_minor": 1
}
