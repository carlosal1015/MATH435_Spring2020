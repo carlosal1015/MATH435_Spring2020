{
 "cells": [
  {
   "cell_type": "markdown",
   "metadata": {},
   "source": [
    "---\n",
    "# Chapter 1: Mathematical Preliminaries and Error analysis\n",
    "---"
   ]
  },
  {
   "cell_type": "markdown",
   "metadata": {},
   "source": [
    "---\n",
    "## Section 1.1: Review of Calculus and Errors\n",
    "---"
   ]
  },
  {
   "cell_type": "markdown",
   "metadata": {},
   "source": [
    "## Definition: (Limit)   \n",
    "A function $f$ has the **limit** $L$ at $x_0$, written \n",
    "\n",
    "$$\\lim_{x\\to x_0} f(x)=L,$$ \n",
    "if, given any real number $\\epsilon >0$, there exists $\\delta>0$ such that \n",
    "\n",
    "$$ \\left | f(x)-L \\right| <\\epsilon, \\quad \\mbox{whenever} \\quad 0<|x-x_0|<\\delta.$$\n",
    "\n",
    "![title](Fig1.png)"
   ]
  },
  {
   "cell_type": "markdown",
   "metadata": {},
   "source": [
    "## Definition: (Continuity)  \n",
    "\n",
    "Let $f$ be a function defined on a set $X$ and $x_0\\in X$. Then $f$ is **continuous** at $x_0$ if \n",
    "### $$\\lim_{x\\to x_0} f(x)=f(x_0).$$ \n",
    "The function $f$ is **continuous** on the set $X$ if it is continuous at each number in $X$.\n",
    "\n",
    "Moreover, the following statements are equivalent:\n",
    "\n",
    "- $f$ is continuous at $x_0$;\n",
    "\n",
    "- If $\\{x_n\\}_{n=1}^\\infty$ is any sequence converging to $x_0$, then \n",
    "###  $$\\lim_{n\\to \\infty} f(x_n)=f(x_0).$$\n",
    "\n",
    "![title](Fig1.1.png)"
   ]
  },
  {
   "cell_type": "markdown",
   "metadata": {},
   "source": [
    "## Definition: (Differentiability)  \n",
    "\n",
    "Let $f$ be a function defined on an open set $X$ and $x_0\\in X$. The function $f$ is **differentiable** at $x_0$ if \n",
    "###  $$f^\\prime(x_0):=\\lim_{x\\to x_0} \\frac{f(x) - f(x_0)}{x-x_0},$$ \n",
    "exists. The number $f^\\prime(x_0)$ is called the **derivative** of $f$ at $x_0$. A function that has derivative at each number in the set $X$ is **differentiable** on $X$.\n",
    "\n",
    "Moreover, if $f$ is **differentiable**, then $f$ is **continuous**.\n",
    "\n",
    "![title](Fig1.2.png)"
   ]
  },
  {
   "cell_type": "markdown",
   "metadata": {},
   "source": [
    "### Theorem: (Mean Value Theorem)  \n",
    "\n",
    "If $f$ is **continuous** on [a,b]  and **differentiable** on (a,b), then there exists a number $c\\in(a,b)$ such that\n",
    "$$f^\\prime(c):=\\frac{f(b) - f(a)}{b-a}.$$ \n",
    "\n",
    "![title](Fig1.4.png)"
   ]
  },
  {
   "cell_type": "markdown",
   "metadata": {},
   "source": [
    "## Theorem: (Intermediate Value Theorem)  \n",
    "\n",
    "If $f$ is **continuous** on [a,b]  and $K\\in (f(a),f(b))$, then there exists a number $c\\in(a,b)$ such that\n",
    "\n",
    "$$f(c)=K.$$ \n",
    "\n",
    "![title](Fig1.9.png)"
   ]
  },
  {
   "cell_type": "markdown",
   "metadata": {},
   "source": [
    "## Example: \n",
    "Show that $f(x)=x^5-2x^3+3x^2-1=0$ has a solution in $[0,1]$.\n",
    "\n",
    "$f(0)=-1<0$ $\\;\\;\\;$ and $\\;\\;\\;$ $0<1=f(1)$."
   ]
  },
  {
   "cell_type": "code",
   "execution_count": 3,
   "metadata": {},
   "outputs": [
    {
     "data": {
      "image/png": "[encoded data removed]",
      "text/plain": [
       "PyPlot.Figure(PyObject <matplotlib.figure.Figure object at 0x12f82a750>)"
      ]
     },
     "metadata": {},
     "output_type": "display_data"
    }
   ],
   "source": [
    "using PyPlot\n",
    "\n",
    "f(x)=x.^5-2*x.^3+3x.^2-1;\n",
    "m = 1000\n",
    "xx = linspace(0, 1, m)\n",
    "\n",
    "plot(xx, f(xx), label=\"f(x)\")\n",
    "legend();"
   ]
  },
  {
   "cell_type": "markdown",
   "metadata": {},
   "source": [
    "## Theorem: (Taylor Series)\n",
    "\n",
    "Assume that $f$ is a function that is $(n+1)$-differentiable on an interval containing $x_0$ and $x_0 + h$. Then\n",
    "\n",
    "###  $$\n",
    "f(x_0 + h) = f(x_0) + h f'(x_0) + \\frac{h^2}{2} f''(x_0) + \\cdots + \\frac{h^n}{n!} f^{(n)}(x_0) + \\frac{h^{n+1}}{(n+1)!} f^{(n+1)}(\\xi),\n",
    "$$\n",
    "\n",
    "for some $\\xi \\in (x_0, x_0 + h)$. Or equivalently, for every $x\\in [a,b]$, there exists a number $\\xi(x)\\in (x_0, x)$ with \n",
    "\n",
    "####  $$f(x)=P_n(x){\\bf + }{R_n(x)}=f(x_0) + f'(x_0)(x-x_0) + \\frac{f''(x_0)}{2}(x-x_0)^2  + \\cdots + \\frac{f^{(n)}(x_0)}{n!}(x-x_0)^n {\\bf + } { \\frac{f^{(n+1)}(\\xi(x))}{(n+1)!} (x-x_0)^{n+1}}$$\n",
    "\n"
   ]
  },
  {
   "cell_type": "markdown",
   "metadata": {},
   "source": [
    "## Erros\n",
    "\n",
    "Suppose some quantity $u$ is approximated by $v$. The **absolute error** is measured by\n",
    "\n",
    "### $$\n",
    "|u - v|.\n",
    "$$\n",
    "\n",
    "Often, it is better to look at how large $|u-v|$ is compared to $|u|$. If $|u-v|$ is $p$ percent of $|u|$, then \n",
    "\n",
    "### $$\n",
    "|u-v| = p|u|.\n",
    "$$ \n",
    "\n",
    "If $u \\neq 0$, then\n",
    "### $$\n",
    "p = \\frac{|u-v|}{|u|},\n",
    "$$\n",
    "which is called the **relative error**."
   ]
  },
  {
   "cell_type": "code",
   "execution_count": 1,
   "metadata": {},
   "outputs": [
    {
     "data": {
      "text/plain": [
       "(π = 3.1415926535897...,3.14159)"
      ]
     },
     "execution_count": 1,
     "metadata": {},
     "output_type": "execute_result"
    }
   ],
   "source": [
    "u, v = π, 3.14159"
   ]
  },
  {
   "cell_type": "code",
   "execution_count": 2,
   "metadata": {},
   "outputs": [
    {
     "data": {
      "text/plain": [
       "2.6535897932333796e-6"
      ]
     },
     "execution_count": 2,
     "metadata": {},
     "output_type": "execute_result"
    }
   ],
   "source": [
    "abs(u - v)"
   ]
  },
  {
   "cell_type": "code",
   "execution_count": 3,
   "metadata": {},
   "outputs": [
    {
     "data": {
      "text/plain": [
       "8.446638650625857e-7"
      ]
     },
     "execution_count": 3,
     "metadata": {},
     "output_type": "execute_result"
    }
   ],
   "source": [
    "p = abs(u - v)/abs(u)"
   ]
  },
  {
   "cell_type": "markdown",
   "metadata": {},
   "source": [
    "---"
   ]
  },
  {
   "cell_type": "markdown",
   "metadata": {},
   "source": [
    "## Approximation Error (approximating the derivative)\n",
    "\n",
    "Consider the formula for the derivative of a differentiable function $f : \\mathbb{R} \\to \\mathbb{R}$ at $x_0$:\n",
    "\n",
    "### $$ f'(x_0) = \\lim_{h \\to 0} \\frac{f(x_0 + h) - f(x_0)}{h}.$$\n",
    "\n",
    "It is therefore reasonable to approximate $f'(x_0)$ using\n",
    "\n",
    "###  $$\\frac{f(x_0 + h) - f(x_0)}{h}$$\n",
    "\n",
    "for some small positive $h$. The error in this approximation is \n",
    "\n",
    "###  $$\\left|f'(x_0) - \\frac{f(x_0 + h) - f(x_0)}{h}\\right|$$\n",
    "\n",
    "and is called a **discretization error**."
   ]
  },
  {
   "cell_type": "markdown",
   "metadata": {},
   "source": [
    "---"
   ]
  },
  {
   "cell_type": "markdown",
   "metadata": {},
   "source": [
    "### Proof that the discretization error decreases at the same rate as $h$:\n",
    "\n",
    "Solving for $f'(x_0)$ in the Taylor series expansion, we get\n",
    "\n",
    "###  $$\n",
    "f'(x_0) = \\frac{f(x_0+h)-f(x_0)}{h} - \\left(\\frac{h}{2} f''(x_0) + \\frac{h^2}{6} f'''(x_0)  + \\cdots + \\frac{h^{n-1}}{n!} f^{(n)}(\\xi)\\right).\n",
    "$$\n",
    "\n",
    "Therefore,\n",
    "\n",
    "###  $$\n",
    "\\left|f'(x_0) - \\frac{f(x_0+h)-f(x_0)}{h}\\right| = \\left|\\frac{h}{2} f''(x_0) + \\frac{h^2}{6} f'''(x_0) + \\cdots + \\frac{h^{n-1}}{n!} f^{(n)}(\\xi)\\right|.\n",
    "$$\n",
    "\n",
    "If $f''(x_0) \\neq 0$ and $h$ is small, then the right-hand-side is dominated by $\\frac{h}{2} f''(x_0)$. Thus,\n",
    "\n",
    "###  $$\n",
    "\\left|f'(x_0) - \\frac{f(x_0+h)-f(x_0)}{h}\\right| \\approx \\frac{h}{2}\\left| f''(x_0)\\right| = \\mathcal{O}(h). \\quad \\blacksquare\n",
    "$$\n",
    "\n",
    "(See p. 35 **Definition 1.18** for the rigorous definitions of Big-$\\mathcal{O}$ notation)."
   ]
  },
  {
   "cell_type": "markdown",
   "metadata": {},
   "source": [
    "---"
   ]
  },
  {
   "cell_type": "markdown",
   "metadata": {},
   "source": [
    "## Exercise\n",
    "\n",
    "What do you think will happen if $f''(x_0) = 0$? "
   ]
  },
  {
   "cell_type": "markdown",
   "metadata": {},
   "source": [
    "---"
   ]
  },
  {
   "cell_type": "markdown",
   "metadata": {},
   "source": [
    "## Example: \n",
    "Find (a) the second and (b) the third Taylor polynomials for $f(x)= \\cos x$ about $x_0=0$. \n",
    "\n",
    "### $$\\cos x= f(0)+f^\\prime(0)\\,x+\\frac{f^{\\prime\\prime}(0)}{2!}\\, x^2+\\frac{f^{\\prime\\prime\\prime}(\\xi(x))}{3!}x^3=1-\\frac{1}{2}x^2+\\frac{1}{6}x^3 \\sin \\xi(x)$$\n",
    "where $\\xi(x)\\in (0,x)$.\n",
    "\n",
    "![title](Fig1.10.png)"
   ]
  },
  {
   "cell_type": "markdown",
   "metadata": {},
   "source": [
    "## Roundoff Error\n",
    "\n",
    "Numbers are stored in the computer using a finite precision representation. Roughly 16 digits of precision are possible using the 64-bit floating point format.\n",
    "\n",
    "Whenever an arithmetic operation takes place, the result must be rounded to roughly 16 digits of precision. Such an error is called **roundoff error**.\n",
    "\n",
    "We can see the effect of roundoff error in our example when $h$ is very small."
   ]
  },
  {
   "cell_type": "markdown",
   "metadata": {},
   "source": [
    "---"
   ]
  },
  {
   "cell_type": "markdown",
   "metadata": {},
   "source": [
    "## Accuracy\n",
    "\n",
    "As we have seen above, it is easy to write *mathematically correct* code that produces very inaccurate results.\n",
    "\n",
    "Accuracy is affected by the following two conditions:\n",
    "\n",
    "1. **Problem conditioning**  \n",
    "    Some problems are highly sensitive to small changes in the input: we call such problems **ill-conditioned**. A problem that is not sensitive to small changes in the input is called **well-conditioned**. \n",
    "2. **Algorithm stability**  \n",
    "    An algorithm is called **stable** if it is guaranteed to produce an exact answer to a *slightly perturbed problem*, i.e.,\n",
    "    \n",
    "   - **small changes of the initial data produce small changes in the final result**"
   ]
  },
  {
   "cell_type": "markdown",
   "metadata": {},
   "source": [
    "---"
   ]
  },
  {
   "cell_type": "markdown",
   "metadata": {},
   "source": [
    "## Efficiency\n",
    "\n",
    "Efficiency of a code is affected by many factors:\n",
    "\n",
    "1. the rate of convergence of the method\n",
    "2. the number of arithmetic operations (flops) performed\n",
    "3. how the data in memory is accessed"
   ]
  },
  {
   "cell_type": "markdown",
   "metadata": {},
   "source": [
    "---"
   ]
  },
  {
   "cell_type": "markdown",
   "metadata": {},
   "source": [
    "## Robustness (Reliability)\n",
    "\n",
    "We want to ensure that our code works under *all possible inputs*, and generates the clear warnings when it is not possible to produce an accurate result for some input."
   ]
  },
  {
   "cell_type": "markdown",
   "metadata": {},
   "source": [
    "---"
   ]
  }
 ],
 "metadata": {
  "anaconda-cloud": {},
  "kernelspec": {
   "display_name": "Julia 1.1.0",
   "language": "julia",
   "name": "julia-1.1"
  },
  "language_info": {
   "file_extension": ".jl",
   "mimetype": "application/julia",
   "name": "julia",
   "version": "1.1.0"
  }
 },
 "nbformat": 4,
 "nbformat_minor": 1
}
