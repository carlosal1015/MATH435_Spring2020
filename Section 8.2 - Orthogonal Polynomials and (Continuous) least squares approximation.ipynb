{
 "cells": [
  {
   "cell_type": "markdown",
   "metadata": {},
   "source": [
    "---\n",
    "Some useful $\\LaTeX$ commands are defined in this cell:\n",
    "$$\n",
    "\\newcommand{\\abs}[1]{\\left\\lvert#1\\right\\rvert}\n",
    "\\newcommand{\\norm}[1]{\\left\\lVert#1\\right\\rVert}\n",
    "\\newcommand{\\set}[1]{\\left\\{#1\\right\\}}\n",
    "\\newcommand{\\paren}[1]{\\left(#1\\right)}\n",
    "\\newcommand{\\brack}[1]{\\left[#1\\right]}\n",
    "\\newcommand{\\ip}[2]{\\left\\langle#1,#2\\right\\rangle}\n",
    "\\DeclareMathOperator{\\span}{span}\n",
    "\\abs{x}, \\norm{x}, \\set{x}, \\paren{x}, \\brack{x}, \\ip{x}{y}, \\span\n",
    "$$\n",
    "\n",
    "---"
   ]
  },
  {
   "cell_type": "markdown",
   "metadata": {},
   "source": [
    "---\n",
    "# 8.2 Orthogonal Polynomials and (Continuous) least squares approximation\n",
    "---"
   ]
  },
  {
   "cell_type": "markdown",
   "metadata": {},
   "source": [
    "## Recall\n",
    "\n",
    "In the previous chapter we approximated a function $f(x)$ over an interval $[a,b]$ by interpolating points $\\set{(x_i,f(x_i))}_{i=0}^n$ by either a polynomial $p_n(x)$ having degree at most $n$, or by a piecewise polynomial $p(x)$.\n",
    "\n",
    "The **error of the interpolation (approximation)** was measured using the **infinity-norm**:\n",
    "\n",
    "$$\n",
    "\\norm{f - p}_\\infty := \\max_{x \\in [a,b]} \\abs{f(x) - p(x)}.$$\n",
    "\n",
    "We found valid upper bounds on this error, such as \n",
    "\n",
    "$$\\norm{f - p_n}_\\infty \\leq \\frac{\\norm{f^{(n+1)}}_\\infty}{(n+1)!} \\max_{x \\in [a,b]} \\prod_{i=0}^n \\abs{x-x_i},$$\n",
    "\n",
    "for the unique polynomial $p_n(x)$ having degree at most $n$ interpolating $(x_0,f(x_0)), \\ldots, (x_n,f(x_n))$.\n"
   ]
  },
  {
   "cell_type": "markdown",
   "metadata": {},
   "source": [
    "## Best approximation\n",
    "\n",
    "We now will look at minimizing the **approximation error** directly. \n",
    "\n",
    "\n",
    "> ## Definition (linearly dependent):\n",
    ">The set of functions $\\{\\phi_0, \\ldots, \\phi_n\\}$ is said to be **linearly independent** on [a, b] if, whenever\n",
    ">$$c_0\\phi_0(x)+c_1\\phi_1(x)+\\cdots+c_n\\phi_n(x)=0,$$ for all $x\\in[a,b]$,\n",
    ">we have $c_0 = c_1 = \\cdots = c_n = 0$. Otherwise the set of functions is said to be **linearly dependent**.\n",
    "\n",
    "\n",
    "Given a set of **linearly independent** functions $\\set{\\phi_j(x)}_{j=0}^n$, we want to find a function \n",
    "\n",
    "$$p(x) = \\sum_{j=0}^n c_j \\phi_j(x)$$\n",
    "\n",
    "that minimizes the error $\\norm{f - p}$, where $\\norm{\\cdot}$ is a **function norm**."
   ]
  },
  {
   "cell_type": "markdown",
   "metadata": {},
   "source": [
    "## Function norms\n",
    "\n",
    "Let $\\norm{\\cdot}$ be a **norm** for $f \\in C[a,b]$.\n",
    "\n",
    "Then $\\norm{\\cdot}$ is a function that takes an input $f$ and returns a real number.\n",
    "\n",
    "A norm $\\norm{\\cdot}$ for functions must satisfy:\n",
    "\n",
    "1. $\\norm{f} \\geq 0$, for all functions $f$, and $\\norm{f} = 0$ if and only if $f(x) = 0$, for all $x \\in [a,b]$;\n",
    "\n",
    "2. $\\norm{\\alpha f} = \\abs{\\alpha} \\norm{f}$, for all $\\alpha \\in \\mathbb{R}$;\n",
    "\n",
    "3. $\\norm{f+g} \\leq \\norm{f} + \\norm{g}$ for all $f, g \\in C[a,b]$."
   ]
  },
  {
   "cell_type": "markdown",
   "metadata": {},
   "source": [
    "## Norm 2 in terms of the inner-product\n",
    "\n",
    "We will define the $L_2$ norm in terms of the inner-product."
   ]
  },
  {
   "cell_type": "markdown",
   "metadata": {},
   "source": [
    "The **inner-product** of two functions $f,g \\in C[a,b]$ is defined as\n",
    "\n",
    "$$\\ip{f}{g} := \\int_a^b f(x) g(x)\\,dx.$$\n",
    "\n",
    "Note that we can use the inner-product to talk about the **angle** between functions. For example, functions $f$ and $g$ are said to be **orthogonal** if $\\ip{f}{g} = 0$."
   ]
  },
  {
   "cell_type": "markdown",
   "metadata": {},
   "source": [
    "The $L_2$ norm of a function $f \\in C[a,b]$ is defined as\n",
    "\n",
    "$$\\norm{f}_2 := \\sqrt{\\ip{f}{f}} = \\paren{\\int_a^b \\brack{f(x)}^2 dx}^{\\frac12}$$\n",
    "\n",
    "In this chapter, we will consider methods for minimizing \n",
    "$$\\norm{f-p}^2_2=\\int_a^b \\brack{f(x)-p(x)}^2 dx,$$ also known as the **continuous least-squares problem**."
   ]
  },
  {
   "cell_type": "markdown",
   "metadata": {},
   "source": [
    "## Solving the continuous least-squares problem\n",
    "\n",
    "We want to find the coefficients $c_0,\\ldots,c_n$ such that \n",
    "\n",
    "$$p(x) = \\sum_{j=0}^n c_j \\phi_j(x)$$\n",
    "\n",
    "minimizes $\\norm{f-p}_2$ over all functions $p \\in \\span\\set{\\phi_0,\\ldots,\\phi_n}$."
   ]
  },
  {
   "cell_type": "markdown",
   "metadata": {},
   "source": [
    "Equivalently, we can minimize \n",
    "\n",
    "$$\n",
    "\\begin{align}\n",
    "E_2(c_0,\\ldots,c_n)&=\\norm{f-p}_2^2\\\\\n",
    " & = \\ip{f-p}{f-p} \\\\\n",
    "& = \\ip{f}{f} - 2\\ip{f}{p} + \\ip{p}{p} \\\\\n",
    "& = \\ip{f}{f} - 2\\ip{f}{\\sum_{j=0}^n c_j \\phi_j} + \\ip{\\sum_{j=0}^n c_j \\phi_j}{\\sum_{j=0}^n c_j \\phi_j} \\\\\n",
    "& = \\ip{f}{f} - 2\\sum_{j=0}^n c_j \\ip{f}{\\phi_j} + \\sum_{j=0}^n \\sum_{k=0}^n c_j c_k \\ip{\\phi_j}{\\phi_k} \\\\\n",
    "& = \\ip{f}{f} - 2b^Tc + c^T B c, \\\\\n",
    "\\end{align}\n",
    "$$\n",
    "\n",
    "where $B \\in \\mathbb{R}^{(n+1) \\times (n+1)}$ and $b, c \\in \\mathbb{R}^{n+1}$ are defined as\n",
    "\n",
    "$$\n",
    "B := \n",
    "\\begin{bmatrix}\n",
    "\\ip{\\phi_0}{\\phi_0} & \\cdots & \\ip{\\phi_0}{\\phi_n} \\\\\n",
    "\\vdots & \\ddots & \\vdots\\\\\n",
    "\\ip{\\phi_n}{\\phi_0} & \\cdots & \\ip{\\phi_n}{\\phi_n} \\\\\n",
    "\\end{bmatrix},\n",
    "\\qquad\n",
    "b := \n",
    "\\begin{bmatrix}\n",
    "\\ip{f}{\\phi_0}\\\\\n",
    "\\vdots\\\\\n",
    "\\ip{f}{\\phi_n}\\\\\n",
    "\\end{bmatrix},\n",
    "\\qquad\n",
    "c := \n",
    "\\begin{bmatrix}\n",
    "c_0 \\\\\n",
    "\\vdots\\\\\n",
    "c_n \\\\\n",
    "\\end{bmatrix}.\n",
    "$$"
   ]
  },
  {
   "cell_type": "markdown",
   "metadata": {},
   "source": [
    "## The normal equations\n",
    "\n",
    "Let $E_2 \\colon \\mathbb{R}^{n+1} \\to \\mathbb{R}$ be defined as\n",
    "\n",
    "$$E_2(c) = c^T B c - 2b^Tc + \\ip{f}{f}.$$\n",
    "\n",
    "So we want to find $c^* \\in \\mathbb{R}^{n+1}$ such that\n",
    "\n",
    "$$E_2(c^*) \\leq E_2(c), \\quad \\forall c \\in \\mathbb{R}^{n+1}.$$\n",
    "\n",
    "From multivariable calculus, we know that any **local minimizer** $c^*$ much satisfy $\\nabla E_2(c^*) = 0$.\n",
    "\n",
    "It is not too difficult to show that \n",
    "\n",
    "$$\\nabla E_2(c) = 2Bc - 2b.$$\n",
    "\n",
    "Therefore, we just need to solve the following linear system:\n",
    "\n",
    "$$Bc^* = b.$$ Or equivalently, the solution of the **(continuous) least-squares problem** coincides with the solution of the following linear system:\n",
    "\n",
    "$$\\begin{bmatrix}\n",
    "\\ip{\\phi_0}{\\phi_0} & \\ip{\\phi_0}{\\phi_1} & \\cdots & \\ip{\\phi_0}{\\phi_n} \\\\\n",
    "\\ip{\\phi_1}{\\phi_0} & \\ip{\\phi_1}{\\phi_1} &\\cdots & \\ip{\\phi_1}{\\phi_n} \\\\\n",
    "\\vdots & \\ddots & \\vdots\\\\\n",
    "\\ip{\\phi_n}{\\phi_0} & \\ip{\\phi_n}{\\phi_1} & \\cdots & \\ip{\\phi_n}{\\phi_n} \\\\\n",
    "\\end{bmatrix}\\begin{bmatrix}\n",
    "c_0 \\\\\n",
    "c_1 \\\\\n",
    "\\vdots\\\\\n",
    "c_n \\\\\n",
    "\\end{bmatrix}=\n",
    "\\begin{bmatrix}\n",
    "\\ip{f}{\\phi_0}\\\\\n",
    "\\ip{f}{\\phi_1}\\\\\n",
    "\\vdots\\\\\n",
    "\\ip{f}{\\phi_n}\\\\\n",
    "\\end{bmatrix}\n",
    "$$\n",
    "where $$p(x) = \\sum_{j=0}^n c_j \\phi_j(x).$$\n",
    "This linear system is known as the **normal equations** for the **(continuous) least-squares problem**. So, if we focus our attention on approximation by polynomials, i.e., $\\phi_j(x)=x^j$ the **monomial basis** $\\set{1,x,x^2,\\ldots,x^n}$, the system can be rewritten as:\n",
    "\n",
    "$$\\begin{bmatrix}\n",
    "   \\ip{x^0}{x^0} &  \\ip{x^0}{x^1} & \\cdots &  \\ip{x^0}{x^n} \\\\\n",
    "  \\ip{x^1}{x^0} &  \\ip{x^1}{x^1} & \\cdots & \\ip{x^1}{x^n}\\\\\n",
    "  \\vdots & \\vdots & \\ddots & \\vdots \\\\\n",
    " \\ip{x^n}{x^0} & \\ip{x^n}{x^1} & \\cdots & \\ip{x^n}{x^n}\\\\\n",
    "  \\end{bmatrix}\\begin{bmatrix}\n",
    "c_0 \\\\\n",
    "c_1 \\\\\n",
    "\\vdots\\\\\n",
    "c_n \\\\\n",
    "\\end{bmatrix}=\n",
    "\\begin{bmatrix}\n",
    "\\ip{f}{x^0}\\\\\n",
    "\\ip{f}{x^1}\\\\\n",
    "\\vdots\\\\\n",
    "\\ip{f}{x^n}\\\\\n",
    "\\end{bmatrix},\n",
    "$$\n",
    "where $$p(x) = \\sum_{j=0}^n c_j x^j.$$\n",
    "\n",
    "This **Normal Equations** with $n+1$ equations and $n+1$ unknowns $c_j$ is similar to the **(discrete) least-squares problem** for unknowns $a_j$ and $\\phi_j(x)=x^j$:\n",
    "\n",
    "$$\\begin{bmatrix}\n",
    "  \\sum_{i=1}^m x_i^0 & \\sum_{i=1}^m x_i^1 & \\cdots & \\sum_{i=1}^m x_i^n \\\\\n",
    "  \\sum_{i=1}^m x_i^1 & \\sum_{i=1}^m x_i^2 & \\cdots & \\sum_{i=1}^m x_i^{n+1} \\\\\n",
    "  \\vdots & \\vdots & \\ddots & \\vdots \\\\\n",
    "  \\sum_{i=1}^m x_i^n & \\sum_{i=1}^m x_i^{n+1} & \\cdots & \\sum_{i=1}^m x_i^{n+n}\\\\\n",
    "  \\end{bmatrix}\\begin{bmatrix}a_0\\\\a_1\\\\\\vdots\\\\a_n \\end{bmatrix}=\\begin{bmatrix}\\sum_{i=1}^my_ix_i^0\\\\\\sum_{i=1}^my_ix_i^1\\\\\\vdots\\\\\\sum_{i=1}^my_ix_i^n \\end{bmatrix}.$$\n",
    "  \n",
    "If we define for any $u=(u_1,u_2,\\ldots,u_m)$ and $v=(v_1,v_2,\\ldots,v_m)$,  $$\\ip{u}{v}:=\\sum_{i=1}^mu_iv_i,$$ then \n",
    "\n",
    "$$\\begin{bmatrix}\n",
    "   \\ip{x^0}{x^0} &  \\ip{x^0}{x^1} & \\cdots &  \\ip{x^0}{x^n} \\\\\n",
    "  \\ip{x^1}{x^0} &  \\ip{x^1}{x^1} & \\cdots & \\ip{x^1}{x^n}\\\\\n",
    "  \\vdots & \\vdots & \\ddots & \\vdots \\\\\n",
    " \\ip{x^n}{x^0} & \\ip{x^n}{x^1} & \\cdots & \\ip{x^n}{x^n}\\\\\n",
    "  \\end{bmatrix}\\begin{bmatrix}a_0\\\\a_1\\\\\\vdots\\\\a_n \\end{bmatrix}=\n",
    "  \\begin{bmatrix}\\ip{y}{x^0}\\\\\\ip{y}{x^1}\\\\\\vdots\\\\\\ip{y}{x^n} \\end{bmatrix},$$\n",
    "  where  $x=(x_1,x_2,\\ldots,x_m)$ and $y=(y_1,y_2,\\ldots,y_m)$ and $$p(x) = \\sum_{j=0}^n a_j x^j.$$\n"
   ]
  },
  {
   "cell_type": "markdown",
   "metadata": {},
   "source": [
    "---"
   ]
  },
  {
   "cell_type": "markdown",
   "metadata": {},
   "source": [
    "## Example\n",
    "\n",
    "Let's find the polynomial of degree at most $n$ that best fits $f(x) = \\cos(x)$ over the interval $[0, 2\\pi]$.\n",
    "\n",
    "Using the **monomial basis** $\\set{1,x,x^2,\\ldots,x^n}$, we have \n",
    "\n",
    "$$B_{ij} = \\ip{x^i}{x^j} = \\int_0^{2\\pi} x^i x^j dx = \\frac{(2\\pi)^{i+j+1}}{i+j+1}, \\quad i,j = 0,\\ldots,n,$$\n",
    "\n",
    "and \n",
    "\n",
    "$$b_i = \\ip{x^i}{\\cos(x)} = \\int_0^{2\\pi} x^i \\cos(x)\\,dx, \\quad i = 0,\\ldots,n.$$"
   ]
  },
  {
   "cell_type": "code",
   "execution_count": 5,
   "metadata": {},
   "outputs": [
    {
     "data": {
      "text/latex": [
       "\\begin{bmatrix}2 \\pi&2 \\pi^{2}&\\frac{8 \\pi^{3}}{3}\\\\2 \\pi^{2}&\\frac{8 \\pi^{3}}{3}&4 \\pi^{4}\\\\\\frac{8 \\pi^{3}}{3}&4 \\pi^{4}&\\frac{32 \\pi^{5}}{5}\\end{bmatrix}"
      ],
      "text/plain": [
       "3×3 Array{SymPy.Sym,2}:\n",
       "     2*pi    2*pi^2   8*pi^3/3\n",
       "   2*pi^2  8*pi^3/3     4*pi^4\n",
       " 8*pi^3/3    4*pi^4  32*pi^5/5"
      ]
     },
     "execution_count": 5,
     "metadata": {},
     "output_type": "execute_result"
    }
   ],
   "source": [
    "using SymPy\n",
    "\n",
    "n = 2\n",
    "B = Sym[(2PI)^(i+j+1)/(i+j+1) for i=0:n, j=0:n]"
   ]
  },
  {
   "cell_type": "markdown",
   "metadata": {},
   "source": [
    "We can use `SymPy` to evaluate the vector $b$."
   ]
  },
  {
   "cell_type": "code",
   "execution_count": 6,
   "metadata": {},
   "outputs": [
    {
     "data": {
      "text/latex": [
       "\\begin{bmatrix}0\\\\0\\\\4 \\pi\\end{bmatrix}"
      ],
      "text/plain": [
       "3-element Array{SymPy.Sym,1}:\n",
       "    0\n",
       "    0\n",
       " 4*pi"
      ]
     },
     "execution_count": 6,
     "metadata": {},
     "output_type": "execute_result"
    }
   ],
   "source": [
    "x = symbols(\"x\")\n",
    "\n",
    "bsym = Sym[integrate(x^i*cos(x), x, 0, 2PI) for i=0:n]"
   ]
  },
  {
   "cell_type": "code",
   "execution_count": 7,
   "metadata": {},
   "outputs": [
    {
     "data": {
      "text/latex": [
       "\\begin{bmatrix}\\frac{15}{\\pi^{2}}\\\\- \\frac{45}{\\pi^{3}}\\\\\\frac{45}{2 \\pi^{4}}\\end{bmatrix}"
      ],
      "text/plain": [
       "3-element Array{SymPy.Sym,1}:\n",
       "     15/pi^2\n",
       "    -45/pi^3\n",
       " 45/(2*pi^4)"
      ]
     },
     "execution_count": 7,
     "metadata": {},
     "output_type": "execute_result"
    }
   ],
   "source": [
    "csym = map(simplify, B\\bsym)\n",
    "#csym = B\\bsym"
   ]
  },
  {
   "cell_type": "markdown",
   "metadata": {},
   "source": [
    "Alternatively, we can use the numerical integration function `quadgk` (will study these methods in Chapter 4)."
   ]
  },
  {
   "cell_type": "code",
   "execution_count": 4,
   "metadata": {},
   "outputs": [
    {
     "name": "stdout",
     "output_type": "stream",
     "text": [
      "search: \u001b[1mq\u001b[22m\u001b[1mu\u001b[22m\u001b[1ma\u001b[22m\u001b[1md\u001b[22m\u001b[1mg\u001b[22m\u001b[1mk\u001b[22m\n",
      "\n"
     ]
    },
    {
     "data": {
      "text/markdown": [
       "```\n",
       "quadgk(f, a,b,c...; reltol=sqrt(eps), abstol=0, maxevals=10^7, order=7, norm=vecnorm)\n",
       "```\n",
       "\n",
       "Numerically integrate the function `f(x)` from `a` to `b`, and optionally over additional intervals `b` to `c` and so on. Keyword options include a relative error tolerance `reltol` (defaults to `sqrt(eps)` in the precision of the endpoints), an absolute error tolerance `abstol` (defaults to 0), a maximum number of function evaluations `maxevals` (defaults to `10^7`), and the `order` of the integration rule (defaults to 7).\n",
       "\n",
       "Returns a pair `(I,E)` of the estimated integral `I` and an estimated upper bound on the absolute error `E`. If `maxevals` is not exceeded then `E <= max(abstol, reltol*norm(I))` will hold. (Note that it is useful to specify a positive `abstol` in cases where `norm(I)` may be zero.)\n",
       "\n",
       "The endpoints `a` et cetera can also be complex (in which case the integral is performed over straight-line segments in the complex plane). If the endpoints are `BigFloat`, then the integration will be performed in `BigFloat` precision as well.\n",
       "\n",
       "!!! note\n",
       "    It is advisable to increase the integration `order` in rough proportion to the precision, for smooth integrands.\n",
       "\n",
       "\n",
       "More generally, the precision is set by the precision of the integration endpoints (promoted to floating-point types).\n",
       "\n",
       "The integrand `f(x)` can return any numeric scalar, vector, or matrix type, or in fact any type supporting `+`, `-`, multiplication by real values, and a `norm` (i.e., any normed vector space). Alternatively, a different norm can be specified by passing a `norm`-like function as the `norm` keyword argument (which defaults to `vecnorm`).\n",
       "\n",
       "!!! note\n",
       "    Only one-dimensional integrals are provided by this function. For multi-dimensional integration (cubature), there are many different algorithms (often much better than simple nested 1d integrals) and the optimal choice tends to be very problem-dependent. See the Julia external-package listing for available algorithms for multidimensional integration or other specialized tasks (such as integrals of highly oscillatory or singular functions).\n",
       "\n",
       "\n",
       "The algorithm is an adaptive Gauss-Kronrod integration technique: the integral in each interval is estimated using a Kronrod rule (`2*order+1` points) and the error is estimated using an embedded Gauss rule (`order` points). The interval with the largest error is then subdivided into two intervals and the process is repeated until the desired error tolerance is achieved.\n",
       "\n",
       "These quadrature rules work best for smooth functions within each interval, so if your function has a known discontinuity or other singularity, it is best to subdivide your interval to put the singularity at an endpoint. For example, if `f` has a discontinuity at `x=0.7` and you want to integrate from 0 to 1, you should use `quadgk(f, 0,0.7,1)` to subdivide the interval at the point of discontinuity. The integrand is never evaluated exactly at the endpoints of the intervals, so it is possible to integrate functions that diverge at the endpoints as long as the singularity is integrable (for example, a `log(x)` or `1/sqrt(x)` singularity).\n",
       "\n",
       "For real-valued endpoints, the starting and/or ending points may be infinite. (A coordinate transformation is performed internally to map the infinite interval to a finite one.)\n"
      ],
      "text/plain": [
       "```\n",
       "quadgk(f, a,b,c...; reltol=sqrt(eps), abstol=0, maxevals=10^7, order=7, norm=vecnorm)\n",
       "```\n",
       "\n",
       "Numerically integrate the function `f(x)` from `a` to `b`, and optionally over additional intervals `b` to `c` and so on. Keyword options include a relative error tolerance `reltol` (defaults to `sqrt(eps)` in the precision of the endpoints), an absolute error tolerance `abstol` (defaults to 0), a maximum number of function evaluations `maxevals` (defaults to `10^7`), and the `order` of the integration rule (defaults to 7).\n",
       "\n",
       "Returns a pair `(I,E)` of the estimated integral `I` and an estimated upper bound on the absolute error `E`. If `maxevals` is not exceeded then `E <= max(abstol, reltol*norm(I))` will hold. (Note that it is useful to specify a positive `abstol` in cases where `norm(I)` may be zero.)\n",
       "\n",
       "The endpoints `a` et cetera can also be complex (in which case the integral is performed over straight-line segments in the complex plane). If the endpoints are `BigFloat`, then the integration will be performed in `BigFloat` precision as well.\n",
       "\n",
       "!!! note\n",
       "    It is advisable to increase the integration `order` in rough proportion to the precision, for smooth integrands.\n",
       "\n",
       "\n",
       "More generally, the precision is set by the precision of the integration endpoints (promoted to floating-point types).\n",
       "\n",
       "The integrand `f(x)` can return any numeric scalar, vector, or matrix type, or in fact any type supporting `+`, `-`, multiplication by real values, and a `norm` (i.e., any normed vector space). Alternatively, a different norm can be specified by passing a `norm`-like function as the `norm` keyword argument (which defaults to `vecnorm`).\n",
       "\n",
       "!!! note\n",
       "    Only one-dimensional integrals are provided by this function. For multi-dimensional integration (cubature), there are many different algorithms (often much better than simple nested 1d integrals) and the optimal choice tends to be very problem-dependent. See the Julia external-package listing for available algorithms for multidimensional integration or other specialized tasks (such as integrals of highly oscillatory or singular functions).\n",
       "\n",
       "\n",
       "The algorithm is an adaptive Gauss-Kronrod integration technique: the integral in each interval is estimated using a Kronrod rule (`2*order+1` points) and the error is estimated using an embedded Gauss rule (`order` points). The interval with the largest error is then subdivided into two intervals and the process is repeated until the desired error tolerance is achieved.\n",
       "\n",
       "These quadrature rules work best for smooth functions within each interval, so if your function has a known discontinuity or other singularity, it is best to subdivide your interval to put the singularity at an endpoint. For example, if `f` has a discontinuity at `x=0.7` and you want to integrate from 0 to 1, you should use `quadgk(f, 0,0.7,1)` to subdivide the interval at the point of discontinuity. The integrand is never evaluated exactly at the endpoints of the intervals, so it is possible to integrate functions that diverge at the endpoints as long as the singularity is integrable (for example, a `log(x)` or `1/sqrt(x)` singularity).\n",
       "\n",
       "For real-valued endpoints, the starting and/or ending points may be infinite. (A coordinate transformation is performed internally to map the infinite interval to a finite one.)\n"
      ]
     },
     "execution_count": 4,
     "metadata": {},
     "output_type": "execute_result"
    }
   ],
   "source": [
    "?quadgk"
   ]
  },
  {
   "cell_type": "code",
   "execution_count": 5,
   "metadata": {},
   "outputs": [
    {
     "data": {
      "text/plain": [
       "4-element Array{Float64,1}:\n",
       "   3.00032e-16\n",
       "  -3.29879e-15\n",
       "  12.5664     \n",
       " 118.435      "
      ]
     },
     "execution_count": 5,
     "metadata": {},
     "output_type": "execute_result"
    }
   ],
   "source": [
    "bnum = Float64[quadgk(x -> x^i*cos(x), 0, 2π)[1] for i=0:n]"
   ]
  },
  {
   "cell_type": "code",
   "execution_count": 6,
   "metadata": {},
   "outputs": [
    {
     "data": {
      "text/plain": [
       "4-element Array{Float64,1}:\n",
       "   0.0   \n",
       "   0.0   \n",
       "  12.5664\n",
       " 118.435 "
      ]
     },
     "execution_count": 6,
     "metadata": {},
     "output_type": "execute_result"
    }
   ],
   "source": [
    "b = float(bsym)"
   ]
  },
  {
   "cell_type": "code",
   "execution_count": 7,
   "metadata": {},
   "outputs": [
    {
     "data": {
      "text/plain": [
       "4-element Array{Float64,1}:\n",
       " -3.00032e-16\n",
       "  3.29879e-15\n",
       "  1.42109e-14\n",
       "  7.10543e-14"
      ]
     },
     "execution_count": 7,
     "metadata": {},
     "output_type": "execute_result"
    }
   ],
   "source": [
    "b - bnum"
   ]
  },
  {
   "cell_type": "code",
   "execution_count": 8,
   "metadata": {},
   "outputs": [
    {
     "data": {
      "text/plain": [
       "4-element Array{Float64,1}:\n",
       "  1.51982    \n",
       " -1.45132    \n",
       "  0.230985   \n",
       " -1.90467e-15"
      ]
     },
     "execution_count": 8,
     "metadata": {},
     "output_type": "execute_result"
    }
   ],
   "source": [
    "c = float(B)\\b"
   ]
  },
  {
   "cell_type": "code",
   "execution_count": 9,
   "metadata": {},
   "outputs": [
    {
     "data": {
      "text/plain": [
       "4-element Array{Float64,1}:\n",
       " -2.77556e-14\n",
       "  5.06262e-14\n",
       " -1.89015e-14\n",
       "  1.90467e-15"
      ]
     },
     "execution_count": 9,
     "metadata": {},
     "output_type": "execute_result"
    }
   ],
   "source": [
    "float(csym) - c"
   ]
  },
  {
   "cell_type": "code",
   "execution_count": 8,
   "metadata": {},
   "outputs": [
    {
     "data": {
      "image/png": "[encoded data removed]",
      "text/plain": [
       "PyPlot.Figure(PyObject <matplotlib.figure.Figure object at 0x131fbc750>)"
      ]
     },
     "metadata": {},
     "output_type": "display_data"
    },
    {
     "name": "stderr",
     "output_type": "stream",
     "text": [
      "\u001b[1m\u001b[33mWARNING: \u001b[39m\u001b[22m\u001b[33mcos{T <: Number}(x::AbstractArray{T}) is deprecated, use cos.(x) instead.\u001b[39m\n",
      "Stacktrace:\n",
      " [1] \u001b[1mdepwarn\u001b[22m\u001b[22m\u001b[1m(\u001b[22m\u001b[22m::String, ::Symbol\u001b[1m)\u001b[22m\u001b[22m at \u001b[1m./deprecated.jl:70\u001b[22m\u001b[22m\n",
      " [2] \u001b[1mcos\u001b[22m\u001b[22m\u001b[1m(\u001b[22m\u001b[22m::StepRangeLen{Float64,Base.TwicePrecision{Float64},Base.TwicePrecision{Float64}}\u001b[1m)\u001b[22m\u001b[22m at \u001b[1m./deprecated.jl:57\u001b[22m\u001b[22m\n",
      " [3] \u001b[1minclude_string\u001b[22m\u001b[22m\u001b[1m(\u001b[22m\u001b[22m::String, ::String\u001b[1m)\u001b[22m\u001b[22m at \u001b[1m./loading.jl:515\u001b[22m\u001b[22m\n",
      " [4] \u001b[1minclude_string\u001b[22m\u001b[22m\u001b[1m(\u001b[22m\u001b[22m::Module, ::String, ::String\u001b[1m)\u001b[22m\u001b[22m at \u001b[1m/Users/yunier/.julia/v0.6/Compat/src/Compat.jl:71\u001b[22m\u001b[22m\n",
      " [5] \u001b[1mexecute_request\u001b[22m\u001b[22m\u001b[1m(\u001b[22m\u001b[22m::ZMQ.Socket, ::IJulia.Msg\u001b[1m)\u001b[22m\u001b[22m at \u001b[1m/Users/yunier/.julia/v0.6/IJulia/src/execute_request.jl:158\u001b[22m\u001b[22m\n",
      " [6] \u001b[1m(::Compat.#inner#17{Array{Any,1},IJulia.#execute_request,Tuple{ZMQ.Socket,IJulia.Msg}})\u001b[22m\u001b[22m\u001b[1m(\u001b[22m\u001b[22m\u001b[1m)\u001b[22m\u001b[22m at \u001b[1m/Users/yunier/.julia/v0.6/Compat/src/Compat.jl:385\u001b[22m\u001b[22m\n",
      " [7] \u001b[1meventloop\u001b[22m\u001b[22m\u001b[1m(\u001b[22m\u001b[22m::ZMQ.Socket\u001b[1m)\u001b[22m\u001b[22m at \u001b[1m/Users/yunier/.julia/v0.6/IJulia/src/eventloop.jl:8\u001b[22m\u001b[22m\n",
      " [8] \u001b[1m(::IJulia.##14#17)\u001b[22m\u001b[22m\u001b[1m(\u001b[22m\u001b[22m\u001b[1m)\u001b[22m\u001b[22m at \u001b[1m./task.jl:335\u001b[22m\u001b[22m\n",
      "while loading In[8], in expression starting on line 6\n"
     ]
    }
   ],
   "source": [
    "c=float(csym)\n",
    "using PyPlot\n",
    "\n",
    "xx = linspace(0, 2π, 1000)\n",
    "\n",
    "plot(xx, cos(xx))\n",
    "\n",
    "# Evaluate p using Horner's rule\n",
    "p = zeros(xx)\n",
    "for i=n+1:-1:1\n",
    "    p = p.*xx + c[i]\n",
    "end\n",
    "\n",
    "plot(xx, p, \"r\");"
   ]
  },
  {
   "cell_type": "markdown",
   "metadata": {},
   "source": [
    "---"
   ]
  },
  {
   "cell_type": "markdown",
   "metadata": {},
   "source": [
    "## Unique solution to the normal equations\n",
    "\n",
    "In addition, the matrix $B$ is **symmetric** and **positive definite**. \n",
    "\n",
    "It is clear that $B$ is symmetric since $\\ip{\\phi_j}{\\phi_k} = \\ip{\\phi_k}{\\phi_j}$.\n",
    "\n",
    "To show $B$ is positive definite, we let $c \\in \\mathbb{R}^{n+1}$ be nonzero, and note that \n",
    "\n",
    "$$c^T B c = \\ip{p}{p} = \\norm{p}_2^2,$$\n",
    "\n",
    "where $p = \\sum_{j=0}^n c_j \\phi_j$. Since $c \\neq 0$, we have that $p \\neq 0$ due to the fact the functions $\\phi_0,\\ldots,\\phi_n$ are **linearly independent**. Thus, $c^T B c = \\norm{p}_2^2 > 0$."
   ]
  },
  {
   "cell_type": "markdown",
   "metadata": {},
   "source": [
    "Positive definite matrices are nonsingular, so $B$ is nonsingular.\n",
    "\n",
    "The proof is easy. Suppose that $B$ is singular. Then there is a nonzero vector $c$ such that $Bc = 0$. Then we have\n",
    "\n",
    "$$c^T B c = 0,$$\n",
    "\n",
    "which contradicts the fact that $B$ is positive definite. Thus $B$ must be nonsingular.\n",
    "\n",
    "Thus, there is a **unique solution** $c^*$ to the normal equations."
   ]
  },
  {
   "cell_type": "markdown",
   "metadata": {},
   "source": [
    "## Unique global minimizer\n",
    "\n",
    "Let $\\Delta c \\in \\mathbb{R}^{n+1}$ be nonzero. Then,\n",
    "\n",
    "$$\n",
    "\\begin{align}\n",
    "E_2(c^* + \\Delta c) \n",
    "&=  (c^* + \\Delta c)^T B (c^* + \\Delta c) - 2b^T (c^* + \\Delta c) + \\ip{f}{f}\\\\\n",
    "&=  \\paren{c^*}^T B c^* + 2\\paren{\\Delta c}^T B c^* +  \\paren{\\Delta c}^T B \\Delta c - 2b^T c^* - 2b^T \\Delta c + \\ip{f}{f}\\\\\n",
    "&= E_2(c^*) + 2\\paren{\\Delta c}^T \\paren{B c^* - b} +  \\paren{\\Delta c}^T B \\Delta c \\\\\n",
    "&= E_2(c^*) +  \\paren{\\Delta c}^T B \\Delta c \\\\\n",
    "&> E_2(c^*). \\\\\n",
    "\\end{align}\n",
    "$$\n",
    "\n",
    "Therefore, $E_2(c^*) < E_2(c^* + \\Delta c)$, for all $\\Delta c \\neq 0$, which implies that $c^*$ is the **unique global minimizer**."
   ]
  },
  {
   "cell_type": "markdown",
   "metadata": {},
   "source": [
    "## Orthogonal projection\n",
    "\n",
    "Geometrically, $p = \\sum_{j=0}^n c_j^* \\phi_j$ is the **orthogonal projection** of $f$ onto $\\span \\set{\\phi_0,\\ldots,\\phi_n}$.\n",
    "\n",
    "We can see this by noting that the **residual function** $r = f - p$ is orthogonal every to basis vector $\\phi_i$:\n",
    "\n",
    "$$\n",
    "\\begin{align}\n",
    "\\ip{r}{\\phi_i} \n",
    "&= \\ip{f-p}{\\phi_i} \\\\\n",
    "& = \\ip{f}{\\phi_i} - \\ip{p}{\\phi_i}\\\\\n",
    "& = b_i - \\ip{\\sum_{j=0}^n c_j^* \\phi_j}{\\phi_i}\\\\\n",
    "& = b_i - \\sum_{j=0}^n c_j^* \\ip{\\phi_j}{\\phi_i}\\\\\n",
    "& = b_i - \\sum_{j=0}^n c_j^* B_{ij}\\\\\n",
    "& = b_i - \\paren{B c^*}_i\\\\\n",
    "& = 0,\\\\\n",
    "\\end{align}\n",
    "$$\n",
    "\n",
    "since $B c^* = b$. \n",
    "\n",
    "Indeed, the normal equations can be interpreted as $\\ip{f-p}{\\phi_i} = 0$, for $i=0,\\ldots,n$.\n",
    "\n",
    "Therefore, $r = f - p$ is orthogonal to the whole space $\\span\\set{\\phi_0,\\ldots,\\phi_n}$, and we conclude that $p$ is the orthogonal projection of $f$ onto $\\span\\set{\\phi_0,\\ldots,\\phi_n}$."
   ]
  },
  {
   "cell_type": "markdown",
   "metadata": {},
   "source": [
    "---"
   ]
  },
  {
   "cell_type": "markdown",
   "metadata": {},
   "source": [
    "## Pros and cons of using the monomial basis for continuous least squares\n",
    "\n",
    "### Pros:\n",
    "\n",
    "1. Simple. Over the interval $[a,b]$, we have:\n",
    "\n",
    "   $$B_{ij} = \\frac{(b-a)^{i+j+1}}{i+j+1}, \\quad i,j = 0,\\ldots,n.$$\n",
    "\n",
    "   Thus, $B$ is easy to evaluate. When $[a,b] = [0,1]$, we have the famous **[Hilbert matrix](http://en.wikipedia.org/wiki/Hilbert_matrix)**:\n",
    "\n",
    "  $$B = H_{n+1} =\n",
    "  \\begin{bmatrix}\n",
    "  1 & \\frac12 & \\cdots & \\frac{1}{n+1} \\\\\n",
    "  \\frac12 & \\frac13 & \\cdots & \\frac{1}{n+2} \\\\\n",
    "  \\vdots & \\vdots & \\ddots & \\vdots \\\\\n",
    "  \\frac{1}{n+1} & \\frac{1}{n+2} & \\cdots & \\frac{1}{2n + 1}\\\\\n",
    "  \\end{bmatrix}.\n",
    "  $$\n",
    "\n",
    "### Cons:\n",
    "\n",
    "1. Solving $B c = b$ can be expensive for large $n$.\n",
    "\n",
    "2. The matrix $B$ is highly **ill-conditioned** which means that the computed solution $c$ is highly sensitive to errors in the right-hand-side vector $b$ and to the round-off errors that occur during the computation.\n"
   ]
  },
  {
   "cell_type": "markdown",
   "metadata": {},
   "source": [
    "---"
   ]
  }
 ],
 "metadata": {
  "kernelspec": {
   "display_name": "Julia 0.6.0",
   "language": "julia",
   "name": "julia-0.6"
  },
  "language_info": {
   "file_extension": ".jl",
   "mimetype": "application/julia",
   "name": "julia",
   "version": "0.6.0"
  }
 },
 "nbformat": 4,
 "nbformat_minor": 1
}
