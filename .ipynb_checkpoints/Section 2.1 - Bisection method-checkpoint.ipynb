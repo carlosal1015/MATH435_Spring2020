{
 "cells": [
  {
   "cell_type": "markdown",
   "metadata": {},
   "source": [
    "---\n",
    "# 2.1 Bisection method\n",
    "---"
   ]
  },
  {
   "cell_type": "markdown",
   "metadata": {},
   "source": [
    "Suppose $f \\in C[a,b]$ and that $f(a)$ and $f(b)$ have opposite signs; i.e.,\n",
    "\n",
    "$$\n",
    "f(a) \\cdot f(b) < 0.\n",
    "$$\n",
    "\n",
    "Recall the following important theorem from calculus.\n",
    "\n",
    "> ### Intermediate Value Theorem\n",
    ">\n",
    "If $f \\in C[a,b]$ and $f(a) \\leq s \\leq f(b)$, then there exists a real number $c \\in [a,b]$ such that $f(c) = s$.\n",
    "\n",
    "Since $f$ changes sign over $[a,b]$, the Intermediate Value Theorem implies that there is some $x^* \\in [a,b]$ such that $f(x^*) = 0$.\n",
    "\n",
    "The **bisection method** searches for a root of $f$ in $[a,b]$ as follows.\n",
    "\n",
    "1. Let $p = (a+b)/2$ be the **midpoint** of $[a,b]$.\n",
    "2. If $f(a) \\cdot f(p) < 0$, then there is a root in $[a,p]$.\n",
    "3. If $f(a) \\cdot f(p) = 0$, then $p$ is a root.\n",
    "4. If $f(a) \\cdot f(p) > 0$, then there is a root in $[p,b]$.\n",
    "\n",
    "Each time we apply the above, we get a subinterval that contains a root that is **half the size** of the interval $[a,b]$."
   ]
  },
  {
   "cell_type": "code",
   "execution_count": 30,
   "metadata": {},
   "outputs": [
    {
     "data": {
      "text/plain": [
       "bisect (generic function with 2 methods)"
      ]
     },
     "execution_count": 30,
     "metadata": {},
     "output_type": "execute_result"
    }
   ],
   "source": [
    "# Code the bisection method\n",
    "function bisect(f, a, b, tol=1e-8)\n",
    "    fa, fb = f(a), f(b)\n",
    "    \n",
    "    if fa == 0.0\n",
    "        return a\n",
    "    elseif fb == 0.0\n",
    "        return b\n",
    "    end\n",
    "        \n",
    "    if fa*fb > 0\n",
    "        error(\"The sign of f(a) and f(b) must be different.\")\n",
    "    end\n",
    "    \n",
    "    k = 0\n",
    "    p = (a + b)/2\n",
    "    oldp = Inf\n",
    "    @printf \"%4s %12s %12s %12s\\n\" \"k\" \"a\" \"p\" \"b\"\n",
    "    while abs(p - oldp) > tol*(1 + abs(p))\n",
    "        k += 1\n",
    "        fp = f(p)\n",
    "        if fp == 0.0\n",
    "            return p\n",
    "        end\n",
    "\n",
    "        if fa*fp < 0\n",
    "            b = p\n",
    "        else\n",
    "            a = p\n",
    "        end\n",
    "        oldp = p\n",
    "        p = (a + b)/2\n",
    "        @printf \"%4d %12.8f %12.8f %12.8f\\n\" k a p b\n",
    "    end\n",
    "    \n",
    "    return p\n",
    "    \n",
    "end"
   ]
  },
  {
   "cell_type": "code",
   "execution_count": 2,
   "metadata": {},
   "outputs": [
    {
     "data": {
      "text/plain": [
       "f (generic function with 1 method)"
      ]
     },
     "execution_count": 2,
     "metadata": {},
     "output_type": "execute_result"
    }
   ],
   "source": [
    "f(x) = x^2 - 2"
   ]
  },
  {
   "cell_type": "code",
   "execution_count": 3,
   "metadata": {},
   "outputs": [
    {
     "ename": "LoadError",
     "evalue": "\u001b[91mThe sign of f(a) and f(b) must be different.\u001b[39m",
     "output_type": "error",
     "traceback": [
      "\u001b[91mThe sign of f(a) and f(b) must be different.\u001b[39m",
      "",
      "Stacktrace:",
      " [1] \u001b[1mbisect\u001b[22m\u001b[22m\u001b[1m(\u001b[22m\u001b[22m::#f, ::Float64, ::Float64, ::Float64\u001b[1m)\u001b[22m\u001b[22m at \u001b[1m./In[1]:12\u001b[22m\u001b[22m",
      " [2] \u001b[1mbisect\u001b[22m\u001b[22m\u001b[1m(\u001b[22m\u001b[22m::Function, ::Float64, ::Float64\u001b[1m)\u001b[22m\u001b[22m at \u001b[1m./In[1]:3\u001b[22m\u001b[22m",
      " [3] \u001b[1minclude_string\u001b[22m\u001b[22m\u001b[1m(\u001b[22m\u001b[22m::String, ::String\u001b[1m)\u001b[22m\u001b[22m at \u001b[1m./loading.jl:515\u001b[22m\u001b[22m"
     ]
    }
   ],
   "source": [
    "bisect(f, 0., 1.)"
   ]
  },
  {
   "cell_type": "code",
   "execution_count": 31,
   "metadata": {},
   "outputs": [
    {
     "name": "stdout",
     "output_type": "stream",
     "text": [
      "   k            a            p            b\n",
      "   1   0.00000000   0.75000000   1.50000000\n",
      "   2   0.75000000   1.12500000   1.50000000\n",
      "   3   1.12500000   1.31250000   1.50000000\n",
      "   4   1.31250000   1.40625000   1.50000000\n",
      "   5   1.40625000   1.45312500   1.50000000\n",
      "   6   1.40625000   1.42968750   1.45312500\n",
      "   7   1.40625000   1.41796875   1.42968750\n",
      "   8   1.40625000   1.41210938   1.41796875\n",
      "   9   1.41210938   1.41503906   1.41796875\n",
      "  10   1.41210938   1.41357422   1.41503906\n",
      "  11   1.41357422   1.41430664   1.41503906\n",
      "  12   1.41357422   1.41394043   1.41430664\n",
      "  13   1.41394043   1.41412354   1.41430664\n",
      "  14   1.41412354   1.41421509   1.41430664\n",
      "  15   1.41412354   1.41416931   1.41421509\n",
      "  16   1.41416931   1.41419220   1.41421509\n",
      "  17   1.41419220   1.41420364   1.41421509\n",
      "  18   1.41420364   1.41420937   1.41421509\n",
      "  19   1.41420937   1.41421223   1.41421509\n",
      "  20   1.41421223   1.41421366   1.41421509\n",
      "  21   1.41421223   1.41421294   1.41421366\n",
      "  22   1.41421294   1.41421330   1.41421366\n",
      "  23   1.41421330   1.41421348   1.41421366\n",
      "  24   1.41421348   1.41421357   1.41421366\n",
      "  25   1.41421348   1.41421352   1.41421357\n",
      "  26   1.41421352   1.41421355   1.41421357\n"
     ]
    },
    {
     "data": {
      "text/html": [
       "1.4142135456204414"
      ],
      "text/plain": [
       "1.4142135456204414"
      ]
     },
     "execution_count": 31,
     "metadata": {},
     "output_type": "execute_result"
    }
   ],
   "source": [
    "bisect(f, 0., 3.)"
   ]
  },
  {
   "cell_type": "code",
   "execution_count": 32,
   "metadata": {},
   "outputs": [
    {
     "name": "stdout",
     "output_type": "stream",
     "text": [
      "   k            a            p            b\n",
      "   1   1.00000000  25.75000000  50.50000000\n",
      "   2   1.00000000  13.37500000  25.75000000\n",
      "   3   1.00000000   7.18750000  13.37500000\n",
      "   4   1.00000000   4.09375000   7.18750000\n",
      "   5   1.00000000   2.54687500   4.09375000\n",
      "   6   1.00000000   1.77343750   2.54687500\n",
      "   7   1.00000000   1.38671875   1.77343750\n",
      "   8   1.38671875   1.58007813   1.77343750\n",
      "   9   1.38671875   1.48339844   1.58007813\n",
      "  10   1.38671875   1.43505859   1.48339844\n",
      "  11   1.38671875   1.41088867   1.43505859\n",
      "  12   1.41088867   1.42297363   1.43505859\n",
      "  13   1.41088867   1.41693115   1.42297363\n",
      "  14   1.41088867   1.41390991   1.41693115\n",
      "  15   1.41390991   1.41542053   1.41693115\n",
      "  16   1.41390991   1.41466522   1.41542053\n",
      "  17   1.41390991   1.41428757   1.41466522\n",
      "  18   1.41390991   1.41409874   1.41428757\n",
      "  19   1.41409874   1.41419315   1.41428757\n",
      "  20   1.41419315   1.41424036   1.41428757\n",
      "  21   1.41419315   1.41421676   1.41424036\n",
      "  22   1.41419315   1.41420496   1.41421676\n",
      "  23   1.41420496   1.41421086   1.41421676\n",
      "  24   1.41421086   1.41421381   1.41421676\n",
      "  25   1.41421086   1.41421233   1.41421381\n",
      "  26   1.41421233   1.41421307   1.41421381\n",
      "  27   1.41421307   1.41421344   1.41421381\n",
      "  28   1.41421344   1.41421362   1.41421381\n",
      "  29   1.41421344   1.41421353   1.41421362\n",
      "  30   1.41421353   1.41421358   1.41421362\n",
      "  31   1.41421353   1.41421355   1.41421358\n"
     ]
    },
    {
     "data": {
      "text/html": [
       "9.534903755437085e-9"
      ],
      "text/plain": [
       "9.534903755437085e-9"
      ]
     },
     "execution_count": 32,
     "metadata": {},
     "output_type": "execute_result"
    }
   ],
   "source": [
    "xs = sqrt(2.0)\n",
    "\n",
    "rt = bisect(f, 1., 100.)\n",
    "\n",
    "abs(rt - xs) "
   ]
  },
  {
   "cell_type": "markdown",
   "metadata": {},
   "source": [
    "---"
   ]
  },
  {
   "cell_type": "markdown",
   "metadata": {},
   "source": [
    "### Example\n",
    "\n",
    "We will now use the above `bisect` function to find the root of\n",
    "\n",
    "$$\n",
    "h(x) = 2 \\cosh(x/4) - x\n",
    "$$\n",
    "\n",
    "that lies in the interval $[5,10]$."
   ]
  },
  {
   "cell_type": "code",
   "execution_count": 33,
   "metadata": {},
   "outputs": [
    {
     "data": {
      "text/plain": [
       "h (generic function with 1 method)"
      ]
     },
     "execution_count": 33,
     "metadata": {},
     "output_type": "execute_result"
    }
   ],
   "source": [
    "h(x) = 2cosh(x/4) - x"
   ]
  },
  {
   "cell_type": "code",
   "execution_count": 39,
   "metadata": {},
   "outputs": [
    {
     "data": {
      "text/html": [
       "-2.769924839616351"
      ],
      "text/plain": [
       "-2.769924839616351"
      ]
     },
     "execution_count": 39,
     "metadata": {},
     "output_type": "execute_result"
    }
   ],
   "source": [
    "h(5)h(10)"
   ]
  },
  {
   "cell_type": "code",
   "execution_count": 40,
   "metadata": {},
   "outputs": [
    {
     "name": "stdout",
     "output_type": "stream",
     "text": [
      "   k            a            p            b\n",
      "   1   7.50000000   8.75000000  10.00000000\n",
      "   2   7.50000000   8.12500000   8.75000000\n",
      "   3   8.12500000   8.43750000   8.75000000\n",
      "   4   8.43750000   8.59375000   8.75000000\n",
      "   5   8.43750000   8.51562500   8.59375000\n",
      "   6   8.43750000   8.47656250   8.51562500\n",
      "   7   8.47656250   8.49609375   8.51562500\n",
      "   8   8.49609375   8.50585938   8.51562500\n",
      "   9   8.50585938   8.51074219   8.51562500\n",
      "  10   8.50585938   8.50830078   8.51074219\n",
      "  11   8.50585938   8.50708008   8.50830078\n",
      "  12   8.50708008   8.50769043   8.50830078\n",
      "  13   8.50708008   8.50738525   8.50769043\n",
      "  14   8.50708008   8.50723267   8.50738525\n",
      "  15   8.50708008   8.50715637   8.50723267\n",
      "  16   8.50715637   8.50719452   8.50723267\n",
      "  17   8.50719452   8.50721359   8.50723267\n",
      "  18   8.50719452   8.50720406   8.50721359\n",
      "  19   8.50719452   8.50719929   8.50720406\n",
      "  20   8.50719929   8.50720167   8.50720406\n",
      "  21   8.50719929   8.50720048   8.50720167\n",
      "  22   8.50719929   8.50719988   8.50720048\n",
      "  23   8.50719929   8.50719959   8.50719988\n",
      "  24   8.50719929   8.50719944   8.50719959\n",
      "  25   8.50719944   8.50719951   8.50719959\n"
     ]
    },
    {
     "data": {
      "text/html": [
       "8.507199510931969"
      ],
      "text/plain": [
       "8.507199510931969"
      ]
     },
     "execution_count": 40,
     "metadata": {},
     "output_type": "execute_result"
    }
   ],
   "source": [
    "bisect(x -> 2cosh(x/4) - x, 5., 10.)"
   ]
  },
  {
   "cell_type": "markdown",
   "metadata": {},
   "source": [
    "---"
   ]
  },
  {
   "cell_type": "markdown",
   "metadata": {},
   "source": [
    "### Example\n",
    "\n",
    "Let's try to find the value of $y_0$ such that the solution $y(t)$ of the ordinary differential equation \n",
    "\n",
    "$$\n",
    "\\frac{dy}{dt} = t - 5 + \\frac{y^2}{100}\n",
    "$$\n",
    "\n",
    "with initial value $y(0) = y_0$ satisfies $y(10) = 20$."
   ]
  },
  {
   "cell_type": "code",
   "execution_count": 41,
   "metadata": {
    "collapsed": true
   },
   "outputs": [],
   "source": [
    "using ODE  # Package for solving ordinary differential equations"
   ]
  },
  {
   "cell_type": "code",
   "execution_count": 42,
   "metadata": {},
   "outputs": [
    {
     "name": "stdout",
     "output_type": "stream",
     "text": [
      "search: \u001b[1mO\u001b[22m\u001b[1mD\u001b[22m\u001b[1mE\u001b[22m \u001b[1mo\u001b[22m\u001b[1md\u001b[22m\u001b[1me\u001b[22m4 \u001b[1mo\u001b[22m\u001b[1md\u001b[22m\u001b[1me\u001b[22m78 \u001b[1mo\u001b[22m\u001b[1md\u001b[22m\u001b[1me\u001b[22m4s \u001b[1mo\u001b[22m\u001b[1md\u001b[22m\u001b[1me\u001b[22m45 \u001b[1mo\u001b[22m\u001b[1md\u001b[22m\u001b[1me\u001b[22m23 \u001b[1mo\u001b[22m\u001b[1md\u001b[22m\u001b[1me\u001b[22m4ms \u001b[1mo\u001b[22m\u001b[1md\u001b[22m\u001b[1me\u001b[22m23s \u001b[1mO\u001b[22m\u001b[1mD\u001b[22m\u001b[1mE\u001b[22mProblem \u001b[1mO\u001b[22m\u001b[1mD\u001b[22m\u001b[1mE\u001b[22mSolution\n",
      "\n"
     ]
    },
    {
     "data": {
      "text/markdown": [
       "No documentation found.\n",
       "\n",
       "Displaying the `README.md` for the module instead.\n",
       "\n",
       "---\n",
       "\n",
       "Various basic Ordinary Differential Equation solvers implemented in Julia.\n",
       "\n",
       "[![Join the chat at https://gitter.im/JuliaDiffEq/Lobby](https://badges.gitter.im/JuliaDiffEq/Lobby.svg)](https://gitter.im/JuliaDiffEq/Lobby?utm_source=badge&utm_medium=badge&utm_campaign=pr-badge&utm_content=badge)  [![Travis](https://travis-ci.org/JuliaDiffEq/ODE.jl.svg?branch=master)](https://travis-ci.org/JuliaDiffEq/ODE.jl) [![AppVeyor](https://ci.appveyor.com/api/projects/status/mue0n1yhlxq4ok8d/branch/master?svg=true)](https://ci.appveyor.com/project/ChrisRackauckas/ode-jl/branch/master) [![Coverage Status](https://img.shields.io/coveralls/JuliaDiffEq/ODE.jl.svg)](https://coveralls.io/r/JuliaDiffEq/ODE.jl) [![ODE](http://pkg.julialang.org/badges/ODE_0.4.svg)](http://pkg.julialang.org/?pkg=ODE) [![ODE](http://pkg.julialang.org/badges/ODE_0.5.svg)](http://pkg.julialang.org/?pkg=ODE) [![ODE](http://pkg.julialang.org/badges/ODE_0.6.svg)](http://pkg.julialang.org/?pkg=ODE)\n",
       "\n",
       "Pull requests are always highly welcome to fix bugs, add solvers, or anything else!\n",
       "\n",
       "# Current status of the project\n",
       "\n",
       "This project is deprecated in favor of [DifferentialEquations.jl](https://github.com/JuliaDiffEq/DifferentialEquations.jl) and its ODE solvers [OrdinaryDiffEq.jl](https://github.com/JuliaDiffEq/OrdinaryDiffEq.jl). This library is in \"maitanance mode\", meaning that it is being upgraded with each Julia version, but not seeing active feature development. ODE.jl contains the basic functionality that was moved here when the package was originally moved from Base. Although quite poorly tested, at least some of the functionality is quite reliable. Use at your own risk.\n",
       "\n",
       "## Usage On the Common Interface\n",
       "\n",
       "The ODE.jl methods can be used on the common interface. Simply use the solver's name as the algorithm. For example, [the ODE tutorial](http://docs.juliadiffeq.org/latest/tutorials/ode_example.html) can be solved using ODE.jl's `ode45` by using the following commands:\n",
       "\n",
       "```julia\n",
       "using ODE\n",
       "f(t,u) = 1.01*u\n",
       "u0=1/2\n",
       "tspan = (0.0,1.0)\n",
       "prob = ODEProblem(f,u0,tspan)\n",
       "sol = solve(prob,ode45(),reltol=1e-8,abstol=1e-8)\n",
       "using Plots\n",
       "plot(sol,linewidth=5,title=\"Solution to the linear ODE with a thick line\",\n",
       "     xaxis=\"Time (t)\",yaxis=\"u(t) (in μm)\",label=\"My Thick Line!\") # legend=false\n",
       "plot!(sol.t, t->0.5*exp(1.01t),lw=3,ls=:dash,label=\"True Solution!\")\n",
       "```\n",
       "\n",
       "Note that ODE.jl does not natively support inplace updates. Inplace functions `f(t,u,du)` are converted to out-of-place functions `du=f(t,u)` and thus it will not be any more efficient.\n",
       "\n",
       "## Basic API\n",
       "\n",
       "All of the ODE.jl solvers the following basic API:\n",
       "\n",
       "```\n",
       "tout, yout = odeXX(F, y0, tspan; keywords...)\n",
       "```\n",
       "\n",
       "to solve the explicitly defined ODE by dy/dt = F(t,y). A few other solvers are also exported, see the source code for details.\n",
       "\n",
       "The adaptive solvers accept the following keywords\n",
       "\n",
       "  * `norm`: user-supplied norm for determining the error `E` (default `Base.vecnorm`),\n",
       "  * `abstol` and/or `reltol`: an integration step is accepted if `E <= abstol || E <= reltol*abs(y)` (defaults `reltol = 1e-5`, `abstol = 1e-8`),\n",
       "  * `maxstep`, `minstep` and `initstep`: determine the maximal, minimal and initial integration step (defaults `minstep=|tspan[end] - tspan[1]|/1e9`, `maxstep=|tspan[end] - tspan[1]|/2.5` and automatic initial step estimation).\n",
       "  * `points=:all` (default): output is given for each value in `tspan` as well as for each intermediate point the solver used.\n",
       "  * `points=:specified`: output is given only for each value in `tspan`.\n",
       "\n",
       "Additionally, `ode23s` solver supports\n",
       "\n",
       "  * `jacobian = G(t,y)`: user-supplied Jacobian G(t,y) = dF(t,y)/dy (default estimate by finite-difference method).\n",
       "\n",
       "There are also fixed step Runge-Kutta and Rosenbrock solvers available.\n",
       "\n",
       "## Available Solvers\n",
       "\n",
       "Currently, `ODE` exports the following adaptive solvers:\n",
       "\n",
       "  * `ode23`: 2nd order adaptive solver with 3rd order error control, using the Bogacki–Shampine coefficients\n",
       "  * `ode45`: 4th order adaptive solver with 5th order error control, using the Dormand Prince coefficients. Fehlberg and Cash-Karp coefficients are also available.\n",
       "  * `ode78`: 7th order adaptive solver with 8th order error control, using the Fehlberg coefficients.\n",
       "  * `ode23s`: 2nd/3rd order adaptive solver for stiff problems, using a modified Rosenbrock triple.\n",
       "\n",
       "For a full list, see the [DiffEqDocs ODE Solvers page](http://docs.juliadiffeq.org/latest/solvers/ode_solve.html#ODE.jl-1).\n",
       "\n",
       "# Examples\n",
       "\n",
       "The examples directory contain a few notebooks that show how to get started. You can also see them here:\n",
       "\n",
       "  * [Simple differential equation](http://nbviewer.jupyter.org/github/JuliaLang/ODE.jl/blob/master/examples/Simple_Differential_Equation.ipynb)\n",
       "  * [Lorenz Attractor](http://nbviewer.jupyter.org/github/JuliaLang/ODE.jl/blob/master/examples/Lorenz_Attractor.ipynb)\n",
       "  * [Terminal Velocity](http://nbviewer.jupyter.org/github/JuliaLang/ODE.jl/blob/master/examples/Terminal_Velocity.ipynb)\n"
      ],
      "text/plain": [
       "No documentation found.\n",
       "\n",
       "Displaying the `README.md` for the module instead.\n",
       "\n",
       "---\n",
       "\n",
       "Various basic Ordinary Differential Equation solvers implemented in Julia.\n",
       "\n",
       "[![Join the chat at https://gitter.im/JuliaDiffEq/Lobby](https://badges.gitter.im/JuliaDiffEq/Lobby.svg)](https://gitter.im/JuliaDiffEq/Lobby?utm_source=badge&utm_medium=badge&utm_campaign=pr-badge&utm_content=badge)  [![Travis](https://travis-ci.org/JuliaDiffEq/ODE.jl.svg?branch=master)](https://travis-ci.org/JuliaDiffEq/ODE.jl) [![AppVeyor](https://ci.appveyor.com/api/projects/status/mue0n1yhlxq4ok8d/branch/master?svg=true)](https://ci.appveyor.com/project/ChrisRackauckas/ode-jl/branch/master) [![Coverage Status](https://img.shields.io/coveralls/JuliaDiffEq/ODE.jl.svg)](https://coveralls.io/r/JuliaDiffEq/ODE.jl) [![ODE](http://pkg.julialang.org/badges/ODE_0.4.svg)](http://pkg.julialang.org/?pkg=ODE) [![ODE](http://pkg.julialang.org/badges/ODE_0.5.svg)](http://pkg.julialang.org/?pkg=ODE) [![ODE](http://pkg.julialang.org/badges/ODE_0.6.svg)](http://pkg.julialang.org/?pkg=ODE)\n",
       "\n",
       "Pull requests are always highly welcome to fix bugs, add solvers, or anything else!\n",
       "\n",
       "# Current status of the project\n",
       "\n",
       "This project is deprecated in favor of [DifferentialEquations.jl](https://github.com/JuliaDiffEq/DifferentialEquations.jl) and its ODE solvers [OrdinaryDiffEq.jl](https://github.com/JuliaDiffEq/OrdinaryDiffEq.jl). This library is in \"maitanance mode\", meaning that it is being upgraded with each Julia version, but not seeing active feature development. ODE.jl contains the basic functionality that was moved here when the package was originally moved from Base. Although quite poorly tested, at least some of the functionality is quite reliable. Use at your own risk.\n",
       "\n",
       "## Usage On the Common Interface\n",
       "\n",
       "The ODE.jl methods can be used on the common interface. Simply use the solver's name as the algorithm. For example, [the ODE tutorial](http://docs.juliadiffeq.org/latest/tutorials/ode_example.html) can be solved using ODE.jl's `ode45` by using the following commands:\n",
       "\n",
       "```julia\n",
       "using ODE\n",
       "f(t,u) = 1.01*u\n",
       "u0=1/2\n",
       "tspan = (0.0,1.0)\n",
       "prob = ODEProblem(f,u0,tspan)\n",
       "sol = solve(prob,ode45(),reltol=1e-8,abstol=1e-8)\n",
       "using Plots\n",
       "plot(sol,linewidth=5,title=\"Solution to the linear ODE with a thick line\",\n",
       "     xaxis=\"Time (t)\",yaxis=\"u(t) (in μm)\",label=\"My Thick Line!\") # legend=false\n",
       "plot!(sol.t, t->0.5*exp(1.01t),lw=3,ls=:dash,label=\"True Solution!\")\n",
       "```\n",
       "\n",
       "Note that ODE.jl does not natively support inplace updates. Inplace functions `f(t,u,du)` are converted to out-of-place functions `du=f(t,u)` and thus it will not be any more efficient.\n",
       "\n",
       "## Basic API\n",
       "\n",
       "All of the ODE.jl solvers the following basic API:\n",
       "\n",
       "```\n",
       "tout, yout = odeXX(F, y0, tspan; keywords...)\n",
       "```\n",
       "\n",
       "to solve the explicitly defined ODE by dy/dt = F(t,y). A few other solvers are also exported, see the source code for details.\n",
       "\n",
       "The adaptive solvers accept the following keywords\n",
       "\n",
       "  * `norm`: user-supplied norm for determining the error `E` (default `Base.vecnorm`),\n",
       "  * `abstol` and/or `reltol`: an integration step is accepted if `E <= abstol || E <= reltol*abs(y)` (defaults `reltol = 1e-5`, `abstol = 1e-8`),\n",
       "  * `maxstep`, `minstep` and `initstep`: determine the maximal, minimal and initial integration step (defaults `minstep=|tspan[end] - tspan[1]|/1e9`, `maxstep=|tspan[end] - tspan[1]|/2.5` and automatic initial step estimation).\n",
       "  * `points=:all` (default): output is given for each value in `tspan` as well as for each intermediate point the solver used.\n",
       "  * `points=:specified`: output is given only for each value in `tspan`.\n",
       "\n",
       "Additionally, `ode23s` solver supports\n",
       "\n",
       "  * `jacobian = G(t,y)`: user-supplied Jacobian G(t,y) = dF(t,y)/dy (default estimate by finite-difference method).\n",
       "\n",
       "There are also fixed step Runge-Kutta and Rosenbrock solvers available.\n",
       "\n",
       "## Available Solvers\n",
       "\n",
       "Currently, `ODE` exports the following adaptive solvers:\n",
       "\n",
       "  * `ode23`: 2nd order adaptive solver with 3rd order error control, using the Bogacki–Shampine coefficients\n",
       "  * `ode45`: 4th order adaptive solver with 5th order error control, using the Dormand Prince coefficients. Fehlberg and Cash-Karp coefficients are also available.\n",
       "  * `ode78`: 7th order adaptive solver with 8th order error control, using the Fehlberg coefficients.\n",
       "  * `ode23s`: 2nd/3rd order adaptive solver for stiff problems, using a modified Rosenbrock triple.\n",
       "\n",
       "For a full list, see the [DiffEqDocs ODE Solvers page](http://docs.juliadiffeq.org/latest/solvers/ode_solve.html#ODE.jl-1).\n",
       "\n",
       "# Examples\n",
       "\n",
       "The examples directory contain a few notebooks that show how to get started. You can also see them here:\n",
       "\n",
       "  * [Simple differential equation](http://nbviewer.jupyter.org/github/JuliaLang/ODE.jl/blob/master/examples/Simple_Differential_Equation.ipynb)\n",
       "  * [Lorenz Attractor](http://nbviewer.jupyter.org/github/JuliaLang/ODE.jl/blob/master/examples/Lorenz_Attractor.ipynb)\n",
       "  * [Terminal Velocity](http://nbviewer.jupyter.org/github/JuliaLang/ODE.jl/blob/master/examples/Terminal_Velocity.ipynb)\n"
      ]
     },
     "execution_count": 42,
     "metadata": {},
     "output_type": "execute_result"
    }
   ],
   "source": [
    "?ODE"
   ]
  },
  {
   "cell_type": "code",
   "execution_count": 43,
   "metadata": {},
   "outputs": [
    {
     "data": {
      "text/plain": [
       "F (generic function with 1 method)"
      ]
     },
     "execution_count": 43,
     "metadata": {},
     "output_type": "execute_result"
    }
   ],
   "source": [
    "F(t, y) = t - 5 + y^2/100"
   ]
  },
  {
   "cell_type": "code",
   "execution_count": 44,
   "metadata": {
    "collapsed": true
   },
   "outputs": [],
   "source": [
    "using PyPlot"
   ]
  },
  {
   "cell_type": "code",
   "execution_count": 18,
   "metadata": {},
   "outputs": [
    {
     "data": {
      "image/png": "[encoded data removed]",
      "text/plain": [
       "PyPlot.Figure(PyObject <matplotlib.figure.Figure object at 0x12f876d50>)"
      ]
     },
     "metadata": {},
     "output_type": "display_data"
    }
   ],
   "source": [
    "tspan = linspace(0, 10, 1000)\n",
    "\n",
    "y0 = 5.\n",
    "tout, yout = ode4(F, y0, tspan)\n",
    "plot(tout, yout);\n",
    "\n",
    "y0 = 10.\n",
    "tout, yout = ode4(F, y0, tspan)\n",
    "plot(tout, yout);\n",
    "\n",
    "y0 = 15.\n",
    "tout, yout = ode4(F, y0, tspan)\n",
    "plot(tout, yout);"
   ]
  },
  {
   "cell_type": "code",
   "execution_count": 45,
   "metadata": {},
   "outputs": [
    {
     "data": {
      "text/plain": [
       "foo (generic function with 1 method)"
      ]
     },
     "execution_count": 45,
     "metadata": {},
     "output_type": "execute_result"
    }
   ],
   "source": [
    "function foo(y0)\n",
    "    tspan = linspace(0, 10, 100000)\n",
    "    tout, yout = ode4((t, y) -> t - 5 + y^2/100, y0, tspan)\n",
    "    return yout[end]\n",
    "end"
   ]
  },
  {
   "cell_type": "code",
   "execution_count": 46,
   "metadata": {},
   "outputs": [
    {
     "name": "stdout",
     "output_type": "stream",
     "text": [
      "  0.258759 seconds (5.62 M allocations: 127.222 MiB, 9.11% gc time)\n"
     ]
    },
    {
     "data": {
      "text/html": [
       "12.088019887080163"
      ],
      "text/plain": [
       "12.088019887080163"
      ]
     },
     "execution_count": 46,
     "metadata": {},
     "output_type": "execute_result"
    }
   ],
   "source": [
    "@time foo(10.)"
   ]
  },
  {
   "cell_type": "code",
   "execution_count": 47,
   "metadata": {},
   "outputs": [
    {
     "data": {
      "text/html": [
       "35.576388340106746"
      ],
      "text/plain": [
       "35.576388340106746"
      ]
     },
     "execution_count": 47,
     "metadata": {},
     "output_type": "execute_result"
    }
   ],
   "source": [
    "foo(15.)"
   ]
  },
  {
   "cell_type": "code",
   "execution_count": 48,
   "metadata": {},
   "outputs": [
    {
     "name": "stdout",
     "output_type": "stream",
     "text": [
      "   k            a            p            b\n",
      "   1  12.50000000  13.75000000  15.00000000\n",
      "   2  12.50000000  13.12500000  13.75000000\n",
      "   3  12.50000000  12.81250000  13.12500000\n",
      "   4  12.81250000  12.96875000  13.12500000\n",
      "   5  12.81250000  12.89062500  12.96875000\n",
      "   6  12.89062500  12.92968750  12.96875000\n",
      "   7  12.92968750  12.94921875  12.96875000\n",
      "   8  12.92968750  12.93945313  12.94921875\n",
      "   9  12.92968750  12.93457031  12.93945313\n",
      "  10  12.92968750  12.93212891  12.93457031\n",
      "  11  12.93212891  12.93334961  12.93457031\n",
      "  12  12.93212891  12.93273926  12.93334961\n",
      "  13  12.93273926  12.93304443  12.93334961\n",
      "  14  12.93273926  12.93289185  12.93304443\n",
      "  15  12.93273926  12.93281555  12.93289185\n",
      "  16  12.93281555  12.93285370  12.93289185\n",
      "  17  12.93285370  12.93287277  12.93289185\n",
      "  18  12.93285370  12.93286324  12.93287277\n",
      "  19  12.93286324  12.93286800  12.93287277\n",
      "  20  12.93286800  12.93287039  12.93287277\n",
      "  21  12.93287039  12.93287158  12.93287277\n",
      "  22  12.93287158  12.93287218  12.93287277\n",
      "  23  12.93287158  12.93287188  12.93287218\n",
      "  24  12.93287158  12.93287173  12.93287188\n",
      "  25  12.93287158  12.93287165  12.93287173\n",
      "  5.813804 seconds (151.04 M allocations: 3.319 GiB, 17.23% gc time)\n"
     ]
    },
    {
     "data": {
      "text/html": [
       "12.932871654629707"
      ],
      "text/plain": [
       "12.932871654629707"
      ]
     },
     "execution_count": 48,
     "metadata": {},
     "output_type": "execute_result"
    }
   ],
   "source": [
    "@time y0 = bisect(y0 -> foo(y0) - 20, 10., 15.)"
   ]
  },
  {
   "cell_type": "code",
   "execution_count": 49,
   "metadata": {},
   "outputs": [
    {
     "data": {
      "text/html": [
       "-2.8298298460072147e-7"
      ],
      "text/plain": [
       "-2.8298298460072147e-7"
      ]
     },
     "execution_count": 49,
     "metadata": {},
     "output_type": "execute_result"
    }
   ],
   "source": [
    "foo(y0)-20"
   ]
  },
  {
   "cell_type": "code",
   "execution_count": 50,
   "metadata": {},
   "outputs": [
    {
     "data": {
      "image/png": "[encoded data removed]",
      "text/plain": [
       "PyPlot.Figure(PyObject <matplotlib.figure.Figure object at 0x137f4d0d0>)"
      ]
     },
     "metadata": {},
     "output_type": "display_data"
    }
   ],
   "source": [
    "tspan = linspace(0, 12, 100000)\n",
    "tout, yout = ode4(F, y0, tspan)\n",
    "plot(tout, yout);"
   ]
  },
  {
   "cell_type": "markdown",
   "metadata": {},
   "source": [
    "---"
   ]
  },
  {
   "cell_type": "markdown",
   "metadata": {},
   "source": [
    "## Analyzing the bisection method\n",
    "\n",
    "Initially, we know a root $x^*$ is somewhere in the interval $[a,b]$. If we let $x_k$ be the midpoint of the $k$th subinterval, then\n",
    "\n",
    "$$\\left|x^* - x_0\\right| \\leq \\frac{b-a}{2}.$$\n",
    "\n",
    "In the next iteration, \n",
    "\n",
    "$$\\left|x^* - x_1\\right| \\leq \\frac{b-a}{4},$$\n",
    "\n",
    "and in the following iteration,\n",
    "\n",
    "$$\\left|x^* - x_2\\right| \\leq \\frac{b-a}{8},$$\n",
    "\n",
    "and so on, each time reducing our error by a factor of $2$.\n",
    "\n",
    "In general,\n",
    "\n",
    "$$\\left|x^* - x_k\\right| \\leq \\frac{b-a}{2^{k+1}} , \n",
    "\\qquad \\text{for $k = 0,1,2,\\ldots$}.$$\n",
    "\n",
    "Suppose we want to compute $x_k$ such that \n",
    "\n",
    "$$\\left|x^* - x_k\\right| \\leq \\mathtt{atol}.$$\n",
    "\n",
    "Then we just need to find the smallest positive integer $k$ such that\n",
    "\n",
    "$$\\frac{b-a}{2} \\cdot 2^{-k} \\leq \\mathtt{atol}.$$\n",
    "\n",
    "That is,\n",
    "\n",
    "$$\\frac{b-a}{2\\mathtt{atol}} \\leq 2^k,$$\n",
    "\n",
    "which gives us\n",
    "\n",
    "$$\\log_2\\left(\\frac{b-a}{2\\mathtt{atol}}\\right) \\leq k,$$\n",
    "\n",
    "so we just need the first integer $k$ that is larger than $\\log_2\\left(\\frac{b-a}{2\\mathtt{atol}}\\right)$. Therefore, \n",
    "\n",
    "$$k = \\left\\lceil \\log_2\\left(\\frac{b-a}{2\\mathtt{atol}}\\right) \\right\\rceil.$$"
   ]
  },
  {
   "cell_type": "code",
   "execution_count": 51,
   "metadata": {},
   "outputs": [
    {
     "data": {
      "text/html": [
       "30.0"
      ],
      "text/plain": [
       "30.0"
      ]
     },
     "execution_count": 51,
     "metadata": {},
     "output_type": "execute_result"
    }
   ],
   "source": [
    "atol = 1e-8\n",
    "a, b = 1., 15.\n",
    "\n",
    "k = ceil(log2((b - a)/2atol))"
   ]
  },
  {
   "cell_type": "markdown",
   "metadata": {},
   "source": [
    "---"
   ]
  },
  {
   "cell_type": "markdown",
   "metadata": {},
   "source": [
    "## Pros and cons of the bisection method\n",
    "\n",
    "Pros:\n",
    "\n",
    "1. **Simple:** The bisection method only requires function values, is easy to understand and implement, and it is easy to analyze.\n",
    "\n",
    "2. **Robust:** The bisection method is guaranteed to work, provided that $f$ is continuous and changes sign on the interval $[a,b]$.\n",
    "\n",
    "Cons:\n",
    "\n",
    "1. **Slow to converge:** The bisection method often requires many function evaluations.\n",
    "\n",
    "2. **Does not generalize:** The bisection method only applies to solving equations involving one variable; it does not generalize to solving equations involving multiple variables.\n",
    "\n"
   ]
  },
  {
   "cell_type": "markdown",
   "metadata": {},
   "source": [
    "---"
   ]
  }
 ],
 "metadata": {
  "anaconda-cloud": {},
  "kernelspec": {
   "display_name": "Julia 0.6.0",
   "language": "julia",
   "name": "julia-0.6"
  },
  "language_info": {
   "file_extension": ".jl",
   "mimetype": "application/julia",
   "name": "julia",
   "version": "0.6.0"
  }
 },
 "nbformat": 4,
 "nbformat_minor": 1
}
