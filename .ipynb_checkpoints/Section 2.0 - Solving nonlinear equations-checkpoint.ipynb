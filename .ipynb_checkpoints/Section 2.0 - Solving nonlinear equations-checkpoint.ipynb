{
 "cells": [
  {
   "cell_type": "markdown",
   "metadata": {},
   "source": [
    "---\n",
    "# Chapter 2: Solutions of Equations in One Variable \n",
    "---"
   ]
  },
  {
   "cell_type": "markdown",
   "metadata": {},
   "source": [
    "In many applications, one needs the solution to a **nonlinear equation** for which there is no closed formula.\n",
    "\n",
    "- Suppose you do not have a cube-root function, but only the operations $+$, $-$, $\\times$, $\\div$:  \n",
    "\n",
    "$$\n",
    "x^3 = a\n",
    "$$\n",
    "\n",
    "- Polynomials with degree at least five have no general algebraic solution ([Abel-Ruffini Theorem](http://en.wikipedia.org/wiki/Abel%E2%80%93Ruffini_theorem)): \n",
    "\n",
    "$$\n",
    "x^5 - 5x^4 + 5x^3 + 5x^2 - 6x - 1 = 0\n",
    "$$\n",
    "\n",
    "- Solution of Initial Value Problems (ODE's): Differential equation modelling the growth of the population with an imigration constant term $v$. \n",
    "\n",
    "$N(t)$ denotes the number in the population at time $t$ and $\\lambda$ denotes the constant birth rate of the population. \n",
    "\n",
    "$$\n",
    " \\frac{d N(t)}{dt}=  \\lambda N(t) +v, \\qquad N(t)=N_0e^{\\lambda t}+\\frac{v}{\\lambda}\\left(e^{\\lambda t}-1\\right).\n",
    "$$\n",
    "\n",
    "Suppose $N(0) = 1,000,000$ individuals initially, that $435,000$ individuals immigrate into the community in the first year, and that $N(1) = 1,564,000$ individuals are present at the end of one year. To determine the birth rate of this population, we need to find $\\lambda$ in the equation\n",
    "\n",
    "$$\n",
    "1,564,000=1,000,000 \\,e^{\\lambda }+\\frac{435,000}{\\lambda}\\left(e^{\\lambda}-1\\right).\n",
    "$$\n",
    "\n",
    "- General nonlinear equations:\n",
    "\n",
    "$$\n",
    "10\\cosh(x/4) = x\n",
    "\\qquad \\text{and} \\qquad\n",
    "2\\cosh(x/4) = x\n",
    "$$\n",
    "\n",
    "**Note:** The **hyperbolic sine**, **hyperbolic cosine**, and **hyperbolic tangent** functions are defined as\n",
    "\n",
    "$$\n",
    "\\sinh(t) = \\frac{e^t - e^{-t}}{2},\n",
    "\\qquad\n",
    "\\cosh(t) = \\frac{e^t + e^{-t}}{2},\n",
    "\\qquad\n",
    "\\tanh(t) = \\frac{e^t - e^{-t}}{e^t + e^{-t}}.\n",
    "$$\n",
    "\n",
    "Thus $\\tanh(t) = \\frac{\\sinh(t)}{\\cosh(t)}$, $\\frac{d}{dt} \\sinh(t) = \\cosh(t)$, and $\\frac{d}{dt} \\cosh(t) = \\sinh(t)$."
   ]
  },
  {
   "cell_type": "markdown",
   "metadata": {},
   "source": [
    "---"
   ]
  },
  {
   "cell_type": "markdown",
   "metadata": {},
   "source": [
    "## Problem statement\n",
    "\n",
    "Given $f \\in C[a,b]$ (i.e., a *continuous* function $f \\colon [a,b] \\to \\mathbb{R}$) and we want to find $x^* \\in [a, b]$ such that\n",
    "\n",
    "$$\n",
    "f(x^*) = 0.\n",
    "$$\n",
    "\n",
    "The solution $x^*$ is called a **root** or **zero** of the function $f$. There could be exactly one root, many roots, or no roots at all."
   ]
  },
  {
   "cell_type": "code",
   "execution_count": 20,
   "metadata": {},
   "outputs": [
    {
     "name": "stdout",
     "output_type": "stream",
     "text": [
      "\u001b[32m\u001b[1m Resolving\u001b[22m\u001b[39m package versions...\n",
      "\u001b[32m\u001b[1m Installed\u001b[22m\u001b[39m Roots ─ v0.8.4\n",
      "\u001b[32m\u001b[1m  Updating\u001b[22m\u001b[39m `C:\\Users\\Owner\\.julia\\environments\\v1.3\\Project.toml`\n",
      " \u001b[90m [f2b01f46]\u001b[39m\u001b[92m + Roots v0.8.4\u001b[39m\n",
      "\u001b[32m\u001b[1m  Updating\u001b[22m\u001b[39m `C:\\Users\\Owner\\.julia\\environments\\v1.3\\Manifest.toml`\n",
      " \u001b[90m [f2b01f46]\u001b[39m\u001b[92m + Roots v0.8.4\u001b[39m\n"
     ]
    },
    {
     "name": "stderr",
     "output_type": "stream",
     "text": [
      "┌ Info: Precompiling Roots [f2b01f46-fcfa-551c-844a-d8ac1e96c665]\n",
      "└ @ Base loading.jl:1273\n"
     ]
    }
   ],
   "source": [
    "# Plot the above functions and their roots\n",
    "import Pkg; Pkg.add(\"Roots\")\n",
    "using PyPlot # Package for plotting\n",
    "using Roots  # Package for finding roots of functions"
   ]
  },
  {
   "cell_type": "code",
   "execution_count": 19,
   "metadata": {},
   "outputs": [
    {
     "data": {
      "text/plain": [
       "N (generic function with 1 method)"
      ]
     },
     "execution_count": 19,
     "metadata": {},
     "output_type": "execute_result"
    }
   ],
   "source": [
    "N(l) = 1000e^l+435(e^l-1)/l"
   ]
  },
  {
   "cell_type": "code",
   "execution_count": 3,
   "metadata": {},
   "outputs": [
    {
     "data": {
      "image/png": "[encoded data removed]",
      "text/plain": [
       "PyPlot.Figure(PyObject <matplotlib.figure.Figure object at 0x125b09410>)"
      ]
     },
     "metadata": {},
     "output_type": "display_data"
    }
   ],
   "source": [
    "a, b = 0, 1.1\n",
    "\n",
    "l = linspace(a, b, 1000)\n",
    "plot(l, N.(l))\n",
    "hlines(1564, a, b)\n",
    "hlines(0, a, b)\n",
    "vlines(1, 0, N(1), linestyles=\":\")\n",
    "vlines(0.100998, 0, N(0.100998), linestyles=\":\")\n",
    "xlim(a, b);"
   ]
  },
  {
   "cell_type": "code",
   "execution_count": 4,
   "metadata": {
    "scrolled": true
   },
   "outputs": [
    {
     "name": "stdout",
     "output_type": "stream",
     "text": [
      "search: \u001b[1mR\u001b[22m\u001b[1mo\u001b[22m\u001b[1mo\u001b[22m\u001b[1mt\u001b[22m\u001b[1ms\u001b[22m p\u001b[1mr\u001b[22m\u001b[1mo\u001b[22mm\u001b[1mo\u001b[22m\u001b[1mt\u001b[22me_\u001b[1ms\u001b[22mhape p\u001b[1mr\u001b[22m\u001b[1mo\u001b[22mm\u001b[1mo\u001b[22m\u001b[1mt\u001b[22me p\u001b[1mr\u001b[22m\u001b[1mo\u001b[22mm\u001b[1mo\u001b[22m\u001b[1mt\u001b[22me_type p\u001b[1mr\u001b[22m\u001b[1mo\u001b[22mm\u001b[1mo\u001b[22m\u001b[1mt\u001b[22me_rule Inse\u001b[1mr\u001b[22mti\u001b[1mo\u001b[22mnS\u001b[1mo\u001b[22mr\u001b[1mt\u001b[22m\n",
      "\n"
     ]
    },
    {
     "data": {
      "text/markdown": [
       "No documentation found.\n",
       "\n",
       "Displaying the `README.md` for the module instead.\n",
       "\n",
       "---\n",
       "\n",
       "[![Roots](http://pkg.julialang.org/badges/Roots_0.6.svg)](http://pkg.julialang.org/?pkg=Roots&ver=0.6)   Linux: [![Build Status](https://travis-ci.org/JuliaMath/Roots.jl.svg?branch=master)](https://travis-ci.org/JuliaMath/Roots.jl) Windows: [![Build status](https://ci.appveyor.com/api/projects/status/goteuptn5kypafyl?svg=true)](https://ci.appveyor.com/project/jverzani/roots-jl)\n",
       "\n",
       "# Root finding functions for Julia\n",
       "\n",
       "This package contains simple routines for finding roots of continuous scalar functions of a single real variable. The basic interface is through the function `fzero` which dispatches to an appropriate algorithm based on its argument(s):\n",
       "\n",
       "  * `fzero(f, a::Real, b::Real)` and `fzero(f, bracket::Vector)` call the `find_zero` algorithm to find a root within the bracket `[a,b]`.  When a bracket is used with `Float64` arguments, the algorithm is guaranteed to converge to a value `x` with either `f(x) == 0` or at least one of `f(prevfloat(x))*f(x) < 0` or `f(x)*f(nextfloat(x)) < 0`. (The function need not be continuous to apply the algorithm, as the last condition can still hold.)\n",
       "  * `fzero(f, x0::Real; order::Int=0)` calls a derivative-free method. The default method is a bit plodding but more robust to the quality of the initial guess than some others. For faster convergence and fewer function calls, an order can be specified. Possible values are 1, 2, 5, 8, and 16. The order 2 Steffensen method can be the fastest, but is in need of a good initial guess. The order 8 method is more robust and often as fast. The higher-order methods may be faster when using `Big` values.\n",
       "  * `fzero(f, x0::Real, bracket::Vector)` calls a derivative-free algorithm with initial guess `x0` with steps constrained to remain in the specified bracket.\n",
       "  * `fzeros(f, a::Real, b::Real; no_pts::Int=200)` will split the interval `[a,b]` into many subintervals and search for zeros in each using a bracketing method if possible. This naive algorithm may miss  double zeros that lie within the same subinterval and zeros where there is no crossing of the x-axis.\n",
       "\n",
       "For historical purposes, there are implementations of Newton's method (`newton`), Halley's method (`halley`), and the secant method (`secant_method`). For the first two, if derivatives are not specified, they will be computed using the `ForwardDiff` package.\n",
       "\n",
       "## Usage examples\n",
       "\n",
       "```julia\n",
       "f(x) = exp(x) - x^4\n",
       "## bracketing\n",
       "fzero(f, 8, 9)\t\t          # 8.613169456441398\n",
       "fzero(f, -10, 0)\t\t      # -0.8155534188089606\n",
       "fzeros(f, -10, 10)            # -0.815553, 1.42961  and 8.61317 \n",
       "\n",
       "## use a derivative free method\n",
       "fzero(f, 3)\t\t\t          # 1.4296118247255558\n",
       "\n",
       "## use a different order\n",
       "fzero(sin, 3, order=16)\t\t  # 3.141592653589793\n",
       "\n",
       "## BigFloat values yield more precision\n",
       "fzero(sin, BigFloat(3.0))\t  # 3.1415926535897932384...with 256 bits of precision\n",
       "```\n",
       "\n",
       "The `fzero` function can be used with callable objects:\n",
       "\n",
       "```julia\n",
       "using SymEngine; @vars x\n",
       "fzero(x^5 - x - 1, 1.0)\n",
       "```\n",
       "\n",
       "Or,\n",
       "\n",
       "```julia\n",
       "using Polynomials; x = variable(Int)\n",
       "fzero(x^5 - x - 1, 1.0)\n",
       "```\n",
       "\n",
       "The well-known methods can be used with or without supplied derivatives. If not specified, the `ForwardDiff` package is used for automatic differentiation.\n",
       "\n",
       "```julia\n",
       "f(x) = exp(x) - x^4\n",
       "fp(x) = exp(x) - 4x^3\n",
       "fpp(x) = exp(x) - 12x^2\n",
       "newton(f, fp, 8)              # 8.613169456441398\n",
       "newton(f, 8)\t\n",
       "halley(f, fp, fpp, 8)\n",
       "halley(f, 8)\n",
       "secant_method(f, 8, 8.5)\n",
       "```\n",
       "\n",
       "The automatic derivatives allow for easy solutions to finding critical points of a function.\n",
       "\n",
       "```julia\n",
       "## mean\n",
       "as = rand(5)\n",
       "function M(x) \n",
       "  sum([(x-a)^2 for a in as])\n",
       "end\n",
       "fzero(D(M), .5) - mean(as)\t  # 0.0\n",
       "\n",
       "## median\n",
       "function m(x) \n",
       "  sum([abs(x-a) for a in as])\n",
       "end\n",
       "fzero(D(m), 0, 1)  - median(as)\t# 0.0\n",
       "```\n",
       "\n",
       "## Alternate interface\n",
       "\n",
       "As an alternative interface to the MATLAB-inherited one through `fzero`, the function `find_zero` can be used. For this, a type is used to specify the method. For example,\n",
       "\n",
       "```\n",
       "find_zero(sin, 3.0, Order0())\n",
       "find_zero(x -> x^5 - x- 1, 1.0, Order1())  # also Order2(), Order5(), Order8(), Order16()\n",
       "```\n",
       "\n",
       "And bracketing methods:\n",
       "\n",
       "```\n",
       "find_zero(sin, (3, 4), Bisection())\n",
       "find_zero(x -> x^5 - x - 1, (1,2), FalsePosition())\n",
       "```\n",
       "\n",
       "---\n",
       "\n",
       "Some additional documentation can be read [here](http://nbviewer.ipython.org/url/github.com/JuliaLang/Roots.jl/blob/master/doc/roots.ipynb?create=1).\n"
      ],
      "text/plain": [
       "No documentation found.\n",
       "\n",
       "Displaying the `README.md` for the module instead.\n",
       "\n",
       "---\n",
       "\n",
       "[![Roots](http://pkg.julialang.org/badges/Roots_0.6.svg)](http://pkg.julialang.org/?pkg=Roots&ver=0.6)   Linux: [![Build Status](https://travis-ci.org/JuliaMath/Roots.jl.svg?branch=master)](https://travis-ci.org/JuliaMath/Roots.jl) Windows: [![Build status](https://ci.appveyor.com/api/projects/status/goteuptn5kypafyl?svg=true)](https://ci.appveyor.com/project/jverzani/roots-jl)\n",
       "\n",
       "# Root finding functions for Julia\n",
       "\n",
       "This package contains simple routines for finding roots of continuous scalar functions of a single real variable. The basic interface is through the function `fzero` which dispatches to an appropriate algorithm based on its argument(s):\n",
       "\n",
       "  * `fzero(f, a::Real, b::Real)` and `fzero(f, bracket::Vector)` call the `find_zero` algorithm to find a root within the bracket `[a,b]`.  When a bracket is used with `Float64` arguments, the algorithm is guaranteed to converge to a value `x` with either `f(x) == 0` or at least one of `f(prevfloat(x))*f(x) < 0` or `f(x)*f(nextfloat(x)) < 0`. (The function need not be continuous to apply the algorithm, as the last condition can still hold.)\n",
       "  * `fzero(f, x0::Real; order::Int=0)` calls a derivative-free method. The default method is a bit plodding but more robust to the quality of the initial guess than some others. For faster convergence and fewer function calls, an order can be specified. Possible values are 1, 2, 5, 8, and 16. The order 2 Steffensen method can be the fastest, but is in need of a good initial guess. The order 8 method is more robust and often as fast. The higher-order methods may be faster when using `Big` values.\n",
       "  * `fzero(f, x0::Real, bracket::Vector)` calls a derivative-free algorithm with initial guess `x0` with steps constrained to remain in the specified bracket.\n",
       "  * `fzeros(f, a::Real, b::Real; no_pts::Int=200)` will split the interval `[a,b]` into many subintervals and search for zeros in each using a bracketing method if possible. This naive algorithm may miss  double zeros that lie within the same subinterval and zeros where there is no crossing of the x-axis.\n",
       "\n",
       "For historical purposes, there are implementations of Newton's method (`newton`), Halley's method (`halley`), and the secant method (`secant_method`). For the first two, if derivatives are not specified, they will be computed using the `ForwardDiff` package.\n",
       "\n",
       "## Usage examples\n",
       "\n",
       "```julia\n",
       "f(x) = exp(x) - x^4\n",
       "## bracketing\n",
       "fzero(f, 8, 9)\t\t          # 8.613169456441398\n",
       "fzero(f, -10, 0)\t\t      # -0.8155534188089606\n",
       "fzeros(f, -10, 10)            # -0.815553, 1.42961  and 8.61317 \n",
       "\n",
       "## use a derivative free method\n",
       "fzero(f, 3)\t\t\t          # 1.4296118247255558\n",
       "\n",
       "## use a different order\n",
       "fzero(sin, 3, order=16)\t\t  # 3.141592653589793\n",
       "\n",
       "## BigFloat values yield more precision\n",
       "fzero(sin, BigFloat(3.0))\t  # 3.1415926535897932384...with 256 bits of precision\n",
       "```\n",
       "\n",
       "The `fzero` function can be used with callable objects:\n",
       "\n",
       "```julia\n",
       "using SymEngine; @vars x\n",
       "fzero(x^5 - x - 1, 1.0)\n",
       "```\n",
       "\n",
       "Or,\n",
       "\n",
       "```julia\n",
       "using Polynomials; x = variable(Int)\n",
       "fzero(x^5 - x - 1, 1.0)\n",
       "```\n",
       "\n",
       "The well-known methods can be used with or without supplied derivatives. If not specified, the `ForwardDiff` package is used for automatic differentiation.\n",
       "\n",
       "```julia\n",
       "f(x) = exp(x) - x^4\n",
       "fp(x) = exp(x) - 4x^3\n",
       "fpp(x) = exp(x) - 12x^2\n",
       "newton(f, fp, 8)              # 8.613169456441398\n",
       "newton(f, 8)\t\n",
       "halley(f, fp, fpp, 8)\n",
       "halley(f, 8)\n",
       "secant_method(f, 8, 8.5)\n",
       "```\n",
       "\n",
       "The automatic derivatives allow for easy solutions to finding critical points of a function.\n",
       "\n",
       "```julia\n",
       "## mean\n",
       "as = rand(5)\n",
       "function M(x) \n",
       "  sum([(x-a)^2 for a in as])\n",
       "end\n",
       "fzero(D(M), .5) - mean(as)\t  # 0.0\n",
       "\n",
       "## median\n",
       "function m(x) \n",
       "  sum([abs(x-a) for a in as])\n",
       "end\n",
       "fzero(D(m), 0, 1)  - median(as)\t# 0.0\n",
       "```\n",
       "\n",
       "## Alternate interface\n",
       "\n",
       "As an alternative interface to the MATLAB-inherited one through `fzero`, the function `find_zero` can be used. For this, a type is used to specify the method. For example,\n",
       "\n",
       "```\n",
       "find_zero(sin, 3.0, Order0())\n",
       "find_zero(x -> x^5 - x- 1, 1.0, Order1())  # also Order2(), Order5(), Order8(), Order16()\n",
       "```\n",
       "\n",
       "And bracketing methods:\n",
       "\n",
       "```\n",
       "find_zero(sin, (3, 4), Bisection())\n",
       "find_zero(x -> x^5 - x - 1, (1,2), FalsePosition())\n",
       "```\n",
       "\n",
       "---\n",
       "\n",
       "Some additional documentation can be read [here](http://nbviewer.ipython.org/url/github.com/JuliaLang/Roots.jl/blob/master/doc/roots.ipynb?create=1).\n"
      ]
     },
     "execution_count": 4,
     "metadata": {},
     "output_type": "execute_result"
    }
   ],
   "source": [
    "?Roots"
   ]
  },
  {
   "cell_type": "code",
   "execution_count": 5,
   "metadata": {},
   "outputs": [
    {
     "data": {
      "text/plain": [
       "1-element Array{Float64,1}:\n",
       " 0.100998"
      ]
     },
     "execution_count": 5,
     "metadata": {},
     "output_type": "execute_result"
    }
   ],
   "source": [
    "r(l)= 1000e^l+435(e^l-1)/l-1564\n",
    "fzeros(r, a, b)"
   ]
  },
  {
   "cell_type": "code",
   "execution_count": 6,
   "metadata": {},
   "outputs": [
    {
     "data": {
      "text/plain": [
       "p (generic function with 1 method)"
      ]
     },
     "execution_count": 6,
     "metadata": {},
     "output_type": "execute_result"
    }
   ],
   "source": [
    "p(x) = x^5 - 5x^4 + 5x^3 + 5x^2 - 6x - 1"
   ]
  },
  {
   "cell_type": "code",
   "execution_count": 7,
   "metadata": {},
   "outputs": [
    {
     "data": {
      "image/png": "[encoded data removed]",
      "text/plain": [
       "PyPlot.Figure(PyObject <matplotlib.figure.Figure object at 0x10c251f50>)"
      ]
     },
     "metadata": {},
     "output_type": "display_data"
    }
   ],
   "source": [
    "a, b = -1.25, 3.25\n",
    "\n",
    "x = linspace(a, b, 1000)\n",
    "plot(x, p.(x))\n",
    "hlines(0, a, b)\n",
    "xlim(a, b);"
   ]
  },
  {
   "cell_type": "code",
   "execution_count": 9,
   "metadata": {},
   "outputs": [
    {
     "data": {
      "text/plain": [
       "1.275834193317092"
      ]
     },
     "execution_count": 9,
     "metadata": {},
     "output_type": "execute_result"
    }
   ],
   "source": [
    "fzero(p, a, b)"
   ]
  },
  {
   "cell_type": "code",
   "execution_count": 8,
   "metadata": {},
   "outputs": [
    {
     "data": {
      "text/plain": [
       "5-element Array{Float64,1}:\n",
       " -0.95408 \n",
       " -0.150984\n",
       "  1.27583 \n",
       "  1.79073 \n",
       "  3.0385  "
      ]
     },
     "execution_count": 8,
     "metadata": {},
     "output_type": "execute_result"
    }
   ],
   "source": [
    "fzeros(p, a, b)"
   ]
  },
  {
   "cell_type": "code",
   "execution_count": 9,
   "metadata": {},
   "outputs": [
    {
     "data": {
      "text/plain": [
       "f (generic function with 1 method)"
      ]
     },
     "execution_count": 9,
     "metadata": {},
     "output_type": "execute_result"
    }
   ],
   "source": [
    "f(x) = 10cosh(x/4) - x"
   ]
  },
  {
   "cell_type": "code",
   "execution_count": 12,
   "metadata": {},
   "outputs": [
    {
     "data": {
      "image/png": "[encoded data removed]",
      "text/plain": [
       "PyPlot.Figure(PyObject <matplotlib.figure.Figure object at 0x11e115e50>)"
      ]
     },
     "metadata": {},
     "output_type": "display_data"
    }
   ],
   "source": [
    "a, b = -10, 10\n",
    "\n",
    "x = linspace(a, b, 1000)\n",
    "plot(x, f.(x))\n",
    "hlines(0, a, b)\n",
    "xlim(a, b);"
   ]
  },
  {
   "cell_type": "code",
   "execution_count": 10,
   "metadata": {},
   "outputs": [
    {
     "data": {
      "text/plain": [
       "0-element Array{Float64,1}"
      ]
     },
     "execution_count": 10,
     "metadata": {},
     "output_type": "execute_result"
    }
   ],
   "source": [
    "fzeros(f, a, b)"
   ]
  },
  {
   "cell_type": "code",
   "execution_count": 11,
   "metadata": {},
   "outputs": [
    {
     "data": {
      "text/plain": [
       "g (generic function with 1 method)"
      ]
     },
     "execution_count": 11,
     "metadata": {},
     "output_type": "execute_result"
    }
   ],
   "source": [
    "g(x) = 2cosh(x/4) - x"
   ]
  },
  {
   "cell_type": "code",
   "execution_count": 12,
   "metadata": {},
   "outputs": [
    {
     "data": {
      "image/png": "[encoded data removed]",
      "text/plain": [
       "PyPlot.Figure(PyObject <matplotlib.figure.Figure object at 0x11f6ace50>)"
      ]
     },
     "metadata": {},
     "output_type": "display_data"
    }
   ],
   "source": [
    "a, b = -10, 10\n",
    "\n",
    "x = linspace(a, b, 1000)\n",
    "plot(x, g.(x))\n",
    "hlines(0, a, b)\n",
    "xlim(a, b);"
   ]
  },
  {
   "cell_type": "code",
   "execution_count": 13,
   "metadata": {},
   "outputs": [
    {
     "data": {
      "text/plain": [
       "2-element Array{Float64,1}:\n",
       " 2.35755\n",
       " 8.5072 "
      ]
     },
     "execution_count": 13,
     "metadata": {},
     "output_type": "execute_result"
    }
   ],
   "source": [
    "fzeros(g, a, b)"
   ]
  },
  {
   "cell_type": "markdown",
   "metadata": {},
   "source": [
    "---"
   ]
  },
  {
   "cell_type": "markdown",
   "metadata": {},
   "source": [
    "## Iterative methods\n",
    "\n",
    "Often there is no closed formula for a root $x^*$ of the function $f$. Instead of using a formula to compute a root $x^*$, we will start with an **initial guess** $x_0$ and generate a **sequence of iterates**\n",
    "\n",
    "$$ x_1, x_2, x_3, \\ldots, x_k, \\ldots $$\n",
    "\n",
    "that we hope **converges** to $x^*$; i.e.,\n",
    "\n",
    "$$\\lim_{k \\to \\infty} x_k = x^*.$$\n",
    "\n",
    "**Note:** Different initial guesses $x_0$ may generate sequences of iterates that converge to different roots. We will see how to deal with this issue."
   ]
  },
  {
   "cell_type": "markdown",
   "metadata": {},
   "source": [
    "---"
   ]
  },
  {
   "cell_type": "markdown",
   "metadata": {},
   "source": [
    "## When to stop\n",
    "\n",
    "Since the sequence of iterates is infinite, we must decide when we are close enough to a root $x^*$. However, we do not know $x^*$, so how can we decide when we are close enough?\n",
    "\n",
    "Some options are to stop when:\n",
    "\n",
    "1. The function value is small:\n",
    "\n",
    "  $$\\left|f(x_k)\\right| < \\mathtt{ftol}.$$\n",
    "  \n",
    "  A problem with this test is that $\\left|f(x_k)\\right|$ may be very small although $x_k$ is still very far from a root.\n",
    "    \n",
    "2. Consecutive iterates are very close to each other:\n",
    "\n",
    "   $$\\left|x_k - x_{k-1}\\right| < \\mathtt{atol}.$$\n",
    "   \n",
    "   A problem with this test is that `atol` must take into account the magnitude of the iterates.\n",
    "\n",
    "3. Consecutive iterates are *relatively* close to each other:\n",
    "\n",
    "   $$\\left|x_k - x_{k-1}\\right| < \\mathtt{rtol} \\left|x_k\\right|.$$\n",
    "   \n",
    "   Usually this is more robust than the above absolute test.\n",
    "  "
   ]
  },
  {
   "cell_type": "markdown",
   "metadata": {},
   "source": [
    "---"
   ]
  }
 ],
 "metadata": {
  "anaconda-cloud": {},
  "kernelspec": {
   "display_name": "Julia 1.3.1",
   "language": "julia",
   "name": "julia-1.3"
  },
  "language_info": {
   "file_extension": ".jl",
   "mimetype": "application/julia",
   "name": "julia",
   "version": "1.3.1"
  }
 },
 "nbformat": 4,
 "nbformat_minor": 1
}
