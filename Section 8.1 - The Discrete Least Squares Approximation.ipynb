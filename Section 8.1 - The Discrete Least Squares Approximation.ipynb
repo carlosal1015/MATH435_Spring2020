{
 "cells": [
  {
   "cell_type": "markdown",
   "metadata": {},
   "source": [
    "---\n",
    "# Section 8.1: The Discrete Least Squares Approximation\n",
    "---"
   ]
  },
  {
   "cell_type": "markdown",
   "metadata": {},
   "source": [
    "## Polynomial Least squares\n",
    "\n",
    "#### Motivation:\n",
    "\n",
    "If we have several points $$(1,1.3);\\; (2,3.5); (3,4.2); (4,5.0); (5,7); (6,8.8); (7,10.1); (8,12.5); (9,13.0); (10,15.6)$$ to be interpolated as follows:\n",
    "\n",
    "![title](Fig8.1.png)\n",
    "\n",
    "The following polynomial is clearly a poor predictor of the information. \n",
    "\n",
    "![title](Fig8.2.png)\n",
    "\n",
    "A better approach would be to find the \"best\" approximating line, even if it does not agree precisely with the data at any point. \n",
    "\n",
    "![title](Fig8.3.png)\n",
    "\n",
    "The general problem of approximating a set of data, $\\{(x_i, y_i) \\quad |\\quad  i = 1, 2, \\ldots , m\\}$, with an algebraic polynomial\n",
    "\n",
    "$$P_n(x) = a_nx^n + a_{n−1}x^{n−1} + \\cdots + a_1x + a_0,$$\n",
    "of degree $n < m - 1$, using the least squares procedure is handled similarly. We choose the\n",
    "constants $a_0, a_1, \\ldots, a_n$ to minimize the least squares error $E = E_2(a_0, a_1, \\ldots , a_n)$, where\n",
    "\n",
    "$$E=\\sum_{i=1}^m(y_i-P_n(x_i))^2=\\sum_{i=1}^m\\left(y_i-\\left(a_nx_i^n + a_{n−1}x_i^{n−1} + \\cdots + a_1x_i + a_0\\right)\\right)^2,$$\n",
    "\n",
    "for E to be minimized it is necessary that $\\displaystyle \\frac{\\partial E}{\\partial a_j} = 0$, for each $j = 0,1,\\ldots,n$. Thus, for each $j$, we must have\n",
    "\n",
    "$$0=\\displaystyle \\frac{\\partial E}{\\partial a_j}=-2\\sum_{i=1}^m\\left(y_i-\\left(a_nx_i^n + a_{n−1}x_i^{n−1} + \\cdots + a_1x_i + a_0\\right)\\right)x_i^j.$$\n",
    "\n",
    "This gives the **Normal Equations** with $n+1$ equations and $n+1$ unknowns $a_j$ as follows:\n",
    "\n",
    "$$\\begin{bmatrix}\n",
    "  \\sum_{i=1}^m x_i^0 & \\sum_{i=1}^m x_i^1 & \\cdots & \\sum_{i=1}^m x_i^n \\\\\n",
    "  \\sum_{i=1}^m x_i^1 & \\sum_{i=1}^m x_i^2 & \\cdots & \\sum_{i=1}^m x_i^{n+1} \\\\\n",
    "  \\vdots & \\vdots & \\ddots & \\vdots \\\\\n",
    "  \\sum_{i=1}^m x_i^n & \\sum_{i=1}^m x_i^{n+1} & \\cdots & \\sum_{i=1}^m x_i^{n+n}\\\\\n",
    "  \\end{bmatrix}\\begin{bmatrix}a_0\\\\a_1\\\\\\vdots\\\\a_n \\end{bmatrix}=\\begin{bmatrix}\\sum_{i=1}^my_ix_i^0\\\\\\sum_{i=1}^my_ix_i^1\\\\\\vdots\\\\\\sum_{i=1}^my_ix_i^n \\end{bmatrix}.$$\n",
    "  \n",
    "If we define $Y=\\begin{bmatrix}y_1\\\\y_2\\\\\\vdots\\\\y_m \\end{bmatrix}\\in \\mathbb{R}^{m}$ and $A\\in \\mathbb{R}^{m\\times (n+1)}$ as\n",
    "\n",
    "$$A=\\begin{bmatrix}\n",
    "1 & x_1 & \\cdots & x_1^n\\\\\n",
    "1 & x_2 & \\cdots & x_2^n\\\\\n",
    "\\vdots & \\vdots & \\ddots & \\vdots\\\\\n",
    "1 & x_m & \\cdots & x_m^n\\\\\n",
    "\\end{bmatrix},$$ then\n",
    "\n",
    "$$A^TAa=A^TY$$ are the **Normal Equations**, where $$a=\\begin{bmatrix}a_0\\\\a_1\\\\\\vdots\\\\a_n \\end{bmatrix}.$$ \n",
    "\n",
    "\n",
    "## Over-determined linear systems\n",
    "\n",
    "Let $A \\in \\mathbb{R}^{m \\times n}$ and $b \\in \\mathbb{R}^m$. \n",
    "\n",
    "If $m > n$, we say the linear system \n",
    "\n",
    "$$\n",
    "Ax = b\n",
    "$$ \n",
    "\n",
    "is **over-determined**.\n",
    "\n",
    "Often over-determined linear systems have no solution, typically due to measurement errors in  $b$."
   ]
  },
  {
   "cell_type": "markdown",
   "metadata": {},
   "source": [
    "---"
   ]
  },
  {
   "cell_type": "markdown",
   "metadata": {},
   "source": [
    "## Minimizing the error\n",
    "\n",
    "Since we cannot solve $Ax=b$ exactly, we want to find $x$ such that the **residual**\n",
    "\n",
    "$$\n",
    "r = b - Ax\n",
    "$$\n",
    "\n",
    "is as small as possible:\n",
    "\n",
    "$$\n",
    "\\min_x \\|b - Ax\\|\n",
    "$$\n",
    "\n",
    "We can consider many different norms, such as:\n",
    "\n",
    "$$\n",
    "\\|b - Ax\\|_1 = \\sum_{i=1}^m \\big| b_i - (Ax)_i \\big| = \\sum_{i=1}^m \\big| b_i - a_i^Tx \\big|\n",
    "$$\n",
    "\n",
    "$$\n",
    "\\|b - Ax\\|_2 = \\sqrt{\\sum_{i=1}^m \\big( b_i - (Ax)_i \\big)^2} = \\sqrt{\\sum_{i=1}^m \\big( b_i - a_i^Tx \\big)^2}\n",
    "$$\n",
    "\n",
    "$$\n",
    "\\|b - Ax\\|_\\infty = \\max_{1\\leq i\\leq m} \\big| b_i - (Ax)_i \\big| = \\max_{1\\leq i\\leq m} \\big| b_i - a_i^Tx \\big|\n",
    "$$\n",
    "\n",
    "\n",
    "\n"
   ]
  },
  {
   "cell_type": "markdown",
   "metadata": {},
   "source": [
    "---"
   ]
  },
  {
   "cell_type": "markdown",
   "metadata": {},
   "source": [
    "## Least squares\n",
    "\n",
    "When the error in the entries of $b$ are believed to be **identically and independently [normally distributed](https://en.wikipedia.org/wiki/Normal_distribution)** with **zero mean** and **constant variance**, the best choice is to minimize $\\|b - Ax\\|_2$. \n",
    "\n",
    "In this case, the $x$ that minimizes $\\|b - Ax\\|_2$ is the **maximum likelihood estimator** of the true solution.\n",
    "\n",
    "Minimizing $\\|b - Ax\\|_2$ is equivalent to minimizing\n",
    "\n",
    "$$\n",
    "\\|b - Ax\\|_2^2 = \\sum_{i=1}^m \\big( b_i - (Ax)_i \\big)^2.\n",
    "$$\n",
    "\n",
    "\n",
    "The $x$ that minimizes $\\|b - Ax\\|_2$ (or equivalently $\\|b - Ax\\|_2^2$) is called the **least-squares solution** because it is minimizing the **sum-of-the-squares** of the errors."
   ]
  },
  {
   "cell_type": "markdown",
   "metadata": {},
   "source": [
    "![Paranormal distribution](http://m.jech.bmj.com/content/60/1/6/embed/graphic-1.gif \"A visual comparison of normal and paranormal distributions\")\n",
    "\n",
    "<center>\n",
    "[A visual comparison of normal and paranormal distributions](http://jech.bmj.com/content/60/1/6.full) by Matthew Freeman\n",
    "</center>\n"
   ]
  },
  {
   "cell_type": "markdown",
   "metadata": {},
   "source": [
    "---"
   ]
  },
  {
   "cell_type": "markdown",
   "metadata": {},
   "source": [
    "## Solving the least-squares problem\n",
    "\n",
    "In Julia (or MATLAB), we can solve the least-squares problem\n",
    "\n",
    "$$\n",
    "\\min_x \\|b - Ax\\|_2\n",
    "$$\n",
    "\n",
    "by using the same **backslash** function that we used to solve $n \\times n$ linear systems:\n",
    "\n",
    "```julia\n",
    "x = A\\b\n",
    "```\n",
    "\n",
    "Julia will recognize that the linear system is over-determined and will use an algorithm for solving the least-squares problem that is based on the $QR$-factorization of $A$."
   ]
  },
  {
   "cell_type": "markdown",
   "metadata": {},
   "source": [
    "---\n",
    "## Example: "
   ]
  },
  {
   "cell_type": "markdown",
   "metadata": {},
   "source": [
    "Approximate the points $(x_i,y_i)$ with $i=1,2,\\ldots,10$:\n",
    "\n",
    "$$(1,1.3);\\; (2,3.5);\\; (3,4.2);\\; (4,5.0);\\; (5,7);\\; (6,8.8);\\; (7,10.1);\\; (8,12.5);\\; (9,13.0);\\; (10,15.6)$$\n",
    "\n",
    "### The approximate quadratic polynomial\n",
    "\n",
    "We let our approximation be given by\n",
    "\n",
    "$$\n",
    "p(x) = a_0 + a_1 x + a_2 x^2\n",
    "$$\n",
    "\n",
    "and we want to find the coefficients $a_0, a_1, a_2$.\n",
    "\n",
    "We want to minimize\n",
    "\n",
    "$$\n",
    "\\sum_{i=1}^{m} \\big(y_i - p(x_i)\\big)^2.\n",
    "$$\n",
    "\n",
    "The residual $y_i - p(x_i)$ can be written as\n",
    "\n",
    "$\n",
    "y_i - \\left(a_0 + a_1 x_i + a_2 x^2_i\\right) = y_i - \\begin{bmatrix} 1 & x_i & x^2_i \\end{bmatrix} \\begin{bmatrix} a_0 \\\\ a_1 \\\\ a_2 \\end{bmatrix}.\n",
    "$$"
   ]
  },
  {
   "cell_type": "markdown",
   "metadata": {},
   "source": [
    "Therefore, the $i^\\mathrm{th}$-row of the matrix $A$ is $\\begin{bmatrix} 1 & x_i & x^2_i \\end{bmatrix}$:\n",
    "\n",
    "$$\n",
    "A = \n",
    "\\begin{bmatrix} \n",
    "1 & x_1 & x^2_1 \\\\\n",
    "1 & x_2 & x^2_2 \\\\\n",
    "\\vdots&\\vdots&\\vdots\\\\\n",
    "1 & x_m & x^2_m \\\\\n",
    "\\end{bmatrix}\n",
    "$$\n",
    "\n",
    "and $b \\in \\mathbb{R}^m$ such that $b_i = y_i$ for $i = 1,2,\\ldots,m$. \n",
    "\n",
    "Then \n",
    "\n",
    "$$\n",
    "\\sum_{i=1}^m \\big(y_i - p(x_i)\\big)^2 = \\|b - Ax\\|_2^2.\n",
    "$$"
   ]
  },
  {
   "cell_type": "code",
   "execution_count": 5,
   "metadata": {},
   "outputs": [
    {
     "data": {
      "text/plain": [
       "3×3 Array{Int64,2}:\n",
       "  10    55    385\n",
       "  55   385   3025\n",
       " 385  3025  25333"
      ]
     },
     "execution_count": 5,
     "metadata": {},
     "output_type": "execute_result"
    }
   ],
   "source": [
    "A = [1 1 1; 1 2 2^2; 1 3 3^2; 1 4 4^2;1 5 5^2;\n",
    "    1 6 6^2;1 7 7^2;1 8 8^2;1 9 9^2;1 10 10^2]\n",
    "\n",
    "b = [1.3;3.5;4.2;5.0;7;8.8;10.1;12.5;13.0;15.6]\n",
    "\n",
    "## Solve the least squares problem:  min norm(b - A*x) or equivalently solve A^TA*x=A^T*b\n",
    "x = A\\b\n",
    "\n",
    "A = [1 1 1; 1 2 2^2; 1 3 3^2; 1 4 4^2;1 5 5^2;\n",
    "    1 6 6^2;1 7 7^2;1 8 8^2;1 9 9^2;1 10 10^2]\n",
    "\n",
    "A'*A"
   ]
  },
  {
   "cell_type": "code",
   "execution_count": 2,
   "metadata": {},
   "outputs": [
    {
     "data": {
      "image/png": "[encoded data removed]",
      "text/plain": [
       "PyPlot.Figure(PyObject <matplotlib.figure.Figure object at 0x12b9bae90>)"
      ]
     },
     "metadata": {},
     "output_type": "display_data"
    }
   ],
   "source": [
    "using PyPlot\n",
    "p(x) =  0.406667 + 1.15485*x + 0.0348485*x.^2\n",
    "\n",
    "m = 10\n",
    "xx = (1,2,3,4,5,6,7,8,9,10)\n",
    "tt=linspace(1, 10, m)\n",
    "\n",
    "\n",
    "yy = (1.3,3.5,4.2,5.0,7,8.8,10.1,12.5,13.0,15.6)\n",
    "plot(tt, p(tt), label=\"Least Square Solution\")\n",
    "plot(xx, yy, \"r.\", label=\"Data\")\n",
    "legend();"
   ]
  },
  {
   "cell_type": "markdown",
   "metadata": {},
   "source": [
    "### The approximating line \n",
    "\n",
    "We let our approximation be given by\n",
    "\n",
    "$$\n",
    "p(x) = a_0 + a_1 x \n",
    "$$\n",
    "\n",
    "and we want to find the coefficients $a_0, a_1$."
   ]
  },
  {
   "cell_type": "code",
   "execution_count": 3,
   "metadata": {},
   "outputs": [
    {
     "data": {
      "text/plain": [
       "2-element Array{Float64,1}:\n",
       " -0.36   \n",
       "  1.53818"
      ]
     },
     "execution_count": 3,
     "metadata": {},
     "output_type": "execute_result"
    }
   ],
   "source": [
    "A = [1 1; 1 2; 1 3; 1 4;1 5;\n",
    "    1 6;1 7;1 8;1 9;1 10]\n",
    "\n",
    "b = [1.3;3.5;4.2;5.0;7;8.8;10.1;12.5;13.0;15.6]\n",
    "\n",
    "## Solve the least squares problem:  min norm(b - A*x) or equivalently solve A^TA*x=A^T*b\n",
    "x = A\\b"
   ]
  },
  {
   "cell_type": "code",
   "execution_count": 3,
   "metadata": {},
   "outputs": [
    {
     "data": {
      "text/plain": [
       "2-element Array{Float64,1}:\n",
       " -0.36   \n",
       "  1.53818"
      ]
     },
     "execution_count": 3,
     "metadata": {},
     "output_type": "execute_result"
    }
   ],
   "source": [
    "A = [1 1; 1 2; 1 3; 1 4;1 5;\n",
    "    1 6;1 7;1 8;1 9;1 10]\n",
    "b = [1.3;3.5;4.2;5.0;7;8.8;10.1;12.5;13.0;15.6]\n",
    "A'*A\n",
    "\n",
    "c=A'*b\n",
    "#A^TA*x=A^T*b Normal Equations\n",
    "A'*A\\c"
   ]
  },
  {
   "cell_type": "code",
   "execution_count": 4,
   "metadata": {},
   "outputs": [
    {
     "data": {
      "image/png": "[encoded data removed]",
      "text/plain": [
       "PyPlot.Figure(PyObject <matplotlib.figure.Figure object at 0x1317351d0>)"
      ]
     },
     "metadata": {},
     "output_type": "display_data"
    }
   ],
   "source": [
    "using PyPlot\n",
    "p(x) =  -0.36 + 1.53818*x \n",
    "\n",
    "m = 10\n",
    "xx = (1,2,3,4,5,6,7,8,9,10)\n",
    "tt=linspace(1, 10, m)\n",
    "\n",
    "\n",
    "yy = (1.3,3.5,4.2,5.0,7,8.8,10.1,12.5,13.0,15.6)\n",
    "plot(tt, p(tt), label=\"Least Square Solution\")\n",
    "plot(xx, yy, \"r.\", label=\"Data\")\n",
    "legend();"
   ]
  },
  {
   "cell_type": "markdown",
   "metadata": {},
   "source": [
    "---"
   ]
  }
 ],
 "metadata": {
  "anaconda-cloud": {},
  "kernelspec": {
   "display_name": "Julia 0.6.0",
   "language": "julia",
   "name": "julia-0.6"
  },
  "language_info": {
   "file_extension": ".jl",
   "mimetype": "application/julia",
   "name": "julia",
   "version": "0.6.0"
  }
 },
 "nbformat": 4,
 "nbformat_minor": 1
}
